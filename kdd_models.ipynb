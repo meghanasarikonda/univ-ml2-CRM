{
 "cells": [
  {
   "cell_type": "code",
   "execution_count": 435,
   "metadata": {},
   "outputs": [],
   "source": [
    "import numpy as np\n",
    "import pandas as pd\n",
    "import scipy.stats\n",
    "import scipy.special\n",
    "import matplotlib\n",
    "import matplotlib.pyplot as plt\n",
    "import matplotlib.mlab as mlab\n",
    "from matplotlib import cm\n",
    "import seaborn as sns\n",
    "import pandas as pd\n",
    "# from sklearn.pipeline import make_pipeline, make_union, Pipeline\n",
    "from sklearn.preprocessing import StandardScaler, OrdinalEncoder\n",
    "from sklearn.metrics import mean_squared_error, accuracy_score, confusion_matrix, f1_score, classification_report\n",
    "from sklearn.ensemble import GradientBoostingRegressor\n",
    "from sklearn.model_selection import ParameterGrid\n",
    "from sklearn.tree import DecisionTreeClassifier\n",
    "from keras.models import Sequential\n",
    "from keras.models import Model as KerasModel\n",
    "from keras.layers import Input, Dense, Activation, Reshape\n",
    "from keras.layers import Concatenate\n",
    "from keras.layers.embeddings import Embedding\n",
    "from sklearn.linear_model import LogisticRegression\n",
    "from sklearn.ensemble import RandomForestClassifier\n",
    "from sklearn import linear_model\n",
    "import pickle\n",
    "import csv\n",
    "from datetime import datetime\n",
    "from sklearn import preprocessing\n",
    "from sklearn.model_selection import train_test_split, GridSearchCV\n",
    "from keras.callbacks import ModelCheckpoint\n",
    "from sklearn.metrics import roc_curve\n",
    "from sklearn.metrics import roc_auc_score\n",
    "from collections import Counter\n",
    "from imblearn.over_sampling import SMOTE\n",
    "\n",
    "%matplotlib inline"
   ]
  },
  {
   "cell_type": "code",
   "execution_count": 288,
   "metadata": {},
   "outputs": [],
   "source": [
    "data = pd.read_csv(\"/Users/shivanibalaji/Downloads/kdd_preprocessed.csv\")"
   ]
  },
  {
   "cell_type": "code",
   "execution_count": 289,
   "metadata": {},
   "outputs": [
    {
     "data": {
      "text/html": [
       "<div>\n",
       "<style scoped>\n",
       "    .dataframe tbody tr th:only-of-type {\n",
       "        vertical-align: middle;\n",
       "    }\n",
       "\n",
       "    .dataframe tbody tr th {\n",
       "        vertical-align: top;\n",
       "    }\n",
       "\n",
       "    .dataframe thead th {\n",
       "        text-align: right;\n",
       "    }\n",
       "</style>\n",
       "<table border=\"1\" class=\"dataframe\">\n",
       "  <thead>\n",
       "    <tr style=\"text-align: right;\">\n",
       "      <th></th>\n",
       "      <th>Unnamed: 0</th>\n",
       "      <th>Var6</th>\n",
       "      <th>Var7</th>\n",
       "      <th>Var13</th>\n",
       "      <th>Var21</th>\n",
       "      <th>Var24</th>\n",
       "      <th>Var28</th>\n",
       "      <th>Var35</th>\n",
       "      <th>Var38</th>\n",
       "      <th>Var44</th>\n",
       "      <th>...</th>\n",
       "      <th>Var228_b9qbUNk0dML_Mvi2</th>\n",
       "      <th>Var228_d0LtHjWeaXyArdN4sxU_saXqH</th>\n",
       "      <th>Var228_ib5G6X1eUxUn6</th>\n",
       "      <th>Var228_iyHGyLCEkQ</th>\n",
       "      <th>Var228_n1OBWGkV3fbsHR75taC</th>\n",
       "      <th>Var228_r_7E</th>\n",
       "      <th>Var228_xwM2aC7IdeMC0</th>\n",
       "      <th>appetency_labels</th>\n",
       "      <th>churn_labels</th>\n",
       "      <th>upselling_labels</th>\n",
       "    </tr>\n",
       "  </thead>\n",
       "  <tbody>\n",
       "    <tr>\n",
       "      <th>0</th>\n",
       "      <td>0</td>\n",
       "      <td>1526.000000</td>\n",
       "      <td>7.0</td>\n",
       "      <td>184.0</td>\n",
       "      <td>464.000000</td>\n",
       "      <td>14.000000</td>\n",
       "      <td>166.56</td>\n",
       "      <td>0.0</td>\n",
       "      <td>3570.0</td>\n",
       "      <td>0.0</td>\n",
       "      <td>...</td>\n",
       "      <td>0</td>\n",
       "      <td>0</td>\n",
       "      <td>0</td>\n",
       "      <td>0</td>\n",
       "      <td>0</td>\n",
       "      <td>0</td>\n",
       "      <td>0</td>\n",
       "      <td>0</td>\n",
       "      <td>0</td>\n",
       "      <td>0</td>\n",
       "    </tr>\n",
       "    <tr>\n",
       "      <th>1</th>\n",
       "      <td>1</td>\n",
       "      <td>525.000000</td>\n",
       "      <td>0.0</td>\n",
       "      <td>0.0</td>\n",
       "      <td>168.000000</td>\n",
       "      <td>2.000000</td>\n",
       "      <td>353.52</td>\n",
       "      <td>0.0</td>\n",
       "      <td>4764966.0</td>\n",
       "      <td>0.0</td>\n",
       "      <td>...</td>\n",
       "      <td>0</td>\n",
       "      <td>0</td>\n",
       "      <td>0</td>\n",
       "      <td>0</td>\n",
       "      <td>0</td>\n",
       "      <td>0</td>\n",
       "      <td>0</td>\n",
       "      <td>0</td>\n",
       "      <td>1</td>\n",
       "      <td>0</td>\n",
       "    </tr>\n",
       "    <tr>\n",
       "      <th>2</th>\n",
       "      <td>2</td>\n",
       "      <td>5236.000000</td>\n",
       "      <td>7.0</td>\n",
       "      <td>904.0</td>\n",
       "      <td>1212.000000</td>\n",
       "      <td>26.000000</td>\n",
       "      <td>220.08</td>\n",
       "      <td>0.0</td>\n",
       "      <td>5883894.0</td>\n",
       "      <td>0.0</td>\n",
       "      <td>...</td>\n",
       "      <td>0</td>\n",
       "      <td>0</td>\n",
       "      <td>1</td>\n",
       "      <td>0</td>\n",
       "      <td>0</td>\n",
       "      <td>0</td>\n",
       "      <td>0</td>\n",
       "      <td>0</td>\n",
       "      <td>0</td>\n",
       "      <td>0</td>\n",
       "    </tr>\n",
       "    <tr>\n",
       "      <th>3</th>\n",
       "      <td>3</td>\n",
       "      <td>1326.437116</td>\n",
       "      <td>0.0</td>\n",
       "      <td>0.0</td>\n",
       "      <td>234.518225</td>\n",
       "      <td>4.507926</td>\n",
       "      <td>22.08</td>\n",
       "      <td>0.0</td>\n",
       "      <td>0.0</td>\n",
       "      <td>0.0</td>\n",
       "      <td>...</td>\n",
       "      <td>0</td>\n",
       "      <td>0</td>\n",
       "      <td>0</td>\n",
       "      <td>0</td>\n",
       "      <td>0</td>\n",
       "      <td>0</td>\n",
       "      <td>0</td>\n",
       "      <td>0</td>\n",
       "      <td>0</td>\n",
       "      <td>0</td>\n",
       "    </tr>\n",
       "    <tr>\n",
       "      <th>4</th>\n",
       "      <td>4</td>\n",
       "      <td>1029.000000</td>\n",
       "      <td>7.0</td>\n",
       "      <td>3216.0</td>\n",
       "      <td>64.000000</td>\n",
       "      <td>4.000000</td>\n",
       "      <td>200.00</td>\n",
       "      <td>0.0</td>\n",
       "      <td>0.0</td>\n",
       "      <td>0.0</td>\n",
       "      <td>...</td>\n",
       "      <td>0</td>\n",
       "      <td>0</td>\n",
       "      <td>0</td>\n",
       "      <td>0</td>\n",
       "      <td>0</td>\n",
       "      <td>0</td>\n",
       "      <td>0</td>\n",
       "      <td>0</td>\n",
       "      <td>0</td>\n",
       "      <td>0</td>\n",
       "    </tr>\n",
       "  </tbody>\n",
       "</table>\n",
       "<p>5 rows × 345 columns</p>\n",
       "</div>"
      ],
      "text/plain": [
       "   Unnamed: 0         Var6  Var7   Var13        Var21      Var24   Var28  \\\n",
       "0           0  1526.000000   7.0   184.0   464.000000  14.000000  166.56   \n",
       "1           1   525.000000   0.0     0.0   168.000000   2.000000  353.52   \n",
       "2           2  5236.000000   7.0   904.0  1212.000000  26.000000  220.08   \n",
       "3           3  1326.437116   0.0     0.0   234.518225   4.507926   22.08   \n",
       "4           4  1029.000000   7.0  3216.0    64.000000   4.000000  200.00   \n",
       "\n",
       "   Var35      Var38  Var44  ...  Var228_b9qbUNk0dML_Mvi2  \\\n",
       "0    0.0     3570.0    0.0  ...                        0   \n",
       "1    0.0  4764966.0    0.0  ...                        0   \n",
       "2    0.0  5883894.0    0.0  ...                        0   \n",
       "3    0.0        0.0    0.0  ...                        0   \n",
       "4    0.0        0.0    0.0  ...                        0   \n",
       "\n",
       "   Var228_d0LtHjWeaXyArdN4sxU_saXqH  Var228_ib5G6X1eUxUn6  Var228_iyHGyLCEkQ  \\\n",
       "0                                 0                     0                  0   \n",
       "1                                 0                     0                  0   \n",
       "2                                 0                     1                  0   \n",
       "3                                 0                     0                  0   \n",
       "4                                 0                     0                  0   \n",
       "\n",
       "   Var228_n1OBWGkV3fbsHR75taC  Var228_r_7E  Var228_xwM2aC7IdeMC0  \\\n",
       "0                           0            0                     0   \n",
       "1                           0            0                     0   \n",
       "2                           0            0                     0   \n",
       "3                           0            0                     0   \n",
       "4                           0            0                     0   \n",
       "\n",
       "   appetency_labels  churn_labels  upselling_labels  \n",
       "0                 0             0                 0  \n",
       "1                 0             1                 0  \n",
       "2                 0             0                 0  \n",
       "3                 0             0                 0  \n",
       "4                 0             0                 0  \n",
       "\n",
       "[5 rows x 345 columns]"
      ]
     },
     "execution_count": 289,
     "metadata": {},
     "output_type": "execute_result"
    }
   ],
   "source": [
    "data.head()"
   ]
  },
  {
   "cell_type": "code",
   "execution_count": 290,
   "metadata": {},
   "outputs": [],
   "source": [
    "data.drop(['Unnamed: 0'], axis =1, inplace = True)"
   ]
  },
  {
   "cell_type": "markdown",
   "metadata": {},
   "source": [
    "# Churn"
   ]
  },
  {
   "cell_type": "code",
   "execution_count": 291,
   "metadata": {},
   "outputs": [],
   "source": [
    "x = data.drop(['appetency_labels', 'churn_labels', 'upselling_labels'], axis =1)\n",
    "y_churn = data['churn_labels']"
   ]
  },
  {
   "cell_type": "code",
   "execution_count": 222,
   "metadata": {},
   "outputs": [
    {
     "name": "stdout",
     "output_type": "stream",
     "text": [
      "Number transactions X_train dataset:  (40000, 341)\n",
      "Number transactions y_train dataset:  (40000,)\n",
      "Number transactions X_test dataset:  (10000, 341)\n",
      "Number transactions y_test dataset:  (10000,)\n"
     ]
    }
   ],
   "source": [
    "x_train, x_val, y_train_churn, y_val_churn = train_test_split(x, y_churn, test_size=0.2, random_state=21)"
   ]
  },
  {
   "cell_type": "code",
   "execution_count": 224,
   "metadata": {},
   "outputs": [],
   "source": [
    "s1 = x_train[y_train_churn==0]\n",
    "s2 = x_train[y_train_churn==1]\n",
    "m1 = s1.mean()\n",
    "m2 = s2.mean()\n",
    "std1 = s1.std()\n",
    "std2 = s2.std()\n",
    "n1 = len(s1)\n",
    "n2 = len(s2)"
   ]
  },
  {
   "cell_type": "code",
   "execution_count": 225,
   "metadata": {},
   "outputs": [],
   "source": [
    "t_stats = np.abs(m1-m2)/np.sqrt((std1**2/n1) + (std2**2/n2))"
   ]
  },
  {
   "cell_type": "code",
   "execution_count": 226,
   "metadata": {},
   "outputs": [],
   "source": [
    "t_stats =  abs(t_stats).sort_values(ascending = False)"
   ]
  },
  {
   "cell_type": "code",
   "execution_count": 227,
   "metadata": {},
   "outputs": [],
   "source": [
    "top15_churn = t_stats.index[:15]"
   ]
  },
  {
   "cell_type": "code",
   "execution_count": 228,
   "metadata": {},
   "outputs": [
    {
     "name": "stdout",
     "output_type": "stream",
     "text": [
      "The top 15 best predictors are\t['Var212_NhsEn4L', 'Var7', 'Var193_RO12', 'Var228_F2FyR07IdsN7I', 'Var144', 'Var113', 'Var205_sJzTlal', 'Var126', 'Var13', 'Var74', 'Var193_2Knk1KF', 'Var207_me75fM6ugJ', 'Var207_7M47J5GA0pTYIFxg5uy', 'Var227_ZI9m', 'Var227_RAYp']\n"
     ]
    }
   ],
   "source": [
    "print(\"The top 15 best predictors are\", list(top15_churn), sep = \"\\t\")"
   ]
  },
  {
   "cell_type": "code",
   "execution_count": 229,
   "metadata": {},
   "outputs": [],
   "source": [
    "x_train_new = x_train[list(top15_churn)]\n",
    "x_val_new = x_val[list(top15_churn)]"
   ]
  },
  {
   "cell_type": "markdown",
   "metadata": {},
   "source": [
    "## Base Model:Logistic Regression - Churn"
   ]
  },
  {
   "cell_type": "code",
   "execution_count": 230,
   "metadata": {},
   "outputs": [
    {
     "name": "stderr",
     "output_type": "stream",
     "text": [
      "/opt/anaconda3/lib/python3.8/site-packages/sklearn/linear_model/_logistic.py:763: ConvergenceWarning: lbfgs failed to converge (status=1):\n",
      "STOP: TOTAL NO. of ITERATIONS REACHED LIMIT.\n",
      "\n",
      "Increase the number of iterations (max_iter) or scale the data as shown in:\n",
      "    https://scikit-learn.org/stable/modules/preprocessing.html\n",
      "Please also refer to the documentation for alternative solver options:\n",
      "    https://scikit-learn.org/stable/modules/linear_model.html#logistic-regression\n",
      "  n_iter_i = _check_optimize_result(\n"
     ]
    },
    {
     "data": {
      "text/plain": [
       "LogisticRegression(random_state=21)"
      ]
     },
     "execution_count": 230,
     "metadata": {},
     "output_type": "execute_result"
    }
   ],
   "source": [
    "lreg_churn = LogisticRegression(random_state = 21)\n",
    "lreg_churn.fit(x_train_new,y_train_churn)"
   ]
  },
  {
   "cell_type": "code",
   "execution_count": 231,
   "metadata": {},
   "outputs": [],
   "source": [
    "y_train_pred_churn = lreg_churn.predict(x_train_new)\n",
    "y_val_pred_churn = lreg_churn.predict(x_val_new)"
   ]
  },
  {
   "cell_type": "code",
   "execution_count": 232,
   "metadata": {},
   "outputs": [
    {
     "name": "stdout",
     "output_type": "stream",
     "text": [
      "Train Accuracy 0.91\n",
      "Validation Accuracy 0.911\n"
     ]
    }
   ],
   "source": [
    "train_accuracy = accuracy_score(y_train_churn, y_train_pred_churn)\n",
    "validation_accuracy = accuracy_score(y_val_churn, y_val_pred_churn)\n",
    "print(\"Train Accuracy\", np.round(train_accuracy,3))\n",
    "print(\"Validation Accuracy\", np.round(validation_accuracy,3))"
   ]
  },
  {
   "cell_type": "code",
   "execution_count": 233,
   "metadata": {},
   "outputs": [
    {
     "name": "stdout",
     "output_type": "stream",
     "text": [
      "f1 score is  0.073\n"
     ]
    }
   ],
   "source": [
    "f1_churn = f1_score(y_val_churn, y_val_pred_churn)\n",
    "print(\"f1 score is \", np.round(f1_churn,3))"
   ]
  },
  {
   "cell_type": "code",
   "execution_count": 234,
   "metadata": {},
   "outputs": [
    {
     "data": {
      "image/png": "[encoded data removed]",
      "text/plain": [
       "<Figure size 288x288 with 2 Axes>"
      ]
     },
     "metadata": {
      "needs_background": "light"
     },
     "output_type": "display_data"
    }
   ],
   "source": [
    "conf_matrix = confusion_matrix(y_val_churn, y_val_pred_churn)\n",
    "plt.figure(figsize=(4, 4))\n",
    "sns.heatmap(conf_matrix,  annot=True,fmt=\"d\")\n",
    "plt.title(\"Confusion matrix\")\n",
    "plt.ylabel('True class')\n",
    "plt.xlabel('Predicted class')\n",
    "plt.show()"
   ]
  },
  {
   "cell_type": "code",
   "execution_count": 235,
   "metadata": {},
   "outputs": [],
   "source": [
    "# predict probabilities\n",
    "lreg_churn_probs = lreg_churn.predict_proba(x_val_new)\n",
    "# keep probabilities for the positive outcome only\n",
    "lreg_churn_probs = lreg_churn_probs[:, 1]\n",
    "# calculate scores\n",
    "lr_auc_churn = roc_auc_score(y_val_churn, lreg_churn_probs)"
   ]
  },
  {
   "cell_type": "code",
   "execution_count": 236,
   "metadata": {},
   "outputs": [
    {
     "name": "stdout",
     "output_type": "stream",
     "text": [
      "Logistic: ROC AUC=0.584\n"
     ]
    }
   ],
   "source": [
    "print('Logistic: ROC AUC=%.3f' % (lr_auc_churn))"
   ]
  },
  {
   "cell_type": "code",
   "execution_count": null,
   "metadata": {},
   "outputs": [],
   "source": []
  },
  {
   "cell_type": "markdown",
   "metadata": {},
   "source": [
    "## Decision Tree Model - Churn"
   ]
  },
  {
   "cell_type": "code",
   "execution_count": 244,
   "metadata": {},
   "outputs": [
    {
     "data": {
      "text/plain": [
       "DecisionTreeClassifier(class_weight='balanced', random_state=42)"
      ]
     },
     "execution_count": 244,
     "metadata": {},
     "output_type": "execute_result"
    }
   ],
   "source": [
    "DecisionTree_churn = DecisionTreeClassifier(random_state=42, class_weight = 'balanced')\n",
    "DecisionTree_churn.fit(x_train_new, y_train_churn)"
   ]
  },
  {
   "cell_type": "code",
   "execution_count": 246,
   "metadata": {},
   "outputs": [],
   "source": [
    "y_train_pred_churn_dt = DecisionTree_churn.predict(x_train_new)\n",
    "y_val_pred_churn_dt = DecisionTree_churn.predict(x_val_new)"
   ]
  },
  {
   "cell_type": "code",
   "execution_count": 247,
   "metadata": {},
   "outputs": [
    {
     "name": "stdout",
     "output_type": "stream",
     "text": [
      "Train Accuracy 0.997\n",
      "Validation Accuracy 0.867\n"
     ]
    }
   ],
   "source": [
    "train_accuracy = accuracy_score(y_train_churn, y_train_pred_churn_dt)\n",
    "validation_accuracy = accuracy_score(y_val_churn, y_val_pred_churn_dt)\n",
    "print(\"Train Accuracy\", np.round(train_accuracy,3))\n",
    "print(\"Validation Accuracy\", np.round(validation_accuracy,3))"
   ]
  },
  {
   "cell_type": "code",
   "execution_count": 248,
   "metadata": {},
   "outputs": [
    {
     "name": "stdout",
     "output_type": "stream",
     "text": [
      "f1 score is  0.121\n"
     ]
    }
   ],
   "source": [
    "f1_churn_dt = f1_score(y_val_churn, y_val_pred_churn_dt)\n",
    "print(\"f1 score is \", np.round(f1_churn_dt,3))"
   ]
  },
  {
   "cell_type": "code",
   "execution_count": 249,
   "metadata": {},
   "outputs": [
    {
     "data": {
      "image/png": "[encoded data removed]",
      "text/plain": [
       "<Figure size 288x288 with 2 Axes>"
      ]
     },
     "metadata": {
      "needs_background": "light"
     },
     "output_type": "display_data"
    }
   ],
   "source": [
    "conf_matrix = confusion_matrix(y_val_churn, y_val_pred_churn_dt)\n",
    "plt.figure(figsize=(4, 4))\n",
    "sns.heatmap(conf_matrix,  annot=True,fmt=\"d\")\n",
    "plt.title(\"Confusion matrix\")\n",
    "plt.ylabel('True class')\n",
    "plt.xlabel('Predicted class')\n",
    "plt.show()"
   ]
  },
  {
   "cell_type": "code",
   "execution_count": 250,
   "metadata": {},
   "outputs": [],
   "source": [
    "dt_churn_probs = DecisionTree_churn.predict_proba(x_val_new)\n",
    "dt_churn_probs = dt_churn_probs[:, 1]\n",
    "\n",
    "# calculate scores\n",
    "dt_auc_churn = roc_auc_score(y_val_churn, dt_churn_probs)"
   ]
  },
  {
   "cell_type": "code",
   "execution_count": 431,
   "metadata": {},
   "outputs": [
    {
     "name": "stdout",
     "output_type": "stream",
     "text": [
      "ROC AUC=0.526\n"
     ]
    }
   ],
   "source": [
    "print('ROC AUC=%.3f' % (dt_auc_churn))"
   ]
  },
  {
   "cell_type": "code",
   "execution_count": 441,
   "metadata": {},
   "outputs": [
    {
     "name": "stdout",
     "output_type": "stream",
     "text": [
      "              precision    recall  f1-score   support\n",
      "\n",
      "           0       1.00      1.00      1.00     37038\n",
      "           1       0.96      1.00      0.98      2962\n",
      "\n",
      "    accuracy                           1.00     40000\n",
      "   macro avg       0.98      1.00      0.99     40000\n",
      "weighted avg       1.00      1.00      1.00     40000\n",
      "\n"
     ]
    }
   ],
   "source": [
    "print(classification_report(y_train_churn,y_train_pred_churn_dt ))"
   ]
  },
  {
   "cell_type": "code",
   "execution_count": 442,
   "metadata": {},
   "outputs": [
    {
     "name": "stdout",
     "output_type": "stream",
     "text": [
      "              precision    recall  f1-score   support\n",
      "\n",
      "           0       0.93      0.92      0.93      9290\n",
      "           1       0.11      0.13      0.12       710\n",
      "\n",
      "    accuracy                           0.87     10000\n",
      "   macro avg       0.52      0.53      0.52     10000\n",
      "weighted avg       0.87      0.87      0.87     10000\n",
      "\n"
     ]
    }
   ],
   "source": [
    "print(classification_report(y_val_churn,y_val_pred_churn_dt ))"
   ]
  },
  {
   "cell_type": "markdown",
   "metadata": {},
   "source": [
    "# Decision Tree: Pruned - Churn"
   ]
  },
  {
   "cell_type": "code",
   "execution_count": 254,
   "metadata": {},
   "outputs": [],
   "source": [
    "path= DecisionTree_churn.cost_complexity_pruning_path(x_train_new, y_train_churn)\n",
    " \n",
    "#Get the alpha and impurity values for the tree\n",
    "ccp_alphas= path.ccp_alphas\n",
    "impurities = path.impurities"
   ]
  },
  {
   "cell_type": "code",
   "execution_count": 255,
   "metadata": {},
   "outputs": [],
   "source": [
    "DT_alphas = []\n",
    "#your code here\n",
    "\n",
    "ccp_alphas = ccp_alphas[:-1]\n",
    "\n",
    "dtree_models=[]\n",
    "for ccp_alpha in ccp_alphas:\n",
    "    dtree = DecisionTreeClassifier(ccp_alpha = ccp_alpha, random_state = 1, class_weight = 'balanced')\n",
    "    dtree.fit(x_train_new, y_train_churn)\n",
    "    dtree_models.append(dtree)\n"
   ]
  },
  {
   "cell_type": "code",
   "execution_count": 292,
   "metadata": {},
   "outputs": [],
   "source": [
    "train_scores = [roc_auc_score(y_train_churn, x.predict_proba(x_train_new)[:, 1]) for x in dtree_models]\n",
    "\n",
    "test_scores = [roc_auc_score(y_val_churn, x.predict_proba(x_val_new)[:, 1]) for x in dtree_models]\n"
   ]
  },
  {
   "cell_type": "code",
   "execution_count": 303,
   "metadata": {},
   "outputs": [
    {
     "data": {
      "image/png": "[encoded data removed]",
      "text/plain": [
       "<Figure size 432x288 with 1 Axes>"
      ]
     },
     "metadata": {
      "needs_background": "light"
     },
     "output_type": "display_data"
    }
   ],
   "source": [
    "#Plot the train and test scores vs. the alpha\n",
    "plt.xlabel(\"Alpha\", fontsize = 14)\n",
    "plt.ylabel(\"AUC\", fontsize = 14)\n",
    "plt.title(\"AUC vs alpha for training and testing sets\", fontsize = 18)\n",
    "plt.plot(ccp_alphas, train_scores, drawstyle=\"steps-post\", marker='o')\n",
    "plt.plot(ccp_alphas, test_scores, drawstyle=\"steps-post\", marker='o')\n",
    "plt.legend(['Train', 'Test'])\n",
    "plt.show()"
   ]
  },
  {
   "cell_type": "code",
   "execution_count": 294,
   "metadata": {},
   "outputs": [],
   "source": [
    "score = pd.DataFrame(list(zip(train_scores, test_scores, ccp_alphas)), \n",
    "               columns =['train', 'test', 'alpha'])"
   ]
  },
  {
   "cell_type": "code",
   "execution_count": 295,
   "metadata": {},
   "outputs": [
    {
     "data": {
      "text/plain": [
       "0.0"
      ]
     },
     "execution_count": 295,
     "metadata": {},
     "output_type": "execute_result"
    }
   ],
   "source": [
    "best_index = score.test.idxmax()\n",
    "best_alpha = score.alpha[best_index]\n",
    "np.round(best_alpha,3)"
   ]
  },
  {
   "cell_type": "code",
   "execution_count": 296,
   "metadata": {},
   "outputs": [
    {
     "data": {
      "text/plain": [
       "DecisionTreeClassifier(ccp_alpha=0.00047940524063439655,\n",
       "                       class_weight='balanced', random_state=21)"
      ]
     },
     "execution_count": 296,
     "metadata": {},
     "output_type": "execute_result"
    }
   ],
   "source": [
    "dt_test= DecisionTreeClassifier(ccp_alpha = best_alpha, random_state = 21, class_weight = 'balanced')\n",
    "dt_test.fit(x_train_new, y_train_churn)"
   ]
  },
  {
   "cell_type": "code",
   "execution_count": 297,
   "metadata": {},
   "outputs": [],
   "source": [
    "y_predicted_train_alpha = dt_test.predict(x_train_new)\n",
    "y_predicted_val_alpha = dt_test.predict(x_val_new)"
   ]
  },
  {
   "cell_type": "code",
   "execution_count": 298,
   "metadata": {},
   "outputs": [
    {
     "name": "stdout",
     "output_type": "stream",
     "text": [
      "Train Accuracy 0.562\n",
      "Validation Accuracy 0.551\n"
     ]
    }
   ],
   "source": [
    "train_accuracy = accuracy_score(y_train_churn, y_predicted_train_alpha)\n",
    "validation_accuracy = accuracy_score(y_val_churn, y_predicted_val_alpha)\n",
    "print(\"Train Accuracy\", np.round(train_accuracy,3))\n",
    "print(\"Validation Accuracy\", np.round(validation_accuracy,3))"
   ]
  },
  {
   "cell_type": "code",
   "execution_count": 299,
   "metadata": {},
   "outputs": [
    {
     "name": "stdout",
     "output_type": "stream",
     "text": [
      "f1 score is  0.19\n"
     ]
    }
   ],
   "source": [
    "f1_churn_dt = f1_score(y_val_churn, y_predicted_val_alpha)\n",
    "print(\"f1 score is \", np.round(f1_churn_dt,3))"
   ]
  },
  {
   "cell_type": "code",
   "execution_count": 300,
   "metadata": {},
   "outputs": [
    {
     "data": {
      "image/png": "[encoded data removed]",
      "text/plain": [
       "<Figure size 288x288 with 2 Axes>"
      ]
     },
     "metadata": {
      "needs_background": "light"
     },
     "output_type": "display_data"
    }
   ],
   "source": [
    "conf_matrix = confusion_matrix(y_val_churn, y_predicted_val_alpha)\n",
    "plt.figure(figsize=(4, 4))\n",
    "sns.heatmap(conf_matrix,  annot=True,fmt=\"d\")\n",
    "plt.title(\"Confusion matrix\")\n",
    "plt.ylabel('True class')\n",
    "plt.xlabel('Predicted class')\n",
    "plt.show()"
   ]
  },
  {
   "cell_type": "code",
   "execution_count": 301,
   "metadata": {},
   "outputs": [],
   "source": [
    "dt_churn_probs_alpha = dt_test.predict_proba(x_val_new)\n",
    "dt_churn_probs_alpha = dt_churn_probs_alpha[:, 1]\n",
    "\n",
    "# calculate scores\n",
    "dt_auc_churn_alpha = roc_auc_score(y_val_churn, dt_churn_probs_alpha)"
   ]
  },
  {
   "cell_type": "code",
   "execution_count": 432,
   "metadata": {},
   "outputs": [
    {
     "name": "stdout",
     "output_type": "stream",
     "text": [
      "ROC AUC=0.704\n"
     ]
    }
   ],
   "source": [
    "print('ROC AUC=%.3f' % (dt_auc_churn_alpha))"
   ]
  },
  {
   "cell_type": "code",
   "execution_count": 439,
   "metadata": {},
   "outputs": [
    {
     "name": "stdout",
     "output_type": "stream",
     "text": [
      "              precision    recall  f1-score   support\n",
      "\n",
      "           0       0.96      0.55      0.70     37038\n",
      "           1       0.12      0.74      0.20      2962\n",
      "\n",
      "    accuracy                           0.56     40000\n",
      "   macro avg       0.54      0.64      0.45     40000\n",
      "weighted avg       0.90      0.56      0.66     40000\n",
      "\n"
     ]
    }
   ],
   "source": [
    "print(classification_report(y_train_churn,y_predicted_train_alpha ))"
   ]
  },
  {
   "cell_type": "code",
   "execution_count": 440,
   "metadata": {},
   "outputs": [
    {
     "name": "stdout",
     "output_type": "stream",
     "text": [
      "              precision    recall  f1-score   support\n",
      "\n",
      "           0       0.96      0.54      0.69      9290\n",
      "           1       0.11      0.74      0.19       710\n",
      "\n",
      "    accuracy                           0.55     10000\n",
      "   macro avg       0.54      0.64      0.44     10000\n",
      "weighted avg       0.90      0.55      0.65     10000\n",
      "\n"
     ]
    }
   ],
   "source": [
    "print(classification_report(y_val_churn,y_predicted_val_alpha ))"
   ]
  },
  {
   "cell_type": "markdown",
   "metadata": {},
   "source": [
    "## Pruning Single Decision Tree by Depth"
   ]
  },
  {
   "cell_type": "code",
   "execution_count": 304,
   "metadata": {},
   "outputs": [],
   "source": [
    "from sklearn.model_selection import cross_val_score "
   ]
  },
  {
   "cell_type": "code",
   "execution_count": 492,
   "metadata": {},
   "outputs": [],
   "source": [
    "auc_scores = []\n",
    "cv_scores_list = []\n",
    "depth, tree_start, tree_end = [40, 42, 44, 46, 48, 50, 52, 54, 56, 58], 0, 10 #Testing different depths to find best depth\n",
    "for i in range(tree_start, tree_end):\n",
    "    tree_model = DecisionTreeClassifier(max_depth=depth[i], min_samples_split=10, class_weight = 'balanced')\n",
    "    cv_scores = cross_val_score(tree_model, x_train_new, y_train_churn, cv=5, scoring=\"roc_auc\")\n",
    "    cv_scores_list.append(cv_scores.mean())\n",
    "    tree_model.fit(x_train_new, y_train_churn)\n",
    "    auc_scores.append(roc_auc_score(y_train_churn, tree_model.predict_proba(x_train_new)[:, 1]))\n",
    "\n",
    "cv_scores_list = np.array(cv_scores_list)\n",
    "auc_scores = np.array(auc_scores)\n"
   ]
  },
  {
   "cell_type": "code",
   "execution_count": 493,
   "metadata": {},
   "outputs": [
    {
     "data": {
      "text/plain": [
       "8"
      ]
     },
     "execution_count": 493,
     "metadata": {},
     "output_type": "execute_result"
    }
   ],
   "source": [
    "np.argmax(cv_scores_list)"
   ]
  },
  {
   "cell_type": "code",
   "execution_count": 494,
   "metadata": {},
   "outputs": [
    {
     "data": {
      "text/plain": [
       "0.5473971757879124"
      ]
     },
     "execution_count": 494,
     "metadata": {},
     "output_type": "execute_result"
    }
   ],
   "source": [
    "max(cv_scores_list)"
   ]
  },
  {
   "cell_type": "code",
   "execution_count": 495,
   "metadata": {},
   "outputs": [
    {
     "data": {
      "image/png": "[encoded data removed]",
      "text/plain": [
       "<Figure size 1080x360 with 1 Axes>"
      ]
     },
     "metadata": {
      "needs_background": "light"
     },
     "output_type": "display_data"
    }
   ],
   "source": [
    "fig, ax = plt.subplots(1,1, figsize=(15,5))\n",
    "ax.plot(depth, cv_scores_list, '-o', label='mean cross-validation AUC', alpha=0.9)\n",
    "ax.set_title(\"Visualising how depth affects AUC\", fontsize=18)\n",
    "ax.set_xlabel('Tree depth', fontsize=14)\n",
    "ax.set_ylabel('AUC', fontsize=14)\n",
    "ax.legend()\n",
    "\n",
    "plt.show()"
   ]
  },
  {
   "cell_type": "code",
   "execution_count": 496,
   "metadata": {},
   "outputs": [
    {
     "data": {
      "text/plain": [
       "56"
      ]
     },
     "execution_count": 496,
     "metadata": {},
     "output_type": "execute_result"
    }
   ],
   "source": [
    "best_depth =  depth[np.argmax(cv_scores_list)]\n",
    "best_depth"
   ]
  },
  {
   "cell_type": "markdown",
   "metadata": {},
   "source": [
    "## DT Max depth"
   ]
  },
  {
   "cell_type": "code",
   "execution_count": 497,
   "metadata": {},
   "outputs": [],
   "source": [
    "#fit the model\n",
    "DT_max_depth = DecisionTreeClassifier(max_depth= best_depth, min_samples_split=10, random_state = 21, class_weight = 'balanced')"
   ]
  },
  {
   "cell_type": "code",
   "execution_count": 498,
   "metadata": {},
   "outputs": [],
   "source": [
    "#Performance\n",
    "DT_max_depth.fit(x_train_new, y_train_churn)\n",
    "y_pred_val_depth = DT_max_depth.predict(x_val_new)\n",
    "y_pred_train_depth = DT_max_depth.predict(x_train_new)"
   ]
  },
  {
   "cell_type": "code",
   "execution_count": 499,
   "metadata": {},
   "outputs": [
    {
     "name": "stdout",
     "output_type": "stream",
     "text": [
      "Train Accuracy 0.913\n",
      "Validation Accuracy 0.8\n"
     ]
    }
   ],
   "source": [
    "train_accuracy = accuracy_score(y_train_churn, y_pred_train_depth)\n",
    "validation_accuracy = accuracy_score(y_val_churn, y_pred_val_depth)\n",
    "print(\"Train Accuracy\", np.round(train_accuracy,3))\n",
    "print(\"Validation Accuracy\", np.round(validation_accuracy,3))"
   ]
  },
  {
   "cell_type": "code",
   "execution_count": 500,
   "metadata": {},
   "outputs": [
    {
     "name": "stdout",
     "output_type": "stream",
     "text": [
      "f1 score is  0.147\n"
     ]
    }
   ],
   "source": [
    "f1_churn_dt = f1_score(y_val_churn, y_pred_val_depth)\n",
    "print(\"f1 score is \", np.round(f1_churn_dt,3))"
   ]
  },
  {
   "cell_type": "code",
   "execution_count": 501,
   "metadata": {},
   "outputs": [
    {
     "data": {
      "image/png": "[encoded data removed]",
      "text/plain": [
       "<Figure size 288x288 with 2 Axes>"
      ]
     },
     "metadata": {
      "needs_background": "light"
     },
     "output_type": "display_data"
    }
   ],
   "source": [
    "conf_matrix = confusion_matrix(y_val_churn, y_pred_val_depth)\n",
    "plt.figure(figsize=(4, 4))\n",
    "sns.heatmap(conf_matrix,  annot=True,fmt=\"d\")\n",
    "plt.title(\"Confusion matrix\")\n",
    "plt.ylabel('True class')\n",
    "plt.xlabel('Predicted class')\n",
    "plt.show()"
   ]
  },
  {
   "cell_type": "code",
   "execution_count": 502,
   "metadata": {},
   "outputs": [],
   "source": [
    "dt_churn_probs_depth = DT_max_depth.predict_proba(x_val_new)\n",
    "dt_churn_probs_depth = dt_churn_probs_depth[:, 1]\n",
    "\n",
    "# calculate scores\n",
    "dt_auc_churn_depth = roc_auc_score(y_val_churn, dt_churn_probs_depth)"
   ]
  },
  {
   "cell_type": "code",
   "execution_count": 503,
   "metadata": {},
   "outputs": [
    {
     "name": "stdout",
     "output_type": "stream",
     "text": [
      "ROC AUC=0.544\n"
     ]
    }
   ],
   "source": [
    "print('ROC AUC=%.3f' % (dt_auc_churn_depth))"
   ]
  },
  {
   "cell_type": "code",
   "execution_count": 504,
   "metadata": {},
   "outputs": [
    {
     "name": "stdout",
     "output_type": "stream",
     "text": [
      "              precision    recall  f1-score   support\n",
      "\n",
      "           0       1.00      0.91      0.95     37038\n",
      "           1       0.46      1.00      0.63      2962\n",
      "\n",
      "    accuracy                           0.91     40000\n",
      "   macro avg       0.73      0.95      0.79     40000\n",
      "weighted avg       0.96      0.91      0.93     40000\n",
      "\n"
     ]
    }
   ],
   "source": [
    "print(classification_report(y_train_churn,y_pred_train_depth ))"
   ]
  },
  {
   "cell_type": "code",
   "execution_count": 505,
   "metadata": {},
   "outputs": [
    {
     "name": "stdout",
     "output_type": "stream",
     "text": [
      "              precision    recall  f1-score   support\n",
      "\n",
      "           0       0.94      0.84      0.89      9290\n",
      "           1       0.11      0.24      0.15       710\n",
      "\n",
      "    accuracy                           0.80     10000\n",
      "   macro avg       0.52      0.54      0.52     10000\n",
      "weighted avg       0.88      0.80      0.83     10000\n",
      "\n"
     ]
    }
   ],
   "source": [
    "print(classification_report(y_val_churn,y_pred_val_depth ))"
   ]
  },
  {
   "cell_type": "code",
   "execution_count": null,
   "metadata": {},
   "outputs": [],
   "source": []
  }
 ],
 "metadata": {
  "kernelspec": {
   "display_name": "Python 3",
   "language": "python",
   "name": "python3"
  },
  "language_info": {
   "codemirror_mode": {
    "name": "ipython",
    "version": 3
   },
   "file_extension": ".py",
   "mimetype": "text/x-python",
   "name": "python",
   "nbconvert_exporter": "python",
   "pygments_lexer": "ipython3",
   "version": "3.8.5"
  }
 },
 "nbformat": 4,
 "nbformat_minor": 5
}
