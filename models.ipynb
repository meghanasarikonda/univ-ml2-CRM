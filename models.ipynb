{
  "nbformat": 4,
  "nbformat_minor": 0,
  "metadata": {
    "colab": {
      "name": "modeling.ipynb",
      "provenance": [],
      "collapsed_sections": []
    },
    "kernelspec": {
      "name": "python3",
      "display_name": "Python 3"
    },
    "language_info": {
      "name": "python"
    }
  },
  "cells": [
    {
      "cell_type": "code",
      "metadata": {
        "id": "N4ESeQOG0PzB"
      },
      "source": [
        "#importing libraries\n",
        "import numpy as np\n",
        "import scipy.stats\n",
        "import scipy.special\n",
        "import matplotlib\n",
        "import matplotlib.pyplot as plt\n",
        "import matplotlib.mlab as mlab\n",
        "from matplotlib import cm\n",
        "import seaborn as sns\n",
        "import pandas as pd\n",
        "# from sklearn.pipeline import make_pipeline, make_union, Pipeline\n",
        "from imblearn.pipeline import make_pipeline\n",
        "from sklearn.preprocessing import StandardScaler, OrdinalEncoder\n",
        "from sklearn.metrics import mean_squared_error, accuracy_score, confusion_matrix, f1_score, classification_report\n",
        "from sklearn.ensemble import GradientBoostingRegressor\n",
        "from sklearn.model_selection import ParameterGrid\n",
        "from sklearn.tree import DecisionTreeClassifier\n",
        "from keras.models import Sequential\n",
        "from keras.models import Model as KerasModel\n",
        "from keras.layers import Input, Dense, Activation, Reshape\n",
        "from keras.layers import Concatenate\n",
        "from keras.layers.embeddings import Embedding\n",
        "from sklearn.linear_model import LogisticRegression\n",
        "from sklearn.ensemble import RandomForestClassifier\n",
        "from sklearn.inspection import plot_partial_dependence, permutation_importance\n",
        "from sklearn import linear_model\n",
        "import pickle\n",
        "import csv\n",
        "from datetime import datetime\n",
        "from sklearn import preprocessing\n",
        "from sklearn.model_selection import train_test_split, GridSearchCV\n",
        "from keras.callbacks import ModelCheckpoint\n",
        "import xgboost as xgb\n",
        "from sklearn.metrics import roc_curve\n",
        "from sklearn.metrics import roc_auc_score\n",
        "%matplotlib inline\n",
        "import warnings \n",
        "warnings.filterwarnings(\"ignore\")"
      ],
      "execution_count": 117,
      "outputs": []
    },
    {
      "cell_type": "code",
      "metadata": {
        "id": "p9j9R3sU800D"
      },
      "source": [
        "from sklearn.preprocessing import LabelEncoder,OneHotEncoder\n",
        "import bisect\n",
        "from scipy.sparse import hstack"
      ],
      "execution_count": 52,
      "outputs": []
    },
    {
      "cell_type": "markdown",
      "metadata": {
        "id": "aYzQ-Puo-yeo"
      },
      "source": [
        "# New Section"
      ]
    },
    {
      "cell_type": "code",
      "metadata": {
        "id": "WG9Xtdmu0UP_",
        "colab": {
          "base_uri": "https://localhost:8080/"
        },
        "outputId": "dfd1498b-30b6-48b5-c2e6-061d417fa0f4"
      },
      "source": [
        "from google.colab import drive\n",
        "drive.mount('/content/drive')"
      ],
      "execution_count": 53,
      "outputs": [
        {
          "output_type": "stream",
          "text": [
            "Drive already mounted at /content/drive; to attempt to forcibly remount, call drive.mount(\"/content/drive\", force_remount=True).\n"
          ],
          "name": "stdout"
        }
      ]
    },
    {
      "cell_type": "code",
      "metadata": {
        "id": "FGu4lYj20nM2"
      },
      "source": [
        "df = pd.read_csv('/content/drive/MyDrive/ml2-project/kdd_preprocessed.csv')"
      ],
      "execution_count": 54,
      "outputs": []
    },
    {
      "cell_type": "code",
      "metadata": {
        "colab": {
          "base_uri": "https://localhost:8080/",
          "height": 270
        },
        "id": "99iBpVvR1FAf",
        "outputId": "5a3e9452-3070-4310-f0f1-e5e563e3d3d5"
      },
      "source": [
        "df.head()"
      ],
      "execution_count": 55,
      "outputs": [
        {
          "output_type": "execute_result",
          "data": {
            "text/html": [
              "<div>\n",
              "<style scoped>\n",
              "    .dataframe tbody tr th:only-of-type {\n",
              "        vertical-align: middle;\n",
              "    }\n",
              "\n",
              "    .dataframe tbody tr th {\n",
              "        vertical-align: top;\n",
              "    }\n",
              "\n",
              "    .dataframe thead th {\n",
              "        text-align: right;\n",
              "    }\n",
              "</style>\n",
              "<table border=\"1\" class=\"dataframe\">\n",
              "  <thead>\n",
              "    <tr style=\"text-align: right;\">\n",
              "      <th></th>\n",
              "      <th>Unnamed: 0</th>\n",
              "      <th>Var6</th>\n",
              "      <th>Var7</th>\n",
              "      <th>Var13</th>\n",
              "      <th>Var21</th>\n",
              "      <th>Var24</th>\n",
              "      <th>Var28</th>\n",
              "      <th>Var35</th>\n",
              "      <th>Var38</th>\n",
              "      <th>Var44</th>\n",
              "      <th>Var57</th>\n",
              "      <th>Var65</th>\n",
              "      <th>Var74</th>\n",
              "      <th>Var76</th>\n",
              "      <th>Var78</th>\n",
              "      <th>Var81</th>\n",
              "      <th>Var83</th>\n",
              "      <th>Var85</th>\n",
              "      <th>Var109</th>\n",
              "      <th>Var112</th>\n",
              "      <th>Var113</th>\n",
              "      <th>Var119</th>\n",
              "      <th>Var125</th>\n",
              "      <th>Var126</th>\n",
              "      <th>Var132</th>\n",
              "      <th>Var133</th>\n",
              "      <th>Var134</th>\n",
              "      <th>Var140</th>\n",
              "      <th>Var143</th>\n",
              "      <th>Var144</th>\n",
              "      <th>Var149</th>\n",
              "      <th>Var153</th>\n",
              "      <th>Var163</th>\n",
              "      <th>Var173</th>\n",
              "      <th>Var181</th>\n",
              "      <th>Var193_2Knk1KF</th>\n",
              "      <th>Var193_2wnefc9ISdLjfQoAYBI</th>\n",
              "      <th>Var193_5QKIjwyXr4MCZTEp7uAkS8PtBLcn</th>\n",
              "      <th>Var193_8kO9LslBGNXoLvWEuN6tPuN59TdYxfL9Sm6oU</th>\n",
              "      <th>Var193_9U2tunPAje3TwfLLUQxzM3dC1ghn</th>\n",
              "      <th>...</th>\n",
              "      <th>Var227_02N6s8f</th>\n",
              "      <th>Var227_6fzt</th>\n",
              "      <th>Var227_RAYp</th>\n",
              "      <th>Var227_ZI9m</th>\n",
              "      <th>Var227_nIGXDli</th>\n",
              "      <th>Var227_nIGjgSB</th>\n",
              "      <th>Var227_vJ_w8kB</th>\n",
              "      <th>Var228_0pzBWGkV3fbsGZN52DH</th>\n",
              "      <th>Var228_4rd_</th>\n",
              "      <th>Var228_55YFVY9</th>\n",
              "      <th>Var228_5oZS</th>\n",
              "      <th>Var228_6nxx00q6gnIF8ePJ3P3AEfZ1N</th>\n",
              "      <th>Var228_9VmiOykV3fbsAg65e4w</th>\n",
              "      <th>Var228_DU8B</th>\n",
              "      <th>Var228_F2FcTt7IdMT_v</th>\n",
              "      <th>Var228_F2FyR07IdsN7I</th>\n",
              "      <th>Var228_JnGLH58smNxIYcGK39k</th>\n",
              "      <th>Var228_NoEd</th>\n",
              "      <th>Var228_R4y5gQQWY8OodqDV</th>\n",
              "      <th>Var228_RjBDiL8f9CQYc21fICscNNpj6</th>\n",
              "      <th>Var228_SbOd7O8ky1wGNxp0Arj0Xs</th>\n",
              "      <th>Var228_TCU50_Yjmm6GIBZ0lL_</th>\n",
              "      <th>Var228_VjDE</th>\n",
              "      <th>Var228_WfJ2BB2SFSqauljlfOB</th>\n",
              "      <th>Var228_WfJYmPMksSqa1pajvfG</th>\n",
              "      <th>Var228_ZeaF</th>\n",
              "      <th>Var228_Zy3gnGM</th>\n",
              "      <th>Var228__URKn_77G3QyQHSVQ2N1RKmtW</th>\n",
              "      <th>Var228__cTCyH95OE93jSkoIBT</th>\n",
              "      <th>Var228_am14IcfM7tWLrUmRT52KtA</th>\n",
              "      <th>Var228_b9qbUNk0dML_Mvi2</th>\n",
              "      <th>Var228_d0LtHjWeaXyArdN4sxU_saXqH</th>\n",
              "      <th>Var228_ib5G6X1eUxUn6</th>\n",
              "      <th>Var228_iyHGyLCEkQ</th>\n",
              "      <th>Var228_n1OBWGkV3fbsHR75taC</th>\n",
              "      <th>Var228_r_7E</th>\n",
              "      <th>Var228_xwM2aC7IdeMC0</th>\n",
              "      <th>appetency_labels</th>\n",
              "      <th>churn_labels</th>\n",
              "      <th>upselling_labels</th>\n",
              "    </tr>\n",
              "  </thead>\n",
              "  <tbody>\n",
              "    <tr>\n",
              "      <th>0</th>\n",
              "      <td>0</td>\n",
              "      <td>1526.000000</td>\n",
              "      <td>7.0</td>\n",
              "      <td>184.0</td>\n",
              "      <td>464.000000</td>\n",
              "      <td>14.000000</td>\n",
              "      <td>166.56</td>\n",
              "      <td>0.0</td>\n",
              "      <td>3570.0</td>\n",
              "      <td>0.0</td>\n",
              "      <td>4.076907</td>\n",
              "      <td>9.0</td>\n",
              "      <td>35.0</td>\n",
              "      <td>1350864.0</td>\n",
              "      <td>0.0</td>\n",
              "      <td>7333.110000</td>\n",
              "      <td>5.0</td>\n",
              "      <td>12.0</td>\n",
              "      <td>104.00000</td>\n",
              "      <td>168.0</td>\n",
              "      <td>117625.60</td>\n",
              "      <td>1175.000000</td>\n",
              "      <td>720.0</td>\n",
              "      <td>8.00000</td>\n",
              "      <td>0.0</td>\n",
              "      <td>1212385.0</td>\n",
              "      <td>69134.0</td>\n",
              "      <td>185.0</td>\n",
              "      <td>0.0</td>\n",
              "      <td>9.000000</td>\n",
              "      <td>397579.000000</td>\n",
              "      <td>1812252.0</td>\n",
              "      <td>38418.0</td>\n",
              "      <td>0.0</td>\n",
              "      <td>0.0</td>\n",
              "      <td>0</td>\n",
              "      <td>0</td>\n",
              "      <td>0</td>\n",
              "      <td>0</td>\n",
              "      <td>0</td>\n",
              "      <td>...</td>\n",
              "      <td>0</td>\n",
              "      <td>0</td>\n",
              "      <td>1</td>\n",
              "      <td>0</td>\n",
              "      <td>0</td>\n",
              "      <td>0</td>\n",
              "      <td>0</td>\n",
              "      <td>0</td>\n",
              "      <td>0</td>\n",
              "      <td>0</td>\n",
              "      <td>0</td>\n",
              "      <td>0</td>\n",
              "      <td>0</td>\n",
              "      <td>0</td>\n",
              "      <td>0</td>\n",
              "      <td>1</td>\n",
              "      <td>0</td>\n",
              "      <td>0</td>\n",
              "      <td>0</td>\n",
              "      <td>0</td>\n",
              "      <td>0</td>\n",
              "      <td>0</td>\n",
              "      <td>0</td>\n",
              "      <td>0</td>\n",
              "      <td>0</td>\n",
              "      <td>0</td>\n",
              "      <td>0</td>\n",
              "      <td>0</td>\n",
              "      <td>0</td>\n",
              "      <td>0</td>\n",
              "      <td>0</td>\n",
              "      <td>0</td>\n",
              "      <td>0</td>\n",
              "      <td>0</td>\n",
              "      <td>0</td>\n",
              "      <td>0</td>\n",
              "      <td>0</td>\n",
              "      <td>0</td>\n",
              "      <td>0</td>\n",
              "      <td>0</td>\n",
              "    </tr>\n",
              "    <tr>\n",
              "      <th>1</th>\n",
              "      <td>1</td>\n",
              "      <td>525.000000</td>\n",
              "      <td>0.0</td>\n",
              "      <td>0.0</td>\n",
              "      <td>168.000000</td>\n",
              "      <td>2.000000</td>\n",
              "      <td>353.52</td>\n",
              "      <td>0.0</td>\n",
              "      <td>4764966.0</td>\n",
              "      <td>0.0</td>\n",
              "      <td>5.408032</td>\n",
              "      <td>9.0</td>\n",
              "      <td>0.0</td>\n",
              "      <td>2872928.0</td>\n",
              "      <td>3.0</td>\n",
              "      <td>151098.900000</td>\n",
              "      <td>25.0</td>\n",
              "      <td>2.0</td>\n",
              "      <td>40.00000</td>\n",
              "      <td>40.0</td>\n",
              "      <td>-356411.60</td>\n",
              "      <td>590.000000</td>\n",
              "      <td>0.0</td>\n",
              "      <td>-0.55388</td>\n",
              "      <td>8.0</td>\n",
              "      <td>4136430.0</td>\n",
              "      <td>357038.0</td>\n",
              "      <td>0.0</td>\n",
              "      <td>0.0</td>\n",
              "      <td>9.000000</td>\n",
              "      <td>278334.000000</td>\n",
              "      <td>10439160.0</td>\n",
              "      <td>238572.0</td>\n",
              "      <td>0.0</td>\n",
              "      <td>0.0</td>\n",
              "      <td>0</td>\n",
              "      <td>0</td>\n",
              "      <td>0</td>\n",
              "      <td>0</td>\n",
              "      <td>0</td>\n",
              "      <td>...</td>\n",
              "      <td>0</td>\n",
              "      <td>0</td>\n",
              "      <td>1</td>\n",
              "      <td>0</td>\n",
              "      <td>0</td>\n",
              "      <td>0</td>\n",
              "      <td>0</td>\n",
              "      <td>0</td>\n",
              "      <td>0</td>\n",
              "      <td>0</td>\n",
              "      <td>0</td>\n",
              "      <td>0</td>\n",
              "      <td>0</td>\n",
              "      <td>0</td>\n",
              "      <td>0</td>\n",
              "      <td>1</td>\n",
              "      <td>0</td>\n",
              "      <td>0</td>\n",
              "      <td>0</td>\n",
              "      <td>0</td>\n",
              "      <td>0</td>\n",
              "      <td>0</td>\n",
              "      <td>0</td>\n",
              "      <td>0</td>\n",
              "      <td>0</td>\n",
              "      <td>0</td>\n",
              "      <td>0</td>\n",
              "      <td>0</td>\n",
              "      <td>0</td>\n",
              "      <td>0</td>\n",
              "      <td>0</td>\n",
              "      <td>0</td>\n",
              "      <td>0</td>\n",
              "      <td>0</td>\n",
              "      <td>0</td>\n",
              "      <td>0</td>\n",
              "      <td>0</td>\n",
              "      <td>0</td>\n",
              "      <td>1</td>\n",
              "      <td>0</td>\n",
              "    </tr>\n",
              "    <tr>\n",
              "      <th>2</th>\n",
              "      <td>2</td>\n",
              "      <td>5236.000000</td>\n",
              "      <td>7.0</td>\n",
              "      <td>904.0</td>\n",
              "      <td>1212.000000</td>\n",
              "      <td>26.000000</td>\n",
              "      <td>220.08</td>\n",
              "      <td>0.0</td>\n",
              "      <td>5883894.0</td>\n",
              "      <td>0.0</td>\n",
              "      <td>6.599658</td>\n",
              "      <td>9.0</td>\n",
              "      <td>518.0</td>\n",
              "      <td>1675776.0</td>\n",
              "      <td>0.0</td>\n",
              "      <td>16211.580000</td>\n",
              "      <td>40.0</td>\n",
              "      <td>58.0</td>\n",
              "      <td>312.00000</td>\n",
              "      <td>336.0</td>\n",
              "      <td>405104.00</td>\n",
              "      <td>3230.000000</td>\n",
              "      <td>5967.0</td>\n",
              "      <td>-28.00000</td>\n",
              "      <td>0.0</td>\n",
              "      <td>3478905.0</td>\n",
              "      <td>248932.0</td>\n",
              "      <td>800.0</td>\n",
              "      <td>0.0</td>\n",
              "      <td>36.000000</td>\n",
              "      <td>320565.000000</td>\n",
              "      <td>9826360.0</td>\n",
              "      <td>434946.0</td>\n",
              "      <td>0.0</td>\n",
              "      <td>0.0</td>\n",
              "      <td>0</td>\n",
              "      <td>0</td>\n",
              "      <td>0</td>\n",
              "      <td>0</td>\n",
              "      <td>0</td>\n",
              "      <td>...</td>\n",
              "      <td>1</td>\n",
              "      <td>0</td>\n",
              "      <td>0</td>\n",
              "      <td>0</td>\n",
              "      <td>0</td>\n",
              "      <td>0</td>\n",
              "      <td>0</td>\n",
              "      <td>0</td>\n",
              "      <td>0</td>\n",
              "      <td>0</td>\n",
              "      <td>0</td>\n",
              "      <td>0</td>\n",
              "      <td>0</td>\n",
              "      <td>0</td>\n",
              "      <td>0</td>\n",
              "      <td>0</td>\n",
              "      <td>0</td>\n",
              "      <td>0</td>\n",
              "      <td>0</td>\n",
              "      <td>0</td>\n",
              "      <td>0</td>\n",
              "      <td>0</td>\n",
              "      <td>0</td>\n",
              "      <td>0</td>\n",
              "      <td>0</td>\n",
              "      <td>0</td>\n",
              "      <td>0</td>\n",
              "      <td>0</td>\n",
              "      <td>0</td>\n",
              "      <td>0</td>\n",
              "      <td>0</td>\n",
              "      <td>0</td>\n",
              "      <td>1</td>\n",
              "      <td>0</td>\n",
              "      <td>0</td>\n",
              "      <td>0</td>\n",
              "      <td>0</td>\n",
              "      <td>0</td>\n",
              "      <td>0</td>\n",
              "      <td>0</td>\n",
              "    </tr>\n",
              "    <tr>\n",
              "      <th>3</th>\n",
              "      <td>3</td>\n",
              "      <td>1326.437116</td>\n",
              "      <td>0.0</td>\n",
              "      <td>0.0</td>\n",
              "      <td>234.518225</td>\n",
              "      <td>4.507926</td>\n",
              "      <td>22.08</td>\n",
              "      <td>0.0</td>\n",
              "      <td>0.0</td>\n",
              "      <td>0.0</td>\n",
              "      <td>1.988250</td>\n",
              "      <td>9.0</td>\n",
              "      <td>0.0</td>\n",
              "      <td>0.0</td>\n",
              "      <td>0.0</td>\n",
              "      <td>103084.052693</td>\n",
              "      <td>0.0</td>\n",
              "      <td>0.0</td>\n",
              "      <td>60.88866</td>\n",
              "      <td>0.0</td>\n",
              "      <td>-275703.60</td>\n",
              "      <td>916.112185</td>\n",
              "      <td>0.0</td>\n",
              "      <td>-14.00000</td>\n",
              "      <td>0.0</td>\n",
              "      <td>0.0</td>\n",
              "      <td>0.0</td>\n",
              "      <td>0.0</td>\n",
              "      <td>0.0</td>\n",
              "      <td>11.727665</td>\n",
              "      <td>294920.804255</td>\n",
              "      <td>0.0</td>\n",
              "      <td>0.0</td>\n",
              "      <td>0.0</td>\n",
              "      <td>0.0</td>\n",
              "      <td>0</td>\n",
              "      <td>0</td>\n",
              "      <td>0</td>\n",
              "      <td>0</td>\n",
              "      <td>0</td>\n",
              "      <td>...</td>\n",
              "      <td>0</td>\n",
              "      <td>0</td>\n",
              "      <td>1</td>\n",
              "      <td>0</td>\n",
              "      <td>0</td>\n",
              "      <td>0</td>\n",
              "      <td>0</td>\n",
              "      <td>0</td>\n",
              "      <td>0</td>\n",
              "      <td>0</td>\n",
              "      <td>0</td>\n",
              "      <td>0</td>\n",
              "      <td>0</td>\n",
              "      <td>0</td>\n",
              "      <td>0</td>\n",
              "      <td>1</td>\n",
              "      <td>0</td>\n",
              "      <td>0</td>\n",
              "      <td>0</td>\n",
              "      <td>0</td>\n",
              "      <td>0</td>\n",
              "      <td>0</td>\n",
              "      <td>0</td>\n",
              "      <td>0</td>\n",
              "      <td>0</td>\n",
              "      <td>0</td>\n",
              "      <td>0</td>\n",
              "      <td>0</td>\n",
              "      <td>0</td>\n",
              "      <td>0</td>\n",
              "      <td>0</td>\n",
              "      <td>0</td>\n",
              "      <td>0</td>\n",
              "      <td>0</td>\n",
              "      <td>0</td>\n",
              "      <td>0</td>\n",
              "      <td>0</td>\n",
              "      <td>0</td>\n",
              "      <td>0</td>\n",
              "      <td>0</td>\n",
              "    </tr>\n",
              "    <tr>\n",
              "      <th>4</th>\n",
              "      <td>4</td>\n",
              "      <td>1029.000000</td>\n",
              "      <td>7.0</td>\n",
              "      <td>3216.0</td>\n",
              "      <td>64.000000</td>\n",
              "      <td>4.000000</td>\n",
              "      <td>200.00</td>\n",
              "      <td>0.0</td>\n",
              "      <td>0.0</td>\n",
              "      <td>0.0</td>\n",
              "      <td>4.552446</td>\n",
              "      <td>18.0</td>\n",
              "      <td>224.0</td>\n",
              "      <td>784448.0</td>\n",
              "      <td>0.0</td>\n",
              "      <td>37423.500000</td>\n",
              "      <td>0.0</td>\n",
              "      <td>0.0</td>\n",
              "      <td>32.00000</td>\n",
              "      <td>56.0</td>\n",
              "      <td>10714.84</td>\n",
              "      <td>215.000000</td>\n",
              "      <td>15111.0</td>\n",
              "      <td>58.00000</td>\n",
              "      <td>0.0</td>\n",
              "      <td>150650.0</td>\n",
              "      <td>66046.0</td>\n",
              "      <td>3255.0</td>\n",
              "      <td>0.0</td>\n",
              "      <td>9.000000</td>\n",
              "      <td>267162.000000</td>\n",
              "      <td>644836.0</td>\n",
              "      <td>0.0</td>\n",
              "      <td>0.0</td>\n",
              "      <td>0.0</td>\n",
              "      <td>0</td>\n",
              "      <td>0</td>\n",
              "      <td>0</td>\n",
              "      <td>0</td>\n",
              "      <td>0</td>\n",
              "      <td>...</td>\n",
              "      <td>0</td>\n",
              "      <td>0</td>\n",
              "      <td>1</td>\n",
              "      <td>0</td>\n",
              "      <td>0</td>\n",
              "      <td>0</td>\n",
              "      <td>0</td>\n",
              "      <td>0</td>\n",
              "      <td>0</td>\n",
              "      <td>0</td>\n",
              "      <td>0</td>\n",
              "      <td>0</td>\n",
              "      <td>0</td>\n",
              "      <td>0</td>\n",
              "      <td>0</td>\n",
              "      <td>1</td>\n",
              "      <td>0</td>\n",
              "      <td>0</td>\n",
              "      <td>0</td>\n",
              "      <td>0</td>\n",
              "      <td>0</td>\n",
              "      <td>0</td>\n",
              "      <td>0</td>\n",
              "      <td>0</td>\n",
              "      <td>0</td>\n",
              "      <td>0</td>\n",
              "      <td>0</td>\n",
              "      <td>0</td>\n",
              "      <td>0</td>\n",
              "      <td>0</td>\n",
              "      <td>0</td>\n",
              "      <td>0</td>\n",
              "      <td>0</td>\n",
              "      <td>0</td>\n",
              "      <td>0</td>\n",
              "      <td>0</td>\n",
              "      <td>0</td>\n",
              "      <td>0</td>\n",
              "      <td>0</td>\n",
              "      <td>0</td>\n",
              "    </tr>\n",
              "  </tbody>\n",
              "</table>\n",
              "<p>5 rows × 345 columns</p>\n",
              "</div>"
            ],
            "text/plain": [
              "   Unnamed: 0         Var6  ...  churn_labels  upselling_labels\n",
              "0           0  1526.000000  ...             0                 0\n",
              "1           1   525.000000  ...             1                 0\n",
              "2           2  5236.000000  ...             0                 0\n",
              "3           3  1326.437116  ...             0                 0\n",
              "4           4  1029.000000  ...             0                 0\n",
              "\n",
              "[5 rows x 345 columns]"
            ]
          },
          "metadata": {
            "tags": []
          },
          "execution_count": 55
        }
      ]
    },
    {
      "cell_type": "code",
      "metadata": {
        "id": "cqKzj0431HG3"
      },
      "source": [
        "df = df.drop(axis=1, columns=['Unnamed: 0'])"
      ],
      "execution_count": 56,
      "outputs": []
    },
    {
      "cell_type": "code",
      "metadata": {
        "colab": {
          "base_uri": "https://localhost:8080/",
          "height": 253
        },
        "id": "YFnQbMak1YTZ",
        "outputId": "f9cfa830-9658-4126-9b01-b99c512423cb"
      },
      "source": [
        "df.head()"
      ],
      "execution_count": 57,
      "outputs": [
        {
          "output_type": "execute_result",
          "data": {
            "text/html": [
              "<div>\n",
              "<style scoped>\n",
              "    .dataframe tbody tr th:only-of-type {\n",
              "        vertical-align: middle;\n",
              "    }\n",
              "\n",
              "    .dataframe tbody tr th {\n",
              "        vertical-align: top;\n",
              "    }\n",
              "\n",
              "    .dataframe thead th {\n",
              "        text-align: right;\n",
              "    }\n",
              "</style>\n",
              "<table border=\"1\" class=\"dataframe\">\n",
              "  <thead>\n",
              "    <tr style=\"text-align: right;\">\n",
              "      <th></th>\n",
              "      <th>Var6</th>\n",
              "      <th>Var7</th>\n",
              "      <th>Var13</th>\n",
              "      <th>Var21</th>\n",
              "      <th>Var24</th>\n",
              "      <th>Var28</th>\n",
              "      <th>Var35</th>\n",
              "      <th>Var38</th>\n",
              "      <th>Var44</th>\n",
              "      <th>Var57</th>\n",
              "      <th>Var65</th>\n",
              "      <th>Var74</th>\n",
              "      <th>Var76</th>\n",
              "      <th>Var78</th>\n",
              "      <th>Var81</th>\n",
              "      <th>Var83</th>\n",
              "      <th>Var85</th>\n",
              "      <th>Var109</th>\n",
              "      <th>Var112</th>\n",
              "      <th>Var113</th>\n",
              "      <th>Var119</th>\n",
              "      <th>Var125</th>\n",
              "      <th>Var126</th>\n",
              "      <th>Var132</th>\n",
              "      <th>Var133</th>\n",
              "      <th>Var134</th>\n",
              "      <th>Var140</th>\n",
              "      <th>Var143</th>\n",
              "      <th>Var144</th>\n",
              "      <th>Var149</th>\n",
              "      <th>Var153</th>\n",
              "      <th>Var163</th>\n",
              "      <th>Var173</th>\n",
              "      <th>Var181</th>\n",
              "      <th>Var193_2Knk1KF</th>\n",
              "      <th>Var193_2wnefc9ISdLjfQoAYBI</th>\n",
              "      <th>Var193_5QKIjwyXr4MCZTEp7uAkS8PtBLcn</th>\n",
              "      <th>Var193_8kO9LslBGNXoLvWEuN6tPuN59TdYxfL9Sm6oU</th>\n",
              "      <th>Var193_9U2tunPAje3TwfLLUQxzM3dC1ghn</th>\n",
              "      <th>Var193_AERks4l</th>\n",
              "      <th>...</th>\n",
              "      <th>Var227_02N6s8f</th>\n",
              "      <th>Var227_6fzt</th>\n",
              "      <th>Var227_RAYp</th>\n",
              "      <th>Var227_ZI9m</th>\n",
              "      <th>Var227_nIGXDli</th>\n",
              "      <th>Var227_nIGjgSB</th>\n",
              "      <th>Var227_vJ_w8kB</th>\n",
              "      <th>Var228_0pzBWGkV3fbsGZN52DH</th>\n",
              "      <th>Var228_4rd_</th>\n",
              "      <th>Var228_55YFVY9</th>\n",
              "      <th>Var228_5oZS</th>\n",
              "      <th>Var228_6nxx00q6gnIF8ePJ3P3AEfZ1N</th>\n",
              "      <th>Var228_9VmiOykV3fbsAg65e4w</th>\n",
              "      <th>Var228_DU8B</th>\n",
              "      <th>Var228_F2FcTt7IdMT_v</th>\n",
              "      <th>Var228_F2FyR07IdsN7I</th>\n",
              "      <th>Var228_JnGLH58smNxIYcGK39k</th>\n",
              "      <th>Var228_NoEd</th>\n",
              "      <th>Var228_R4y5gQQWY8OodqDV</th>\n",
              "      <th>Var228_RjBDiL8f9CQYc21fICscNNpj6</th>\n",
              "      <th>Var228_SbOd7O8ky1wGNxp0Arj0Xs</th>\n",
              "      <th>Var228_TCU50_Yjmm6GIBZ0lL_</th>\n",
              "      <th>Var228_VjDE</th>\n",
              "      <th>Var228_WfJ2BB2SFSqauljlfOB</th>\n",
              "      <th>Var228_WfJYmPMksSqa1pajvfG</th>\n",
              "      <th>Var228_ZeaF</th>\n",
              "      <th>Var228_Zy3gnGM</th>\n",
              "      <th>Var228__URKn_77G3QyQHSVQ2N1RKmtW</th>\n",
              "      <th>Var228__cTCyH95OE93jSkoIBT</th>\n",
              "      <th>Var228_am14IcfM7tWLrUmRT52KtA</th>\n",
              "      <th>Var228_b9qbUNk0dML_Mvi2</th>\n",
              "      <th>Var228_d0LtHjWeaXyArdN4sxU_saXqH</th>\n",
              "      <th>Var228_ib5G6X1eUxUn6</th>\n",
              "      <th>Var228_iyHGyLCEkQ</th>\n",
              "      <th>Var228_n1OBWGkV3fbsHR75taC</th>\n",
              "      <th>Var228_r_7E</th>\n",
              "      <th>Var228_xwM2aC7IdeMC0</th>\n",
              "      <th>appetency_labels</th>\n",
              "      <th>churn_labels</th>\n",
              "      <th>upselling_labels</th>\n",
              "    </tr>\n",
              "  </thead>\n",
              "  <tbody>\n",
              "    <tr>\n",
              "      <th>0</th>\n",
              "      <td>1526.000000</td>\n",
              "      <td>7.0</td>\n",
              "      <td>184.0</td>\n",
              "      <td>464.000000</td>\n",
              "      <td>14.000000</td>\n",
              "      <td>166.56</td>\n",
              "      <td>0.0</td>\n",
              "      <td>3570.0</td>\n",
              "      <td>0.0</td>\n",
              "      <td>4.076907</td>\n",
              "      <td>9.0</td>\n",
              "      <td>35.0</td>\n",
              "      <td>1350864.0</td>\n",
              "      <td>0.0</td>\n",
              "      <td>7333.110000</td>\n",
              "      <td>5.0</td>\n",
              "      <td>12.0</td>\n",
              "      <td>104.00000</td>\n",
              "      <td>168.0</td>\n",
              "      <td>117625.60</td>\n",
              "      <td>1175.000000</td>\n",
              "      <td>720.0</td>\n",
              "      <td>8.00000</td>\n",
              "      <td>0.0</td>\n",
              "      <td>1212385.0</td>\n",
              "      <td>69134.0</td>\n",
              "      <td>185.0</td>\n",
              "      <td>0.0</td>\n",
              "      <td>9.000000</td>\n",
              "      <td>397579.000000</td>\n",
              "      <td>1812252.0</td>\n",
              "      <td>38418.0</td>\n",
              "      <td>0.0</td>\n",
              "      <td>0.0</td>\n",
              "      <td>0</td>\n",
              "      <td>0</td>\n",
              "      <td>0</td>\n",
              "      <td>0</td>\n",
              "      <td>0</td>\n",
              "      <td>0</td>\n",
              "      <td>...</td>\n",
              "      <td>0</td>\n",
              "      <td>0</td>\n",
              "      <td>1</td>\n",
              "      <td>0</td>\n",
              "      <td>0</td>\n",
              "      <td>0</td>\n",
              "      <td>0</td>\n",
              "      <td>0</td>\n",
              "      <td>0</td>\n",
              "      <td>0</td>\n",
              "      <td>0</td>\n",
              "      <td>0</td>\n",
              "      <td>0</td>\n",
              "      <td>0</td>\n",
              "      <td>0</td>\n",
              "      <td>1</td>\n",
              "      <td>0</td>\n",
              "      <td>0</td>\n",
              "      <td>0</td>\n",
              "      <td>0</td>\n",
              "      <td>0</td>\n",
              "      <td>0</td>\n",
              "      <td>0</td>\n",
              "      <td>0</td>\n",
              "      <td>0</td>\n",
              "      <td>0</td>\n",
              "      <td>0</td>\n",
              "      <td>0</td>\n",
              "      <td>0</td>\n",
              "      <td>0</td>\n",
              "      <td>0</td>\n",
              "      <td>0</td>\n",
              "      <td>0</td>\n",
              "      <td>0</td>\n",
              "      <td>0</td>\n",
              "      <td>0</td>\n",
              "      <td>0</td>\n",
              "      <td>0</td>\n",
              "      <td>0</td>\n",
              "      <td>0</td>\n",
              "    </tr>\n",
              "    <tr>\n",
              "      <th>1</th>\n",
              "      <td>525.000000</td>\n",
              "      <td>0.0</td>\n",
              "      <td>0.0</td>\n",
              "      <td>168.000000</td>\n",
              "      <td>2.000000</td>\n",
              "      <td>353.52</td>\n",
              "      <td>0.0</td>\n",
              "      <td>4764966.0</td>\n",
              "      <td>0.0</td>\n",
              "      <td>5.408032</td>\n",
              "      <td>9.0</td>\n",
              "      <td>0.0</td>\n",
              "      <td>2872928.0</td>\n",
              "      <td>3.0</td>\n",
              "      <td>151098.900000</td>\n",
              "      <td>25.0</td>\n",
              "      <td>2.0</td>\n",
              "      <td>40.00000</td>\n",
              "      <td>40.0</td>\n",
              "      <td>-356411.60</td>\n",
              "      <td>590.000000</td>\n",
              "      <td>0.0</td>\n",
              "      <td>-0.55388</td>\n",
              "      <td>8.0</td>\n",
              "      <td>4136430.0</td>\n",
              "      <td>357038.0</td>\n",
              "      <td>0.0</td>\n",
              "      <td>0.0</td>\n",
              "      <td>9.000000</td>\n",
              "      <td>278334.000000</td>\n",
              "      <td>10439160.0</td>\n",
              "      <td>238572.0</td>\n",
              "      <td>0.0</td>\n",
              "      <td>0.0</td>\n",
              "      <td>0</td>\n",
              "      <td>0</td>\n",
              "      <td>0</td>\n",
              "      <td>0</td>\n",
              "      <td>0</td>\n",
              "      <td>0</td>\n",
              "      <td>...</td>\n",
              "      <td>0</td>\n",
              "      <td>0</td>\n",
              "      <td>1</td>\n",
              "      <td>0</td>\n",
              "      <td>0</td>\n",
              "      <td>0</td>\n",
              "      <td>0</td>\n",
              "      <td>0</td>\n",
              "      <td>0</td>\n",
              "      <td>0</td>\n",
              "      <td>0</td>\n",
              "      <td>0</td>\n",
              "      <td>0</td>\n",
              "      <td>0</td>\n",
              "      <td>0</td>\n",
              "      <td>1</td>\n",
              "      <td>0</td>\n",
              "      <td>0</td>\n",
              "      <td>0</td>\n",
              "      <td>0</td>\n",
              "      <td>0</td>\n",
              "      <td>0</td>\n",
              "      <td>0</td>\n",
              "      <td>0</td>\n",
              "      <td>0</td>\n",
              "      <td>0</td>\n",
              "      <td>0</td>\n",
              "      <td>0</td>\n",
              "      <td>0</td>\n",
              "      <td>0</td>\n",
              "      <td>0</td>\n",
              "      <td>0</td>\n",
              "      <td>0</td>\n",
              "      <td>0</td>\n",
              "      <td>0</td>\n",
              "      <td>0</td>\n",
              "      <td>0</td>\n",
              "      <td>0</td>\n",
              "      <td>1</td>\n",
              "      <td>0</td>\n",
              "    </tr>\n",
              "    <tr>\n",
              "      <th>2</th>\n",
              "      <td>5236.000000</td>\n",
              "      <td>7.0</td>\n",
              "      <td>904.0</td>\n",
              "      <td>1212.000000</td>\n",
              "      <td>26.000000</td>\n",
              "      <td>220.08</td>\n",
              "      <td>0.0</td>\n",
              "      <td>5883894.0</td>\n",
              "      <td>0.0</td>\n",
              "      <td>6.599658</td>\n",
              "      <td>9.0</td>\n",
              "      <td>518.0</td>\n",
              "      <td>1675776.0</td>\n",
              "      <td>0.0</td>\n",
              "      <td>16211.580000</td>\n",
              "      <td>40.0</td>\n",
              "      <td>58.0</td>\n",
              "      <td>312.00000</td>\n",
              "      <td>336.0</td>\n",
              "      <td>405104.00</td>\n",
              "      <td>3230.000000</td>\n",
              "      <td>5967.0</td>\n",
              "      <td>-28.00000</td>\n",
              "      <td>0.0</td>\n",
              "      <td>3478905.0</td>\n",
              "      <td>248932.0</td>\n",
              "      <td>800.0</td>\n",
              "      <td>0.0</td>\n",
              "      <td>36.000000</td>\n",
              "      <td>320565.000000</td>\n",
              "      <td>9826360.0</td>\n",
              "      <td>434946.0</td>\n",
              "      <td>0.0</td>\n",
              "      <td>0.0</td>\n",
              "      <td>0</td>\n",
              "      <td>0</td>\n",
              "      <td>0</td>\n",
              "      <td>0</td>\n",
              "      <td>0</td>\n",
              "      <td>1</td>\n",
              "      <td>...</td>\n",
              "      <td>1</td>\n",
              "      <td>0</td>\n",
              "      <td>0</td>\n",
              "      <td>0</td>\n",
              "      <td>0</td>\n",
              "      <td>0</td>\n",
              "      <td>0</td>\n",
              "      <td>0</td>\n",
              "      <td>0</td>\n",
              "      <td>0</td>\n",
              "      <td>0</td>\n",
              "      <td>0</td>\n",
              "      <td>0</td>\n",
              "      <td>0</td>\n",
              "      <td>0</td>\n",
              "      <td>0</td>\n",
              "      <td>0</td>\n",
              "      <td>0</td>\n",
              "      <td>0</td>\n",
              "      <td>0</td>\n",
              "      <td>0</td>\n",
              "      <td>0</td>\n",
              "      <td>0</td>\n",
              "      <td>0</td>\n",
              "      <td>0</td>\n",
              "      <td>0</td>\n",
              "      <td>0</td>\n",
              "      <td>0</td>\n",
              "      <td>0</td>\n",
              "      <td>0</td>\n",
              "      <td>0</td>\n",
              "      <td>0</td>\n",
              "      <td>1</td>\n",
              "      <td>0</td>\n",
              "      <td>0</td>\n",
              "      <td>0</td>\n",
              "      <td>0</td>\n",
              "      <td>0</td>\n",
              "      <td>0</td>\n",
              "      <td>0</td>\n",
              "    </tr>\n",
              "    <tr>\n",
              "      <th>3</th>\n",
              "      <td>1326.437116</td>\n",
              "      <td>0.0</td>\n",
              "      <td>0.0</td>\n",
              "      <td>234.518225</td>\n",
              "      <td>4.507926</td>\n",
              "      <td>22.08</td>\n",
              "      <td>0.0</td>\n",
              "      <td>0.0</td>\n",
              "      <td>0.0</td>\n",
              "      <td>1.988250</td>\n",
              "      <td>9.0</td>\n",
              "      <td>0.0</td>\n",
              "      <td>0.0</td>\n",
              "      <td>0.0</td>\n",
              "      <td>103084.052693</td>\n",
              "      <td>0.0</td>\n",
              "      <td>0.0</td>\n",
              "      <td>60.88866</td>\n",
              "      <td>0.0</td>\n",
              "      <td>-275703.60</td>\n",
              "      <td>916.112185</td>\n",
              "      <td>0.0</td>\n",
              "      <td>-14.00000</td>\n",
              "      <td>0.0</td>\n",
              "      <td>0.0</td>\n",
              "      <td>0.0</td>\n",
              "      <td>0.0</td>\n",
              "      <td>0.0</td>\n",
              "      <td>11.727665</td>\n",
              "      <td>294920.804255</td>\n",
              "      <td>0.0</td>\n",
              "      <td>0.0</td>\n",
              "      <td>0.0</td>\n",
              "      <td>0.0</td>\n",
              "      <td>0</td>\n",
              "      <td>0</td>\n",
              "      <td>0</td>\n",
              "      <td>0</td>\n",
              "      <td>0</td>\n",
              "      <td>0</td>\n",
              "      <td>...</td>\n",
              "      <td>0</td>\n",
              "      <td>0</td>\n",
              "      <td>1</td>\n",
              "      <td>0</td>\n",
              "      <td>0</td>\n",
              "      <td>0</td>\n",
              "      <td>0</td>\n",
              "      <td>0</td>\n",
              "      <td>0</td>\n",
              "      <td>0</td>\n",
              "      <td>0</td>\n",
              "      <td>0</td>\n",
              "      <td>0</td>\n",
              "      <td>0</td>\n",
              "      <td>0</td>\n",
              "      <td>1</td>\n",
              "      <td>0</td>\n",
              "      <td>0</td>\n",
              "      <td>0</td>\n",
              "      <td>0</td>\n",
              "      <td>0</td>\n",
              "      <td>0</td>\n",
              "      <td>0</td>\n",
              "      <td>0</td>\n",
              "      <td>0</td>\n",
              "      <td>0</td>\n",
              "      <td>0</td>\n",
              "      <td>0</td>\n",
              "      <td>0</td>\n",
              "      <td>0</td>\n",
              "      <td>0</td>\n",
              "      <td>0</td>\n",
              "      <td>0</td>\n",
              "      <td>0</td>\n",
              "      <td>0</td>\n",
              "      <td>0</td>\n",
              "      <td>0</td>\n",
              "      <td>0</td>\n",
              "      <td>0</td>\n",
              "      <td>0</td>\n",
              "    </tr>\n",
              "    <tr>\n",
              "      <th>4</th>\n",
              "      <td>1029.000000</td>\n",
              "      <td>7.0</td>\n",
              "      <td>3216.0</td>\n",
              "      <td>64.000000</td>\n",
              "      <td>4.000000</td>\n",
              "      <td>200.00</td>\n",
              "      <td>0.0</td>\n",
              "      <td>0.0</td>\n",
              "      <td>0.0</td>\n",
              "      <td>4.552446</td>\n",
              "      <td>18.0</td>\n",
              "      <td>224.0</td>\n",
              "      <td>784448.0</td>\n",
              "      <td>0.0</td>\n",
              "      <td>37423.500000</td>\n",
              "      <td>0.0</td>\n",
              "      <td>0.0</td>\n",
              "      <td>32.00000</td>\n",
              "      <td>56.0</td>\n",
              "      <td>10714.84</td>\n",
              "      <td>215.000000</td>\n",
              "      <td>15111.0</td>\n",
              "      <td>58.00000</td>\n",
              "      <td>0.0</td>\n",
              "      <td>150650.0</td>\n",
              "      <td>66046.0</td>\n",
              "      <td>3255.0</td>\n",
              "      <td>0.0</td>\n",
              "      <td>9.000000</td>\n",
              "      <td>267162.000000</td>\n",
              "      <td>644836.0</td>\n",
              "      <td>0.0</td>\n",
              "      <td>0.0</td>\n",
              "      <td>0.0</td>\n",
              "      <td>0</td>\n",
              "      <td>0</td>\n",
              "      <td>0</td>\n",
              "      <td>0</td>\n",
              "      <td>0</td>\n",
              "      <td>0</td>\n",
              "      <td>...</td>\n",
              "      <td>0</td>\n",
              "      <td>0</td>\n",
              "      <td>1</td>\n",
              "      <td>0</td>\n",
              "      <td>0</td>\n",
              "      <td>0</td>\n",
              "      <td>0</td>\n",
              "      <td>0</td>\n",
              "      <td>0</td>\n",
              "      <td>0</td>\n",
              "      <td>0</td>\n",
              "      <td>0</td>\n",
              "      <td>0</td>\n",
              "      <td>0</td>\n",
              "      <td>0</td>\n",
              "      <td>1</td>\n",
              "      <td>0</td>\n",
              "      <td>0</td>\n",
              "      <td>0</td>\n",
              "      <td>0</td>\n",
              "      <td>0</td>\n",
              "      <td>0</td>\n",
              "      <td>0</td>\n",
              "      <td>0</td>\n",
              "      <td>0</td>\n",
              "      <td>0</td>\n",
              "      <td>0</td>\n",
              "      <td>0</td>\n",
              "      <td>0</td>\n",
              "      <td>0</td>\n",
              "      <td>0</td>\n",
              "      <td>0</td>\n",
              "      <td>0</td>\n",
              "      <td>0</td>\n",
              "      <td>0</td>\n",
              "      <td>0</td>\n",
              "      <td>0</td>\n",
              "      <td>0</td>\n",
              "      <td>0</td>\n",
              "      <td>0</td>\n",
              "    </tr>\n",
              "  </tbody>\n",
              "</table>\n",
              "<p>5 rows × 344 columns</p>\n",
              "</div>"
            ],
            "text/plain": [
              "          Var6  Var7   Var13  ...  appetency_labels  churn_labels  upselling_labels\n",
              "0  1526.000000   7.0   184.0  ...                 0             0                 0\n",
              "1   525.000000   0.0     0.0  ...                 0             1                 0\n",
              "2  5236.000000   7.0   904.0  ...                 0             0                 0\n",
              "3  1326.437116   0.0     0.0  ...                 0             0                 0\n",
              "4  1029.000000   7.0  3216.0  ...                 0             0                 0\n",
              "\n",
              "[5 rows x 344 columns]"
            ]
          },
          "metadata": {
            "tags": []
          },
          "execution_count": 57
        }
      ]
    },
    {
      "cell_type": "code",
      "metadata": {
        "id": "VI-9gtWh1dAW"
      },
      "source": [
        "x = df.drop(['appetency_labels', 'churn_labels', 'upselling_labels'], axis =1)\n",
        "y_churn = df['churn_labels']\n",
        "x_train, x_val, y_train_churn, y_val_churn = train_test_split(x, y_churn, test_size=0.2, random_state=21)"
      ],
      "execution_count": 58,
      "outputs": []
    },
    {
      "cell_type": "code",
      "metadata": {
        "colab": {
          "base_uri": "https://localhost:8080/",
          "height": 253
        },
        "id": "OBgv5Cpd8l6G",
        "outputId": "2761fb4c-5468-4344-b265-488314470a44"
      },
      "source": [
        "x_train.head()"
      ],
      "execution_count": 59,
      "outputs": [
        {
          "output_type": "execute_result",
          "data": {
            "text/html": [
              "<div>\n",
              "<style scoped>\n",
              "    .dataframe tbody tr th:only-of-type {\n",
              "        vertical-align: middle;\n",
              "    }\n",
              "\n",
              "    .dataframe tbody tr th {\n",
              "        vertical-align: top;\n",
              "    }\n",
              "\n",
              "    .dataframe thead th {\n",
              "        text-align: right;\n",
              "    }\n",
              "</style>\n",
              "<table border=\"1\" class=\"dataframe\">\n",
              "  <thead>\n",
              "    <tr style=\"text-align: right;\">\n",
              "      <th></th>\n",
              "      <th>Var6</th>\n",
              "      <th>Var7</th>\n",
              "      <th>Var13</th>\n",
              "      <th>Var21</th>\n",
              "      <th>Var24</th>\n",
              "      <th>Var28</th>\n",
              "      <th>Var35</th>\n",
              "      <th>Var38</th>\n",
              "      <th>Var44</th>\n",
              "      <th>Var57</th>\n",
              "      <th>Var65</th>\n",
              "      <th>Var74</th>\n",
              "      <th>Var76</th>\n",
              "      <th>Var78</th>\n",
              "      <th>Var81</th>\n",
              "      <th>Var83</th>\n",
              "      <th>Var85</th>\n",
              "      <th>Var109</th>\n",
              "      <th>Var112</th>\n",
              "      <th>Var113</th>\n",
              "      <th>Var119</th>\n",
              "      <th>Var125</th>\n",
              "      <th>Var126</th>\n",
              "      <th>Var132</th>\n",
              "      <th>Var133</th>\n",
              "      <th>Var134</th>\n",
              "      <th>Var140</th>\n",
              "      <th>Var143</th>\n",
              "      <th>Var144</th>\n",
              "      <th>Var149</th>\n",
              "      <th>Var153</th>\n",
              "      <th>Var163</th>\n",
              "      <th>Var173</th>\n",
              "      <th>Var181</th>\n",
              "      <th>Var193_2Knk1KF</th>\n",
              "      <th>Var193_2wnefc9ISdLjfQoAYBI</th>\n",
              "      <th>Var193_5QKIjwyXr4MCZTEp7uAkS8PtBLcn</th>\n",
              "      <th>Var193_8kO9LslBGNXoLvWEuN6tPuN59TdYxfL9Sm6oU</th>\n",
              "      <th>Var193_9U2tunPAje3TwfLLUQxzM3dC1ghn</th>\n",
              "      <th>Var193_AERks4l</th>\n",
              "      <th>...</th>\n",
              "      <th>Var226_wX53</th>\n",
              "      <th>Var226_w_Ub</th>\n",
              "      <th>Var226_xb3V</th>\n",
              "      <th>Var227_02N6s8f</th>\n",
              "      <th>Var227_6fzt</th>\n",
              "      <th>Var227_RAYp</th>\n",
              "      <th>Var227_ZI9m</th>\n",
              "      <th>Var227_nIGXDli</th>\n",
              "      <th>Var227_nIGjgSB</th>\n",
              "      <th>Var227_vJ_w8kB</th>\n",
              "      <th>Var228_0pzBWGkV3fbsGZN52DH</th>\n",
              "      <th>Var228_4rd_</th>\n",
              "      <th>Var228_55YFVY9</th>\n",
              "      <th>Var228_5oZS</th>\n",
              "      <th>Var228_6nxx00q6gnIF8ePJ3P3AEfZ1N</th>\n",
              "      <th>Var228_9VmiOykV3fbsAg65e4w</th>\n",
              "      <th>Var228_DU8B</th>\n",
              "      <th>Var228_F2FcTt7IdMT_v</th>\n",
              "      <th>Var228_F2FyR07IdsN7I</th>\n",
              "      <th>Var228_JnGLH58smNxIYcGK39k</th>\n",
              "      <th>Var228_NoEd</th>\n",
              "      <th>Var228_R4y5gQQWY8OodqDV</th>\n",
              "      <th>Var228_RjBDiL8f9CQYc21fICscNNpj6</th>\n",
              "      <th>Var228_SbOd7O8ky1wGNxp0Arj0Xs</th>\n",
              "      <th>Var228_TCU50_Yjmm6GIBZ0lL_</th>\n",
              "      <th>Var228_VjDE</th>\n",
              "      <th>Var228_WfJ2BB2SFSqauljlfOB</th>\n",
              "      <th>Var228_WfJYmPMksSqa1pajvfG</th>\n",
              "      <th>Var228_ZeaF</th>\n",
              "      <th>Var228_Zy3gnGM</th>\n",
              "      <th>Var228__URKn_77G3QyQHSVQ2N1RKmtW</th>\n",
              "      <th>Var228__cTCyH95OE93jSkoIBT</th>\n",
              "      <th>Var228_am14IcfM7tWLrUmRT52KtA</th>\n",
              "      <th>Var228_b9qbUNk0dML_Mvi2</th>\n",
              "      <th>Var228_d0LtHjWeaXyArdN4sxU_saXqH</th>\n",
              "      <th>Var228_ib5G6X1eUxUn6</th>\n",
              "      <th>Var228_iyHGyLCEkQ</th>\n",
              "      <th>Var228_n1OBWGkV3fbsHR75taC</th>\n",
              "      <th>Var228_r_7E</th>\n",
              "      <th>Var228_xwM2aC7IdeMC0</th>\n",
              "    </tr>\n",
              "  </thead>\n",
              "  <tbody>\n",
              "    <tr>\n",
              "      <th>4183</th>\n",
              "      <td>133.000000</td>\n",
              "      <td>0.0</td>\n",
              "      <td>0.0</td>\n",
              "      <td>128.000000</td>\n",
              "      <td>2.000000</td>\n",
              "      <td>210.48</td>\n",
              "      <td>0.0</td>\n",
              "      <td>3326484.0</td>\n",
              "      <td>0.0</td>\n",
              "      <td>3.875026</td>\n",
              "      <td>9.0</td>\n",
              "      <td>0.0</td>\n",
              "      <td>3801704.0</td>\n",
              "      <td>0.0</td>\n",
              "      <td>230212.200000</td>\n",
              "      <td>20.0</td>\n",
              "      <td>0.0</td>\n",
              "      <td>40.00000</td>\n",
              "      <td>48.0</td>\n",
              "      <td>10088.72</td>\n",
              "      <td>325.000000</td>\n",
              "      <td>0.0</td>\n",
              "      <td>-8.00000</td>\n",
              "      <td>0.0</td>\n",
              "      <td>4146260.0</td>\n",
              "      <td>792020.0</td>\n",
              "      <td>0.0</td>\n",
              "      <td>0.0</td>\n",
              "      <td>0.000000</td>\n",
              "      <td>554414.000000</td>\n",
              "      <td>10286800.0</td>\n",
              "      <td>0.0</td>\n",
              "      <td>0.0</td>\n",
              "      <td>0.0</td>\n",
              "      <td>0</td>\n",
              "      <td>0</td>\n",
              "      <td>0</td>\n",
              "      <td>0</td>\n",
              "      <td>0</td>\n",
              "      <td>0</td>\n",
              "      <td>...</td>\n",
              "      <td>0</td>\n",
              "      <td>0</td>\n",
              "      <td>0</td>\n",
              "      <td>0</td>\n",
              "      <td>0</td>\n",
              "      <td>0</td>\n",
              "      <td>1</td>\n",
              "      <td>0</td>\n",
              "      <td>0</td>\n",
              "      <td>0</td>\n",
              "      <td>0</td>\n",
              "      <td>0</td>\n",
              "      <td>0</td>\n",
              "      <td>0</td>\n",
              "      <td>0</td>\n",
              "      <td>0</td>\n",
              "      <td>0</td>\n",
              "      <td>0</td>\n",
              "      <td>1</td>\n",
              "      <td>0</td>\n",
              "      <td>0</td>\n",
              "      <td>0</td>\n",
              "      <td>0</td>\n",
              "      <td>0</td>\n",
              "      <td>0</td>\n",
              "      <td>0</td>\n",
              "      <td>0</td>\n",
              "      <td>0</td>\n",
              "      <td>0</td>\n",
              "      <td>0</td>\n",
              "      <td>0</td>\n",
              "      <td>0</td>\n",
              "      <td>0</td>\n",
              "      <td>0</td>\n",
              "      <td>0</td>\n",
              "      <td>0</td>\n",
              "      <td>0</td>\n",
              "      <td>0</td>\n",
              "      <td>0</td>\n",
              "      <td>0</td>\n",
              "    </tr>\n",
              "    <tr>\n",
              "      <th>18443</th>\n",
              "      <td>1326.437116</td>\n",
              "      <td>0.0</td>\n",
              "      <td>0.0</td>\n",
              "      <td>234.518225</td>\n",
              "      <td>4.507926</td>\n",
              "      <td>22.08</td>\n",
              "      <td>0.0</td>\n",
              "      <td>0.0</td>\n",
              "      <td>0.0</td>\n",
              "      <td>4.722709</td>\n",
              "      <td>9.0</td>\n",
              "      <td>0.0</td>\n",
              "      <td>0.0</td>\n",
              "      <td>0.0</td>\n",
              "      <td>103084.052693</td>\n",
              "      <td>0.0</td>\n",
              "      <td>0.0</td>\n",
              "      <td>60.88866</td>\n",
              "      <td>0.0</td>\n",
              "      <td>-78422.80</td>\n",
              "      <td>916.112185</td>\n",
              "      <td>0.0</td>\n",
              "      <td>-20.00000</td>\n",
              "      <td>0.0</td>\n",
              "      <td>0.0</td>\n",
              "      <td>0.0</td>\n",
              "      <td>0.0</td>\n",
              "      <td>0.0</td>\n",
              "      <td>11.727665</td>\n",
              "      <td>294920.804255</td>\n",
              "      <td>0.0</td>\n",
              "      <td>0.0</td>\n",
              "      <td>0.0</td>\n",
              "      <td>0.0</td>\n",
              "      <td>0</td>\n",
              "      <td>0</td>\n",
              "      <td>0</td>\n",
              "      <td>0</td>\n",
              "      <td>0</td>\n",
              "      <td>0</td>\n",
              "      <td>...</td>\n",
              "      <td>0</td>\n",
              "      <td>0</td>\n",
              "      <td>0</td>\n",
              "      <td>0</td>\n",
              "      <td>0</td>\n",
              "      <td>1</td>\n",
              "      <td>0</td>\n",
              "      <td>0</td>\n",
              "      <td>0</td>\n",
              "      <td>0</td>\n",
              "      <td>0</td>\n",
              "      <td>0</td>\n",
              "      <td>0</td>\n",
              "      <td>0</td>\n",
              "      <td>0</td>\n",
              "      <td>0</td>\n",
              "      <td>0</td>\n",
              "      <td>0</td>\n",
              "      <td>1</td>\n",
              "      <td>0</td>\n",
              "      <td>0</td>\n",
              "      <td>0</td>\n",
              "      <td>0</td>\n",
              "      <td>0</td>\n",
              "      <td>0</td>\n",
              "      <td>0</td>\n",
              "      <td>0</td>\n",
              "      <td>0</td>\n",
              "      <td>0</td>\n",
              "      <td>0</td>\n",
              "      <td>0</td>\n",
              "      <td>0</td>\n",
              "      <td>0</td>\n",
              "      <td>0</td>\n",
              "      <td>0</td>\n",
              "      <td>0</td>\n",
              "      <td>0</td>\n",
              "      <td>0</td>\n",
              "      <td>0</td>\n",
              "      <td>0</td>\n",
              "    </tr>\n",
              "    <tr>\n",
              "      <th>26332</th>\n",
              "      <td>252.000000</td>\n",
              "      <td>0.0</td>\n",
              "      <td>0.0</td>\n",
              "      <td>204.000000</td>\n",
              "      <td>4.000000</td>\n",
              "      <td>253.52</td>\n",
              "      <td>0.0</td>\n",
              "      <td>6015600.0</td>\n",
              "      <td>0.0</td>\n",
              "      <td>2.186499</td>\n",
              "      <td>9.0</td>\n",
              "      <td>0.0</td>\n",
              "      <td>1892944.0</td>\n",
              "      <td>0.0</td>\n",
              "      <td>192229.500000</td>\n",
              "      <td>30.0</td>\n",
              "      <td>10.0</td>\n",
              "      <td>72.00000</td>\n",
              "      <td>56.0</td>\n",
              "      <td>115528.40</td>\n",
              "      <td>565.000000</td>\n",
              "      <td>0.0</td>\n",
              "      <td>4.00000</td>\n",
              "      <td>0.0</td>\n",
              "      <td>2862395.0</td>\n",
              "      <td>481102.0</td>\n",
              "      <td>0.0</td>\n",
              "      <td>0.0</td>\n",
              "      <td>0.000000</td>\n",
              "      <td>18186.000000</td>\n",
              "      <td>10571520.0</td>\n",
              "      <td>1031352.0</td>\n",
              "      <td>0.0</td>\n",
              "      <td>0.0</td>\n",
              "      <td>0</td>\n",
              "      <td>0</td>\n",
              "      <td>0</td>\n",
              "      <td>0</td>\n",
              "      <td>0</td>\n",
              "      <td>0</td>\n",
              "      <td>...</td>\n",
              "      <td>0</td>\n",
              "      <td>0</td>\n",
              "      <td>0</td>\n",
              "      <td>0</td>\n",
              "      <td>0</td>\n",
              "      <td>1</td>\n",
              "      <td>0</td>\n",
              "      <td>0</td>\n",
              "      <td>0</td>\n",
              "      <td>0</td>\n",
              "      <td>0</td>\n",
              "      <td>0</td>\n",
              "      <td>0</td>\n",
              "      <td>0</td>\n",
              "      <td>0</td>\n",
              "      <td>0</td>\n",
              "      <td>0</td>\n",
              "      <td>0</td>\n",
              "      <td>1</td>\n",
              "      <td>0</td>\n",
              "      <td>0</td>\n",
              "      <td>0</td>\n",
              "      <td>0</td>\n",
              "      <td>0</td>\n",
              "      <td>0</td>\n",
              "      <td>0</td>\n",
              "      <td>0</td>\n",
              "      <td>0</td>\n",
              "      <td>0</td>\n",
              "      <td>0</td>\n",
              "      <td>0</td>\n",
              "      <td>0</td>\n",
              "      <td>0</td>\n",
              "      <td>0</td>\n",
              "      <td>0</td>\n",
              "      <td>0</td>\n",
              "      <td>0</td>\n",
              "      <td>0</td>\n",
              "      <td>0</td>\n",
              "      <td>0</td>\n",
              "    </tr>\n",
              "    <tr>\n",
              "      <th>39816</th>\n",
              "      <td>567.000000</td>\n",
              "      <td>7.0</td>\n",
              "      <td>0.0</td>\n",
              "      <td>160.000000</td>\n",
              "      <td>0.000000</td>\n",
              "      <td>166.56</td>\n",
              "      <td>0.0</td>\n",
              "      <td>44814.0</td>\n",
              "      <td>0.0</td>\n",
              "      <td>6.407605</td>\n",
              "      <td>9.0</td>\n",
              "      <td>0.0</td>\n",
              "      <td>53072.0</td>\n",
              "      <td>0.0</td>\n",
              "      <td>26101.080000</td>\n",
              "      <td>0.0</td>\n",
              "      <td>0.0</td>\n",
              "      <td>0.00000</td>\n",
              "      <td>48.0</td>\n",
              "      <td>87168.40</td>\n",
              "      <td>355.000000</td>\n",
              "      <td>99.0</td>\n",
              "      <td>-0.55388</td>\n",
              "      <td>0.0</td>\n",
              "      <td>108340.0</td>\n",
              "      <td>103930.0</td>\n",
              "      <td>45.0</td>\n",
              "      <td>0.0</td>\n",
              "      <td>18.000000</td>\n",
              "      <td>0.000000</td>\n",
              "      <td>350944.0</td>\n",
              "      <td>0.0</td>\n",
              "      <td>0.0</td>\n",
              "      <td>0.0</td>\n",
              "      <td>0</td>\n",
              "      <td>0</td>\n",
              "      <td>0</td>\n",
              "      <td>0</td>\n",
              "      <td>0</td>\n",
              "      <td>0</td>\n",
              "      <td>...</td>\n",
              "      <td>0</td>\n",
              "      <td>0</td>\n",
              "      <td>0</td>\n",
              "      <td>0</td>\n",
              "      <td>0</td>\n",
              "      <td>1</td>\n",
              "      <td>0</td>\n",
              "      <td>0</td>\n",
              "      <td>0</td>\n",
              "      <td>0</td>\n",
              "      <td>0</td>\n",
              "      <td>0</td>\n",
              "      <td>0</td>\n",
              "      <td>0</td>\n",
              "      <td>0</td>\n",
              "      <td>0</td>\n",
              "      <td>0</td>\n",
              "      <td>0</td>\n",
              "      <td>1</td>\n",
              "      <td>0</td>\n",
              "      <td>0</td>\n",
              "      <td>0</td>\n",
              "      <td>0</td>\n",
              "      <td>0</td>\n",
              "      <td>0</td>\n",
              "      <td>0</td>\n",
              "      <td>0</td>\n",
              "      <td>0</td>\n",
              "      <td>0</td>\n",
              "      <td>0</td>\n",
              "      <td>0</td>\n",
              "      <td>0</td>\n",
              "      <td>0</td>\n",
              "      <td>0</td>\n",
              "      <td>0</td>\n",
              "      <td>0</td>\n",
              "      <td>0</td>\n",
              "      <td>0</td>\n",
              "      <td>0</td>\n",
              "      <td>0</td>\n",
              "    </tr>\n",
              "    <tr>\n",
              "      <th>21627</th>\n",
              "      <td>518.000000</td>\n",
              "      <td>0.0</td>\n",
              "      <td>0.0</td>\n",
              "      <td>144.000000</td>\n",
              "      <td>0.000000</td>\n",
              "      <td>320.40</td>\n",
              "      <td>0.0</td>\n",
              "      <td>3110400.0</td>\n",
              "      <td>0.0</td>\n",
              "      <td>1.310404</td>\n",
              "      <td>9.0</td>\n",
              "      <td>0.0</td>\n",
              "      <td>2073600.0</td>\n",
              "      <td>0.0</td>\n",
              "      <td>195122.700000</td>\n",
              "      <td>5.0</td>\n",
              "      <td>8.0</td>\n",
              "      <td>32.00000</td>\n",
              "      <td>24.0</td>\n",
              "      <td>111785.60</td>\n",
              "      <td>605.000000</td>\n",
              "      <td>0.0</td>\n",
              "      <td>-28.00000</td>\n",
              "      <td>0.0</td>\n",
              "      <td>2429365.0</td>\n",
              "      <td>1934108.0</td>\n",
              "      <td>0.0</td>\n",
              "      <td>0.0</td>\n",
              "      <td>18.000000</td>\n",
              "      <td>0.000000</td>\n",
              "      <td>10521280.0</td>\n",
              "      <td>2073600.0</td>\n",
              "      <td>0.0</td>\n",
              "      <td>0.0</td>\n",
              "      <td>0</td>\n",
              "      <td>0</td>\n",
              "      <td>0</td>\n",
              "      <td>0</td>\n",
              "      <td>0</td>\n",
              "      <td>0</td>\n",
              "      <td>...</td>\n",
              "      <td>0</td>\n",
              "      <td>0</td>\n",
              "      <td>0</td>\n",
              "      <td>0</td>\n",
              "      <td>0</td>\n",
              "      <td>1</td>\n",
              "      <td>0</td>\n",
              "      <td>0</td>\n",
              "      <td>0</td>\n",
              "      <td>0</td>\n",
              "      <td>0</td>\n",
              "      <td>0</td>\n",
              "      <td>0</td>\n",
              "      <td>0</td>\n",
              "      <td>0</td>\n",
              "      <td>0</td>\n",
              "      <td>0</td>\n",
              "      <td>0</td>\n",
              "      <td>1</td>\n",
              "      <td>0</td>\n",
              "      <td>0</td>\n",
              "      <td>0</td>\n",
              "      <td>0</td>\n",
              "      <td>0</td>\n",
              "      <td>0</td>\n",
              "      <td>0</td>\n",
              "      <td>0</td>\n",
              "      <td>0</td>\n",
              "      <td>0</td>\n",
              "      <td>0</td>\n",
              "      <td>0</td>\n",
              "      <td>0</td>\n",
              "      <td>0</td>\n",
              "      <td>0</td>\n",
              "      <td>0</td>\n",
              "      <td>0</td>\n",
              "      <td>0</td>\n",
              "      <td>0</td>\n",
              "      <td>0</td>\n",
              "      <td>0</td>\n",
              "    </tr>\n",
              "  </tbody>\n",
              "</table>\n",
              "<p>5 rows × 341 columns</p>\n",
              "</div>"
            ],
            "text/plain": [
              "              Var6  Var7  ...  Var228_r_7E  Var228_xwM2aC7IdeMC0\n",
              "4183    133.000000   0.0  ...            0                     0\n",
              "18443  1326.437116   0.0  ...            0                     0\n",
              "26332   252.000000   0.0  ...            0                     0\n",
              "39816   567.000000   7.0  ...            0                     0\n",
              "21627   518.000000   0.0  ...            0                     0\n",
              "\n",
              "[5 rows x 341 columns]"
            ]
          },
          "metadata": {
            "tags": []
          },
          "execution_count": 59
        }
      ]
    },
    {
      "cell_type": "code",
      "metadata": {
        "colab": {
          "base_uri": "https://localhost:8080/",
          "height": 253
        },
        "id": "flbXHPO_8q5-",
        "outputId": "e1790a93-12a9-499c-c3c7-f21604d03b68"
      },
      "source": [
        "x_val.head()"
      ],
      "execution_count": 60,
      "outputs": [
        {
          "output_type": "execute_result",
          "data": {
            "text/html": [
              "<div>\n",
              "<style scoped>\n",
              "    .dataframe tbody tr th:only-of-type {\n",
              "        vertical-align: middle;\n",
              "    }\n",
              "\n",
              "    .dataframe tbody tr th {\n",
              "        vertical-align: top;\n",
              "    }\n",
              "\n",
              "    .dataframe thead th {\n",
              "        text-align: right;\n",
              "    }\n",
              "</style>\n",
              "<table border=\"1\" class=\"dataframe\">\n",
              "  <thead>\n",
              "    <tr style=\"text-align: right;\">\n",
              "      <th></th>\n",
              "      <th>Var6</th>\n",
              "      <th>Var7</th>\n",
              "      <th>Var13</th>\n",
              "      <th>Var21</th>\n",
              "      <th>Var24</th>\n",
              "      <th>Var28</th>\n",
              "      <th>Var35</th>\n",
              "      <th>Var38</th>\n",
              "      <th>Var44</th>\n",
              "      <th>Var57</th>\n",
              "      <th>Var65</th>\n",
              "      <th>Var74</th>\n",
              "      <th>Var76</th>\n",
              "      <th>Var78</th>\n",
              "      <th>Var81</th>\n",
              "      <th>Var83</th>\n",
              "      <th>Var85</th>\n",
              "      <th>Var109</th>\n",
              "      <th>Var112</th>\n",
              "      <th>Var113</th>\n",
              "      <th>Var119</th>\n",
              "      <th>Var125</th>\n",
              "      <th>Var126</th>\n",
              "      <th>Var132</th>\n",
              "      <th>Var133</th>\n",
              "      <th>Var134</th>\n",
              "      <th>Var140</th>\n",
              "      <th>Var143</th>\n",
              "      <th>Var144</th>\n",
              "      <th>Var149</th>\n",
              "      <th>Var153</th>\n",
              "      <th>Var163</th>\n",
              "      <th>Var173</th>\n",
              "      <th>Var181</th>\n",
              "      <th>Var193_2Knk1KF</th>\n",
              "      <th>Var193_2wnefc9ISdLjfQoAYBI</th>\n",
              "      <th>Var193_5QKIjwyXr4MCZTEp7uAkS8PtBLcn</th>\n",
              "      <th>Var193_8kO9LslBGNXoLvWEuN6tPuN59TdYxfL9Sm6oU</th>\n",
              "      <th>Var193_9U2tunPAje3TwfLLUQxzM3dC1ghn</th>\n",
              "      <th>Var193_AERks4l</th>\n",
              "      <th>...</th>\n",
              "      <th>Var226_wX53</th>\n",
              "      <th>Var226_w_Ub</th>\n",
              "      <th>Var226_xb3V</th>\n",
              "      <th>Var227_02N6s8f</th>\n",
              "      <th>Var227_6fzt</th>\n",
              "      <th>Var227_RAYp</th>\n",
              "      <th>Var227_ZI9m</th>\n",
              "      <th>Var227_nIGXDli</th>\n",
              "      <th>Var227_nIGjgSB</th>\n",
              "      <th>Var227_vJ_w8kB</th>\n",
              "      <th>Var228_0pzBWGkV3fbsGZN52DH</th>\n",
              "      <th>Var228_4rd_</th>\n",
              "      <th>Var228_55YFVY9</th>\n",
              "      <th>Var228_5oZS</th>\n",
              "      <th>Var228_6nxx00q6gnIF8ePJ3P3AEfZ1N</th>\n",
              "      <th>Var228_9VmiOykV3fbsAg65e4w</th>\n",
              "      <th>Var228_DU8B</th>\n",
              "      <th>Var228_F2FcTt7IdMT_v</th>\n",
              "      <th>Var228_F2FyR07IdsN7I</th>\n",
              "      <th>Var228_JnGLH58smNxIYcGK39k</th>\n",
              "      <th>Var228_NoEd</th>\n",
              "      <th>Var228_R4y5gQQWY8OodqDV</th>\n",
              "      <th>Var228_RjBDiL8f9CQYc21fICscNNpj6</th>\n",
              "      <th>Var228_SbOd7O8ky1wGNxp0Arj0Xs</th>\n",
              "      <th>Var228_TCU50_Yjmm6GIBZ0lL_</th>\n",
              "      <th>Var228_VjDE</th>\n",
              "      <th>Var228_WfJ2BB2SFSqauljlfOB</th>\n",
              "      <th>Var228_WfJYmPMksSqa1pajvfG</th>\n",
              "      <th>Var228_ZeaF</th>\n",
              "      <th>Var228_Zy3gnGM</th>\n",
              "      <th>Var228__URKn_77G3QyQHSVQ2N1RKmtW</th>\n",
              "      <th>Var228__cTCyH95OE93jSkoIBT</th>\n",
              "      <th>Var228_am14IcfM7tWLrUmRT52KtA</th>\n",
              "      <th>Var228_b9qbUNk0dML_Mvi2</th>\n",
              "      <th>Var228_d0LtHjWeaXyArdN4sxU_saXqH</th>\n",
              "      <th>Var228_ib5G6X1eUxUn6</th>\n",
              "      <th>Var228_iyHGyLCEkQ</th>\n",
              "      <th>Var228_n1OBWGkV3fbsHR75taC</th>\n",
              "      <th>Var228_r_7E</th>\n",
              "      <th>Var228_xwM2aC7IdeMC0</th>\n",
              "    </tr>\n",
              "  </thead>\n",
              "  <tbody>\n",
              "    <tr>\n",
              "      <th>26733</th>\n",
              "      <td>0.0</td>\n",
              "      <td>0.0</td>\n",
              "      <td>336.0</td>\n",
              "      <td>0.0</td>\n",
              "      <td>4.507926</td>\n",
              "      <td>223.44</td>\n",
              "      <td>0.0</td>\n",
              "      <td>0.0</td>\n",
              "      <td>0.0</td>\n",
              "      <td>2.446272</td>\n",
              "      <td>18.0</td>\n",
              "      <td>0.0</td>\n",
              "      <td>0.0</td>\n",
              "      <td>3.0</td>\n",
              "      <td>0.00</td>\n",
              "      <td>0.0</td>\n",
              "      <td>0.0</td>\n",
              "      <td>60.88866</td>\n",
              "      <td>0.0</td>\n",
              "      <td>-306411.60</td>\n",
              "      <td>0.0</td>\n",
              "      <td>59229.0</td>\n",
              "      <td>4.00000</td>\n",
              "      <td>24.0</td>\n",
              "      <td>0.0</td>\n",
              "      <td>0.0</td>\n",
              "      <td>0.0</td>\n",
              "      <td>0.0</td>\n",
              "      <td>0.0</td>\n",
              "      <td>2.949208e+05</td>\n",
              "      <td>0.0</td>\n",
              "      <td>0.0</td>\n",
              "      <td>0.0</td>\n",
              "      <td>14.0</td>\n",
              "      <td>0</td>\n",
              "      <td>0</td>\n",
              "      <td>0</td>\n",
              "      <td>0</td>\n",
              "      <td>0</td>\n",
              "      <td>0</td>\n",
              "      <td>...</td>\n",
              "      <td>0</td>\n",
              "      <td>0</td>\n",
              "      <td>0</td>\n",
              "      <td>0</td>\n",
              "      <td>1</td>\n",
              "      <td>0</td>\n",
              "      <td>0</td>\n",
              "      <td>0</td>\n",
              "      <td>0</td>\n",
              "      <td>0</td>\n",
              "      <td>0</td>\n",
              "      <td>0</td>\n",
              "      <td>0</td>\n",
              "      <td>0</td>\n",
              "      <td>0</td>\n",
              "      <td>0</td>\n",
              "      <td>0</td>\n",
              "      <td>0</td>\n",
              "      <td>0</td>\n",
              "      <td>0</td>\n",
              "      <td>0</td>\n",
              "      <td>1</td>\n",
              "      <td>0</td>\n",
              "      <td>0</td>\n",
              "      <td>0</td>\n",
              "      <td>0</td>\n",
              "      <td>0</td>\n",
              "      <td>0</td>\n",
              "      <td>0</td>\n",
              "      <td>0</td>\n",
              "      <td>0</td>\n",
              "      <td>0</td>\n",
              "      <td>0</td>\n",
              "      <td>0</td>\n",
              "      <td>0</td>\n",
              "      <td>0</td>\n",
              "      <td>0</td>\n",
              "      <td>0</td>\n",
              "      <td>0</td>\n",
              "      <td>0</td>\n",
              "    </tr>\n",
              "    <tr>\n",
              "      <th>33996</th>\n",
              "      <td>749.0</td>\n",
              "      <td>14.0</td>\n",
              "      <td>120.0</td>\n",
              "      <td>124.0</td>\n",
              "      <td>0.000000</td>\n",
              "      <td>186.64</td>\n",
              "      <td>0.0</td>\n",
              "      <td>3916278.0</td>\n",
              "      <td>0.0</td>\n",
              "      <td>6.724418</td>\n",
              "      <td>18.0</td>\n",
              "      <td>21.0</td>\n",
              "      <td>2764800.0</td>\n",
              "      <td>15.0</td>\n",
              "      <td>228468.00</td>\n",
              "      <td>15.0</td>\n",
              "      <td>4.0</td>\n",
              "      <td>32.00000</td>\n",
              "      <td>32.0</td>\n",
              "      <td>467488.00</td>\n",
              "      <td>490.0</td>\n",
              "      <td>4995.0</td>\n",
              "      <td>-0.55388</td>\n",
              "      <td>72.0</td>\n",
              "      <td>5282000.0</td>\n",
              "      <td>172800.0</td>\n",
              "      <td>910.0</td>\n",
              "      <td>12.0</td>\n",
              "      <td>9.0</td>\n",
              "      <td>0.000000e+00</td>\n",
              "      <td>10292440.0</td>\n",
              "      <td>1036800.0</td>\n",
              "      <td>0.0</td>\n",
              "      <td>14.0</td>\n",
              "      <td>0</td>\n",
              "      <td>0</td>\n",
              "      <td>0</td>\n",
              "      <td>0</td>\n",
              "      <td>0</td>\n",
              "      <td>0</td>\n",
              "      <td>...</td>\n",
              "      <td>0</td>\n",
              "      <td>0</td>\n",
              "      <td>0</td>\n",
              "      <td>0</td>\n",
              "      <td>0</td>\n",
              "      <td>1</td>\n",
              "      <td>0</td>\n",
              "      <td>0</td>\n",
              "      <td>0</td>\n",
              "      <td>0</td>\n",
              "      <td>0</td>\n",
              "      <td>0</td>\n",
              "      <td>0</td>\n",
              "      <td>0</td>\n",
              "      <td>0</td>\n",
              "      <td>0</td>\n",
              "      <td>0</td>\n",
              "      <td>0</td>\n",
              "      <td>1</td>\n",
              "      <td>0</td>\n",
              "      <td>0</td>\n",
              "      <td>0</td>\n",
              "      <td>0</td>\n",
              "      <td>0</td>\n",
              "      <td>0</td>\n",
              "      <td>0</td>\n",
              "      <td>0</td>\n",
              "      <td>0</td>\n",
              "      <td>0</td>\n",
              "      <td>0</td>\n",
              "      <td>0</td>\n",
              "      <td>0</td>\n",
              "      <td>0</td>\n",
              "      <td>0</td>\n",
              "      <td>0</td>\n",
              "      <td>0</td>\n",
              "      <td>0</td>\n",
              "      <td>0</td>\n",
              "      <td>0</td>\n",
              "      <td>0</td>\n",
              "    </tr>\n",
              "    <tr>\n",
              "      <th>20423</th>\n",
              "      <td>266.0</td>\n",
              "      <td>0.0</td>\n",
              "      <td>0.0</td>\n",
              "      <td>140.0</td>\n",
              "      <td>4.000000</td>\n",
              "      <td>253.52</td>\n",
              "      <td>0.0</td>\n",
              "      <td>3849528.0</td>\n",
              "      <td>0.0</td>\n",
              "      <td>5.146336</td>\n",
              "      <td>9.0</td>\n",
              "      <td>0.0</td>\n",
              "      <td>2534464.0</td>\n",
              "      <td>0.0</td>\n",
              "      <td>176762.10</td>\n",
              "      <td>10.0</td>\n",
              "      <td>4.0</td>\n",
              "      <td>32.00000</td>\n",
              "      <td>32.0</td>\n",
              "      <td>216400.40</td>\n",
              "      <td>640.0</td>\n",
              "      <td>0.0</td>\n",
              "      <td>4.00000</td>\n",
              "      <td>0.0</td>\n",
              "      <td>4038885.0</td>\n",
              "      <td>1108822.0</td>\n",
              "      <td>0.0</td>\n",
              "      <td>0.0</td>\n",
              "      <td>9.0</td>\n",
              "      <td>1.108828e+06</td>\n",
              "      <td>10549560.0</td>\n",
              "      <td>950436.0</td>\n",
              "      <td>0.0</td>\n",
              "      <td>0.0</td>\n",
              "      <td>0</td>\n",
              "      <td>0</td>\n",
              "      <td>0</td>\n",
              "      <td>0</td>\n",
              "      <td>0</td>\n",
              "      <td>0</td>\n",
              "      <td>...</td>\n",
              "      <td>0</td>\n",
              "      <td>0</td>\n",
              "      <td>0</td>\n",
              "      <td>0</td>\n",
              "      <td>0</td>\n",
              "      <td>1</td>\n",
              "      <td>0</td>\n",
              "      <td>0</td>\n",
              "      <td>0</td>\n",
              "      <td>0</td>\n",
              "      <td>0</td>\n",
              "      <td>0</td>\n",
              "      <td>0</td>\n",
              "      <td>0</td>\n",
              "      <td>0</td>\n",
              "      <td>0</td>\n",
              "      <td>0</td>\n",
              "      <td>0</td>\n",
              "      <td>1</td>\n",
              "      <td>0</td>\n",
              "      <td>0</td>\n",
              "      <td>0</td>\n",
              "      <td>0</td>\n",
              "      <td>0</td>\n",
              "      <td>0</td>\n",
              "      <td>0</td>\n",
              "      <td>0</td>\n",
              "      <td>0</td>\n",
              "      <td>0</td>\n",
              "      <td>0</td>\n",
              "      <td>0</td>\n",
              "      <td>0</td>\n",
              "      <td>0</td>\n",
              "      <td>0</td>\n",
              "      <td>0</td>\n",
              "      <td>0</td>\n",
              "      <td>0</td>\n",
              "      <td>0</td>\n",
              "      <td>0</td>\n",
              "      <td>0</td>\n",
              "    </tr>\n",
              "    <tr>\n",
              "      <th>17716</th>\n",
              "      <td>1498.0</td>\n",
              "      <td>14.0</td>\n",
              "      <td>644.0</td>\n",
              "      <td>372.0</td>\n",
              "      <td>4.000000</td>\n",
              "      <td>166.56</td>\n",
              "      <td>0.0</td>\n",
              "      <td>0.0</td>\n",
              "      <td>0.0</td>\n",
              "      <td>6.846614</td>\n",
              "      <td>18.0</td>\n",
              "      <td>7.0</td>\n",
              "      <td>741536.0</td>\n",
              "      <td>0.0</td>\n",
              "      <td>18962.64</td>\n",
              "      <td>0.0</td>\n",
              "      <td>44.0</td>\n",
              "      <td>136.00000</td>\n",
              "      <td>184.0</td>\n",
              "      <td>22397.28</td>\n",
              "      <td>935.0</td>\n",
              "      <td>28521.0</td>\n",
              "      <td>-20.00000</td>\n",
              "      <td>0.0</td>\n",
              "      <td>729720.0</td>\n",
              "      <td>172196.0</td>\n",
              "      <td>920.0</td>\n",
              "      <td>0.0</td>\n",
              "      <td>9.0</td>\n",
              "      <td>8.862000e+03</td>\n",
              "      <td>1476600.0</td>\n",
              "      <td>266496.0</td>\n",
              "      <td>0.0</td>\n",
              "      <td>0.0</td>\n",
              "      <td>0</td>\n",
              "      <td>0</td>\n",
              "      <td>0</td>\n",
              "      <td>0</td>\n",
              "      <td>0</td>\n",
              "      <td>0</td>\n",
              "      <td>...</td>\n",
              "      <td>0</td>\n",
              "      <td>0</td>\n",
              "      <td>0</td>\n",
              "      <td>0</td>\n",
              "      <td>0</td>\n",
              "      <td>1</td>\n",
              "      <td>0</td>\n",
              "      <td>0</td>\n",
              "      <td>0</td>\n",
              "      <td>0</td>\n",
              "      <td>0</td>\n",
              "      <td>0</td>\n",
              "      <td>0</td>\n",
              "      <td>0</td>\n",
              "      <td>0</td>\n",
              "      <td>0</td>\n",
              "      <td>0</td>\n",
              "      <td>0</td>\n",
              "      <td>1</td>\n",
              "      <td>0</td>\n",
              "      <td>0</td>\n",
              "      <td>0</td>\n",
              "      <td>0</td>\n",
              "      <td>0</td>\n",
              "      <td>0</td>\n",
              "      <td>0</td>\n",
              "      <td>0</td>\n",
              "      <td>0</td>\n",
              "      <td>0</td>\n",
              "      <td>0</td>\n",
              "      <td>0</td>\n",
              "      <td>0</td>\n",
              "      <td>0</td>\n",
              "      <td>0</td>\n",
              "      <td>0</td>\n",
              "      <td>0</td>\n",
              "      <td>0</td>\n",
              "      <td>0</td>\n",
              "      <td>0</td>\n",
              "      <td>0</td>\n",
              "    </tr>\n",
              "    <tr>\n",
              "      <th>49103</th>\n",
              "      <td>1253.0</td>\n",
              "      <td>0.0</td>\n",
              "      <td>8.0</td>\n",
              "      <td>268.0</td>\n",
              "      <td>6.000000</td>\n",
              "      <td>266.88</td>\n",
              "      <td>0.0</td>\n",
              "      <td>1158288.0</td>\n",
              "      <td>0.0</td>\n",
              "      <td>4.092074</td>\n",
              "      <td>9.0</td>\n",
              "      <td>0.0</td>\n",
              "      <td>842320.0</td>\n",
              "      <td>0.0</td>\n",
              "      <td>52334.10</td>\n",
              "      <td>45.0</td>\n",
              "      <td>8.0</td>\n",
              "      <td>80.00000</td>\n",
              "      <td>72.0</td>\n",
              "      <td>943672.00</td>\n",
              "      <td>905.0</td>\n",
              "      <td>6813.0</td>\n",
              "      <td>40.00000</td>\n",
              "      <td>0.0</td>\n",
              "      <td>2034765.0</td>\n",
              "      <td>443354.0</td>\n",
              "      <td>0.0</td>\n",
              "      <td>0.0</td>\n",
              "      <td>0.0</td>\n",
              "      <td>3.760890e+05</td>\n",
              "      <td>4289400.0</td>\n",
              "      <td>660384.0</td>\n",
              "      <td>0.0</td>\n",
              "      <td>0.0</td>\n",
              "      <td>0</td>\n",
              "      <td>0</td>\n",
              "      <td>0</td>\n",
              "      <td>0</td>\n",
              "      <td>0</td>\n",
              "      <td>0</td>\n",
              "      <td>...</td>\n",
              "      <td>0</td>\n",
              "      <td>0</td>\n",
              "      <td>0</td>\n",
              "      <td>0</td>\n",
              "      <td>0</td>\n",
              "      <td>1</td>\n",
              "      <td>0</td>\n",
              "      <td>0</td>\n",
              "      <td>0</td>\n",
              "      <td>0</td>\n",
              "      <td>0</td>\n",
              "      <td>0</td>\n",
              "      <td>0</td>\n",
              "      <td>0</td>\n",
              "      <td>0</td>\n",
              "      <td>0</td>\n",
              "      <td>0</td>\n",
              "      <td>0</td>\n",
              "      <td>1</td>\n",
              "      <td>0</td>\n",
              "      <td>0</td>\n",
              "      <td>0</td>\n",
              "      <td>0</td>\n",
              "      <td>0</td>\n",
              "      <td>0</td>\n",
              "      <td>0</td>\n",
              "      <td>0</td>\n",
              "      <td>0</td>\n",
              "      <td>0</td>\n",
              "      <td>0</td>\n",
              "      <td>0</td>\n",
              "      <td>0</td>\n",
              "      <td>0</td>\n",
              "      <td>0</td>\n",
              "      <td>0</td>\n",
              "      <td>0</td>\n",
              "      <td>0</td>\n",
              "      <td>0</td>\n",
              "      <td>0</td>\n",
              "      <td>0</td>\n",
              "    </tr>\n",
              "  </tbody>\n",
              "</table>\n",
              "<p>5 rows × 341 columns</p>\n",
              "</div>"
            ],
            "text/plain": [
              "         Var6  Var7  ...  Var228_r_7E  Var228_xwM2aC7IdeMC0\n",
              "26733     0.0   0.0  ...            0                     0\n",
              "33996   749.0  14.0  ...            0                     0\n",
              "20423   266.0   0.0  ...            0                     0\n",
              "17716  1498.0  14.0  ...            0                     0\n",
              "49103  1253.0   0.0  ...            0                     0\n",
              "\n",
              "[5 rows x 341 columns]"
            ]
          },
          "metadata": {
            "tags": []
          },
          "execution_count": 60
        }
      ]
    },
    {
      "cell_type": "code",
      "metadata": {
        "id": "FU9N83F_8fw4"
      },
      "source": [
        "s1 = x_train[y_train_churn==0]\n",
        "s2 = x_train[y_train_churn==1]\n",
        "m1 = s1.mean()\n",
        "m2 = s2.mean()\n",
        "std1 = s1.std()\n",
        "std2 = s2.std()\n",
        "n1 = len(s1)\n",
        "n2 = len(s2)"
      ],
      "execution_count": 61,
      "outputs": []
    },
    {
      "cell_type": "code",
      "metadata": {
        "id": "UyTriS9O8t5F"
      },
      "source": [
        "t_stats = np.abs(m1-m2)/np.sqrt((std1**2/n1) + (std2**2/n2))"
      ],
      "execution_count": 62,
      "outputs": []
    },
    {
      "cell_type": "code",
      "metadata": {
        "id": "WqjGt-aP4Sgn"
      },
      "source": [
        "t_stats =  abs(t_stats).sort_values(ascending = False)"
      ],
      "execution_count": 63,
      "outputs": []
    },
    {
      "cell_type": "code",
      "metadata": {
        "id": "nmhgmq-O4yNg"
      },
      "source": [
        "top15_churn = t_stats.index[:15]"
      ],
      "execution_count": 64,
      "outputs": []
    },
    {
      "cell_type": "code",
      "metadata": {
        "colab": {
          "base_uri": "https://localhost:8080/"
        },
        "id": "C9vEVd4i40UT",
        "outputId": "27092209-7b4b-4492-97ff-2094a9824dc2"
      },
      "source": [
        "print(\"The top 15 best predictors are\", list(top15_churn), sep = \"\\t\")"
      ],
      "execution_count": 65,
      "outputs": [
        {
          "output_type": "stream",
          "text": [
            "The top 15 best predictors are\t['Var212_NhsEn4L', 'Var7', 'Var193_RO12', 'Var228_F2FyR07IdsN7I', 'Var144', 'Var113', 'Var205_sJzTlal', 'Var126', 'Var13', 'Var74', 'Var193_2Knk1KF', 'Var207_me75fM6ugJ', 'Var207_7M47J5GA0pTYIFxg5uy', 'Var227_ZI9m', 'Var227_RAYp']\n"
          ],
          "name": "stdout"
        }
      ]
    },
    {
      "cell_type": "code",
      "metadata": {
        "id": "SU1mULfq47IA"
      },
      "source": [
        "x_train_new = x_train[list(top15_churn)]\n",
        "x_val_new = x_val[list(top15_churn)]"
      ],
      "execution_count": 66,
      "outputs": []
    },
    {
      "cell_type": "code",
      "metadata": {
        "colab": {
          "base_uri": "https://localhost:8080/"
        },
        "id": "pBUfUIkEVCdY",
        "outputId": "35c3b114-3269-4c94-ba63-1eb3811a563b"
      },
      "source": [
        "x_train_new.shape"
      ],
      "execution_count": 102,
      "outputs": [
        {
          "output_type": "execute_result",
          "data": {
            "text/plain": [
              "(40000, 15)"
            ]
          },
          "metadata": {
            "tags": []
          },
          "execution_count": 102
        }
      ]
    },
    {
      "cell_type": "code",
      "metadata": {
        "colab": {
          "base_uri": "https://localhost:8080/"
        },
        "id": "vWgUQcRq5Iwe",
        "outputId": "fbfb2baf-fe19-4b0f-fe05-f013fbabdf5c"
      },
      "source": [
        "y_train_churn.head()"
      ],
      "execution_count": 68,
      "outputs": [
        {
          "output_type": "execute_result",
          "data": {
            "text/plain": [
              "4183     0\n",
              "18443    0\n",
              "26332    1\n",
              "39816    0\n",
              "21627    0\n",
              "Name: churn_labels, dtype: int64"
            ]
          },
          "metadata": {
            "tags": []
          },
          "execution_count": 68
        }
      ]
    },
    {
      "cell_type": "code",
      "metadata": {
        "colab": {
          "base_uri": "https://localhost:8080/"
        },
        "id": "qWc2PSK85WVj",
        "outputId": "d0a045b7-35d9-4b66-afcd-e56e55297bb7"
      },
      "source": [
        "y_val_churn.head()"
      ],
      "execution_count": 69,
      "outputs": [
        {
          "output_type": "execute_result",
          "data": {
            "text/plain": [
              "26733    0\n",
              "33996    0\n",
              "20423    0\n",
              "17716    0\n",
              "49103    0\n",
              "Name: churn_labels, dtype: int64"
            ]
          },
          "metadata": {
            "tags": []
          },
          "execution_count": 69
        }
      ]
    },
    {
      "cell_type": "markdown",
      "metadata": {
        "id": "uwd12Bd7ToOq"
      },
      "source": [
        "# Decision Tree"
      ]
    },
    {
      "cell_type": "code",
      "metadata": {
        "colab": {
          "base_uri": "https://localhost:8080/"
        },
        "id": "qxdcz1xpTnYU",
        "outputId": "18f6d2e2-6de5-4e38-9321-136bd446565b"
      },
      "source": [
        "DecisionTree_churn = DecisionTreeClassifier(random_state=42)\n",
        "DecisionTree_churn.fit(x_train_new, y_train_churn)"
      ],
      "execution_count": 70,
      "outputs": [
        {
          "output_type": "execute_result",
          "data": {
            "text/plain": [
              "DecisionTreeClassifier(ccp_alpha=0.0, class_weight=None, criterion='gini',\n",
              "                       max_depth=None, max_features=None, max_leaf_nodes=None,\n",
              "                       min_impurity_decrease=0.0, min_impurity_split=None,\n",
              "                       min_samples_leaf=1, min_samples_split=2,\n",
              "                       min_weight_fraction_leaf=0.0, presort='deprecated',\n",
              "                       random_state=42, splitter='best')"
            ]
          },
          "metadata": {
            "tags": []
          },
          "execution_count": 70
        }
      ]
    },
    {
      "cell_type": "code",
      "metadata": {
        "id": "ot2nSDL6TnHF"
      },
      "source": [
        "y_train_pred_churn_dt = DecisionTree_churn.predict(x_train_new)\n",
        "y_val_pred_churn_dt = DecisionTree_churn.predict(x_val_new)"
      ],
      "execution_count": 71,
      "outputs": []
    },
    {
      "cell_type": "code",
      "metadata": {
        "id": "A0Pp-H2-TnCQ"
      },
      "source": [
        "dt_churn_probs = DecisionTree_churn.predict_proba(x_val_new)\n",
        "dt_churn_probs = dt_churn_probs[:, 1]"
      ],
      "execution_count": 72,
      "outputs": []
    },
    {
      "cell_type": "code",
      "metadata": {
        "colab": {
          "base_uri": "https://localhost:8080/"
        },
        "id": "V4LFEZpNTm-v",
        "outputId": "45e10c00-2857-4687-bf9a-f21e0ce2414f"
      },
      "source": [
        "# printing roc_auc score\n",
        "dt_auc_churn = roc_auc_score(y_val_churn, dt_churn_probs)\n",
        "print('DecisionTree: ROC AUC=%.3f' % (dt_auc_churn))"
      ],
      "execution_count": 90,
      "outputs": [
        {
          "output_type": "stream",
          "text": [
            "DecisionTree: ROC AUC=0.522\n"
          ],
          "name": "stdout"
        }
      ]
    },
    {
      "cell_type": "code",
      "metadata": {
        "colab": {
          "base_uri": "https://localhost:8080/"
        },
        "id": "jasnmEZ1Tm5v",
        "outputId": "41290101-5abc-456f-87be-54473856974f"
      },
      "source": [
        "# printing train and validation accuracies\n",
        "train_accuracy = accuracy_score(y_train_churn, y_train_pred_churn_dt)\n",
        "validation_accuracy = accuracy_score(y_val_churn, y_val_pred_churn_dt)\n",
        "print(\"Train Accuracy DT\", np.round(train_accuracy,3))\n",
        "print(\"Validation Accuracy DT\", np.round(validation_accuracy,3))"
      ],
      "execution_count": 74,
      "outputs": [
        {
          "output_type": "stream",
          "text": [
            "Train Accuracy DT 0.999\n",
            "Validation Accuracy DT 0.861\n"
          ],
          "name": "stdout"
        }
      ]
    },
    {
      "cell_type": "code",
      "metadata": {
        "colab": {
          "base_uri": "https://localhost:8080/",
          "height": 295
        },
        "id": "78203THgVlEy",
        "outputId": "a5b776ec-cf13-46ce-df49-967ec8c15832"
      },
      "source": [
        "# confusion matrix for train\n",
        "conf_matrix = confusion_matrix(y_train_churn, y_train_pred_churn_dt)\n",
        "plt.figure(figsize=(4, 4))\n",
        "sns.heatmap(conf_matrix,  annot=True,fmt=\"d\")\n",
        "plt.title(\"Confusion matrix\")\n",
        "plt.ylabel('True class')\n",
        "plt.xlabel('Predicted class')\n",
        "plt.show()"
      ],
      "execution_count": 75,
      "outputs": [
        {
          "output_type": "display_data",
          "data": {
            "image/png": "[encoded data removed]",
            "text/plain": [
              "<Figure size 288x288 with 2 Axes>"
            ]
          },
          "metadata": {
            "tags": [],
            "needs_background": "light"
          }
        }
      ]
    },
    {
      "cell_type": "code",
      "metadata": {
        "colab": {
          "base_uri": "https://localhost:8080/",
          "height": 295
        },
        "id": "pEYGFD0LTm1G",
        "outputId": "ce36961d-f26e-42e6-f6fb-6143fac5408c"
      },
      "source": [
        "# confusion matrix for val\n",
        "conf_matrix = confusion_matrix(y_val_churn, y_val_pred_churn_dt)\n",
        "plt.figure(figsize=(4, 4))\n",
        "sns.heatmap(conf_matrix,  annot=True,fmt=\"d\")\n",
        "plt.title(\"Confusion matrix\")\n",
        "plt.ylabel('True class')\n",
        "plt.xlabel('Predicted class')\n",
        "plt.show()"
      ],
      "execution_count": 76,
      "outputs": [
        {
          "output_type": "display_data",
          "data": {
            "image/png": "[encoded data removed]",
            "text/plain": [
              "<Figure size 288x288 with 2 Axes>"
            ]
          },
          "metadata": {
            "tags": [],
            "needs_background": "light"
          }
        }
      ]
    },
    {
      "cell_type": "code",
      "metadata": {
        "colab": {
          "base_uri": "https://localhost:8080/"
        },
        "id": "VzoexX81Tmmv",
        "outputId": "251a8296-b536-49a0-e9a4-088d038b3eac"
      },
      "source": [
        "# printing recall and fnr values\n",
        "tn, fp, fn, tp = confusion_matrix(y_val_churn, y_val_pred_churn_dt).ravel()\n",
        "recall_churn = tp/(tp + fn)\n",
        "FNR_value = 1 - recall_churn\n",
        "print(f'Recall_churn: {recall_churn:.3f}, FNR_value: {FNR_value:.3f}')"
      ],
      "execution_count": 77,
      "outputs": [
        {
          "output_type": "stream",
          "text": [
            "Recall_churn: 0.120, FNR_value: 0.880\n"
          ],
          "name": "stdout"
        }
      ]
    },
    {
      "cell_type": "code",
      "metadata": {
        "colab": {
          "base_uri": "https://localhost:8080/"
        },
        "id": "j4lPqUfOTmF8",
        "outputId": "6e87f238-5311-4e1f-93be-b96107c1137b"
      },
      "source": [
        "# printing roc-auc scores for train and val\n",
        "print(f'ROC AUC for train dt: {roc_auc_score(y_train_churn, y_train_pred_churn_dt):.3f}')\n",
        "print(f'ROC AUC for val dt: {roc_auc_score(y_val_churn, y_val_pred_churn_dt):.3f}')"
      ],
      "execution_count": 146,
      "outputs": [
        {
          "output_type": "stream",
          "text": [
            "ROC AUC for train dt: 0.994\n",
            "ROC AUC for val dt: 0.519\n"
          ],
          "name": "stdout"
        }
      ]
    },
    {
      "cell_type": "code",
      "metadata": {
        "colab": {
          "base_uri": "https://localhost:8080/"
        },
        "id": "fiDPHvSHem-Q",
        "outputId": "ee482d5d-e1e9-469e-b2e3-7be392ea7c9a"
      },
      "source": [
        "# classification report of train\n",
        "print(classification_report(y_train_churn, y_train_pred_churn_dt))"
      ],
      "execution_count": 147,
      "outputs": [
        {
          "output_type": "stream",
          "text": [
            "              precision    recall  f1-score   support\n",
            "\n",
            "           0       1.00      1.00      1.00     37038\n",
            "           1       1.00      0.99      0.99      2962\n",
            "\n",
            "    accuracy                           1.00     40000\n",
            "   macro avg       1.00      0.99      1.00     40000\n",
            "weighted avg       1.00      1.00      1.00     40000\n",
            "\n"
          ],
          "name": "stdout"
        }
      ]
    },
    {
      "cell_type": "code",
      "metadata": {
        "colab": {
          "base_uri": "https://localhost:8080/"
        },
        "id": "WngEwfxgehg3",
        "outputId": "afcfc8fc-63bf-4620-92e2-5639c77db16c"
      },
      "source": [
        "# classification report of val\n",
        "print(classification_report(y_val_churn, y_val_pred_churn_dt))"
      ],
      "execution_count": 148,
      "outputs": [
        {
          "output_type": "stream",
          "text": [
            "              precision    recall  f1-score   support\n",
            "\n",
            "           0       0.93      0.92      0.92      9290\n",
            "           1       0.10      0.12      0.11       710\n",
            "\n",
            "    accuracy                           0.86     10000\n",
            "   macro avg       0.52      0.52      0.52     10000\n",
            "weighted avg       0.87      0.86      0.87     10000\n",
            "\n"
          ],
          "name": "stdout"
        }
      ]
    },
    {
      "cell_type": "code",
      "metadata": {
        "colab": {
          "base_uri": "https://localhost:8080/"
        },
        "id": "rX3wR5UWWDRy",
        "outputId": "caab7657-eb47-47c2-bbcd-d1ea01136263"
      },
      "source": [
        "# printing f1 scores for train and val\n",
        "f1_churn = f1_score(y_train_churn, y_train_pred_churn_dt)\n",
        "print(\"f1 score for train is \", np.round(f1_churn,3))\n",
        "f1_churn = f1_score(y_val_churn, y_val_pred_churn_dt)\n",
        "print(\"f1 score for val is \", np.round(f1_churn,3))"
      ],
      "execution_count": 82,
      "outputs": [
        {
          "output_type": "stream",
          "text": [
            "f1 score for train is  0.992\n",
            "f1 score for val is  0.109\n"
          ],
          "name": "stdout"
        }
      ]
    },
    {
      "cell_type": "code",
      "metadata": {
        "id": "-mcQ0KwhLVA4"
      },
      "source": [
        "#Define a function to calculate feature importance \n",
        "def feature_importance(cols, fi, fistd = 0):\n",
        "    return pd.DataFrame({'features':cols, 'importance':fi, 'importance_std': fistd}).sort_values('importance', ascending=False)"
      ],
      "execution_count": 83,
      "outputs": []
    },
    {
      "cell_type": "code",
      "metadata": {
        "colab": {
          "base_uri": "https://localhost:8080/",
          "height": 296
        },
        "id": "t-FZxI62L4YZ",
        "outputId": "12b5bfc6-ef72-41e8-ca31-52fdf2e13591"
      },
      "source": [
        "#Calculate permutation importance and plot a bar chart \n",
        "pfi = permutation_importance(DecisionTree_churn, x_train_new, y_train_churn, n_repeats=30)\n",
        "pfidf = feature_importance(x_train_new.columns, pfi['importances_mean'], pfi['importances_std'])\n",
        "\n",
        "#Plot the bar plot\n",
        "sns.barplot(data=pfidf, x='importance', y='features', xerr=pfidf.importance_std)"
      ],
      "execution_count": 85,
      "outputs": [
        {
          "output_type": "execute_result",
          "data": {
            "text/plain": [
              "<matplotlib.axes._subplots.AxesSubplot at 0x7fa30fd00190>"
            ]
          },
          "metadata": {
            "tags": []
          },
          "execution_count": 85
        },
        {
          "output_type": "display_data",
          "data": {
            "image/png": "[encoded data removed]",
            "text/plain": [
              "<Figure size 432x288 with 1 Axes>"
            ]
          },
          "metadata": {
            "tags": [],
            "needs_background": "light"
          }
        }
      ]
    },
    {
      "cell_type": "markdown",
      "metadata": {
        "id": "COpwOfD1-2Nc"
      },
      "source": [
        "# Random Forest model"
      ]
    },
    {
      "cell_type": "code",
      "metadata": {
        "colab": {
          "base_uri": "https://localhost:8080/"
        },
        "id": "B8N4acpn5bSA",
        "outputId": "64286510-35f2-4d2e-b21e-af216269e954"
      },
      "source": [
        "RF_model_churn = RandomForestClassifier(n_estimators=200, max_depth = 35, min_samples_split = 2, min_samples_leaf = 1)\n",
        "RF_model_churn.fit(x_train_new, y_train_churn)"
      ],
      "execution_count": 86,
      "outputs": [
        {
          "output_type": "execute_result",
          "data": {
            "text/plain": [
              "RandomForestClassifier(bootstrap=True, ccp_alpha=0.0, class_weight=None,\n",
              "                       criterion='gini', max_depth=35, max_features='auto',\n",
              "                       max_leaf_nodes=None, max_samples=None,\n",
              "                       min_impurity_decrease=0.0, min_impurity_split=None,\n",
              "                       min_samples_leaf=1, min_samples_split=2,\n",
              "                       min_weight_fraction_leaf=0.0, n_estimators=200,\n",
              "                       n_jobs=None, oob_score=False, random_state=None,\n",
              "                       verbose=0, warm_start=False)"
            ]
          },
          "metadata": {
            "tags": []
          },
          "execution_count": 86
        }
      ]
    },
    {
      "cell_type": "code",
      "metadata": {
        "id": "6Xp9PgGY6MKZ"
      },
      "source": [
        "y_train_pred_churn_rf = RF_model_churn.predict(x_train_new)\n",
        "y_val_pred_churn_rf = RF_model_churn.predict(x_val_new)"
      ],
      "execution_count": 87,
      "outputs": []
    },
    {
      "cell_type": "code",
      "metadata": {
        "id": "mmpvS1688KsD"
      },
      "source": [
        "rf_churn_probs = RF_model_churn.predict_proba(x_val_new)\n",
        "rf_churn_probs = rf_churn_probs[:, 1]"
      ],
      "execution_count": 88,
      "outputs": []
    },
    {
      "cell_type": "code",
      "metadata": {
        "id": "cknvvKIR8fTV",
        "colab": {
          "base_uri": "https://localhost:8080/"
        },
        "outputId": "01ea762c-b7a4-4ad8-9207-804f49a9b007"
      },
      "source": [
        "# printing roc_auc score\n",
        "rf_auc_churn = roc_auc_score(y_val_churn, rf_churn_probs)\n",
        "print('RandomForest: ROC AUC=%.3f' % (rf_auc_churn))"
      ],
      "execution_count": 89,
      "outputs": [
        {
          "output_type": "stream",
          "text": [
            "RandomForest: ROC AUC=0.629\n"
          ],
          "name": "stdout"
        }
      ]
    },
    {
      "cell_type": "code",
      "metadata": {
        "colab": {
          "base_uri": "https://localhost:8080/"
        },
        "id": "0mm5jrPD9c0_",
        "outputId": "e9981bb0-c52e-47bd-a13a-b4bc51b278bd"
      },
      "source": [
        "# printing train and validation accuracies\n",
        "train_accuracy = accuracy_score(y_train_churn, y_train_pred_churn_rf)\n",
        "validation_accuracy = accuracy_score(y_val_churn, y_val_pred_churn_rf)\n",
        "print(\"Train Accuracy\", np.round(train_accuracy,3))\n",
        "print(\"Validation Accuracy\", np.round(validation_accuracy,3))"
      ],
      "execution_count": 91,
      "outputs": [
        {
          "output_type": "stream",
          "text": [
            "Train Accuracy 0.997\n",
            "Validation Accuracy 0.91\n"
          ],
          "name": "stdout"
        }
      ]
    },
    {
      "cell_type": "code",
      "metadata": {
        "colab": {
          "base_uri": "https://localhost:8080/",
          "height": 295
        },
        "id": "HlzRsQMaNN51",
        "outputId": "f6dad4a1-06ee-46dc-9ff7-c5762697a56e"
      },
      "source": [
        "# conf-matrix for train data\n",
        "conf_matrix = confusion_matrix(y_train_churn, y_train_pred_churn_rf)\n",
        "plt.figure(figsize=(4, 4))\n",
        "sns.heatmap(conf_matrix,  annot=True,fmt=\"d\")\n",
        "plt.title(\"Confusion matrix\")\n",
        "plt.ylabel('True class')\n",
        "plt.xlabel('Predicted class')\n",
        "plt.show()"
      ],
      "execution_count": 93,
      "outputs": [
        {
          "output_type": "display_data",
          "data": {
            "image/png": "[encoded data removed]",
            "text/plain": [
              "<Figure size 288x288 with 2 Axes>"
            ]
          },
          "metadata": {
            "tags": [],
            "needs_background": "light"
          }
        }
      ]
    },
    {
      "cell_type": "code",
      "metadata": {
        "id": "zrx2vbrl98lA",
        "colab": {
          "base_uri": "https://localhost:8080/",
          "height": 295
        },
        "outputId": "128d5025-034e-4aeb-ba13-2cfc14561cb5"
      },
      "source": [
        "# conf-matrix for val data\n",
        "conf_matrix = confusion_matrix(y_val_churn, y_val_pred_churn_rf)\n",
        "plt.figure(figsize=(4, 4))\n",
        "sns.heatmap(conf_matrix,  annot=True,fmt=\"d\")\n",
        "plt.title(\"Confusion matrix\")\n",
        "plt.ylabel('True class')\n",
        "plt.xlabel('Predicted class')\n",
        "plt.show()"
      ],
      "execution_count": 92,
      "outputs": [
        {
          "output_type": "display_data",
          "data": {
            "image/png": "[encoded data removed]",
            "text/plain": [
              "<Figure size 288x288 with 2 Axes>"
            ]
          },
          "metadata": {
            "tags": [],
            "needs_background": "light"
          }
        }
      ]
    },
    {
      "cell_type": "code",
      "metadata": {
        "id": "3fiZ7_pE9_EZ",
        "colab": {
          "base_uri": "https://localhost:8080/"
        },
        "outputId": "a0702e33-3727-4761-8066-d1b4e5565b27"
      },
      "source": [
        "# recall and fnr values\n",
        "tn, fp, fn, tp = confusion_matrix(y_val_churn, y_val_pred_churn_rf).ravel()\n",
        "recall_churn = tp/(tp + fn)\n",
        "FNR_value = 1 - recall_churn\n",
        "print(f'Recall_churn: {recall_churn:.3f}, FNR_value: {FNR_value:.3f}')"
      ],
      "execution_count": 97,
      "outputs": [
        {
          "output_type": "stream",
          "text": [
            "Recall_churn: 0.061, FNR_value: 0.939\n"
          ],
          "name": "stdout"
        }
      ]
    },
    {
      "cell_type": "code",
      "metadata": {
        "colab": {
          "base_uri": "https://localhost:8080/"
        },
        "id": "vTNUlKKLNo0v",
        "outputId": "01dab127-d375-45b5-a386-fc8384e2873a"
      },
      "source": [
        "# printing roc-auc scores for train and val\n",
        "print(f'ROC AUC for train rf: {roc_auc_score(y_train_churn, y_train_pred_churn_rf):.3f}')\n",
        "print(f'ROC AUC for val rf: {roc_auc_score(y_val_churn, y_val_pred_churn_rf):.3f}')"
      ],
      "execution_count": 98,
      "outputs": [
        {
          "output_type": "stream",
          "text": [
            "ROC AUC for train rf: 0.981\n",
            "ROC AUC for val rf: 0.518\n"
          ],
          "name": "stdout"
        }
      ]
    },
    {
      "cell_type": "code",
      "metadata": {
        "colab": {
          "base_uri": "https://localhost:8080/"
        },
        "id": "vsfokyxXfbFl",
        "outputId": "fc15ec9f-804e-41b2-9813-3586b64b6163"
      },
      "source": [
        "# classification report of train\n",
        "print(classification_report(y_train_churn, y_train_pred_churn_rf))"
      ],
      "execution_count": 151,
      "outputs": [
        {
          "output_type": "stream",
          "text": [
            "              precision    recall  f1-score   support\n",
            "\n",
            "           0       1.00      1.00      1.00     37038\n",
            "           1       1.00      0.96      0.98      2962\n",
            "\n",
            "    accuracy                           1.00     40000\n",
            "   macro avg       1.00      0.98      0.99     40000\n",
            "weighted avg       1.00      1.00      1.00     40000\n",
            "\n"
          ],
          "name": "stdout"
        }
      ]
    },
    {
      "cell_type": "code",
      "metadata": {
        "colab": {
          "base_uri": "https://localhost:8080/"
        },
        "id": "MgRfSAm0fb63",
        "outputId": "5f1c1c5b-0322-4def-83d7-6a4ad25b0ca4"
      },
      "source": [
        "# classification report of val\n",
        "print(classification_report(y_val_churn, y_val_pred_churn_rf))"
      ],
      "execution_count": 152,
      "outputs": [
        {
          "output_type": "stream",
          "text": [
            "              precision    recall  f1-score   support\n",
            "\n",
            "           0       0.93      0.98      0.95      9290\n",
            "           1       0.16      0.06      0.09       710\n",
            "\n",
            "    accuracy                           0.91     10000\n",
            "   macro avg       0.54      0.52      0.52     10000\n",
            "weighted avg       0.88      0.91      0.89     10000\n",
            "\n"
          ],
          "name": "stdout"
        }
      ]
    },
    {
      "cell_type": "code",
      "metadata": {
        "colab": {
          "base_uri": "https://localhost:8080/"
        },
        "id": "pl97_Z7n-bTG",
        "outputId": "0ad72453-7232-497d-d1ad-cf284061ab8c"
      },
      "source": [
        "# printing f1 scores for train and val\n",
        "f1_churn = f1_score(y_train_churn, y_train_pred_churn_rf)\n",
        "print(\"f1 score for train is \", np.round(f1_churn,3))\n",
        "f1_churn = f1_score(y_val_churn, y_val_pred_churn_rf)\n",
        "print(\"f1 score for val is \", np.round(f1_churn,3))"
      ],
      "execution_count": 99,
      "outputs": [
        {
          "output_type": "stream",
          "text": [
            "f1 score for train is  0.979\n",
            "f1 score for val is  0.087\n"
          ],
          "name": "stdout"
        }
      ]
    },
    {
      "cell_type": "code",
      "metadata": {
        "colab": {
          "base_uri": "https://localhost:8080/",
          "height": 296
        },
        "id": "4FBkoTyuN-GL",
        "outputId": "28f77ece-ea20-43ef-a8a2-f280cc41a822"
      },
      "source": [
        "#Calculate permutation importance and plot a bar chart \n",
        "pfi = permutation_importance(RF_model_churn, x_train_new, y_train_churn, n_repeats=30)\n",
        "pfidf = feature_importance(x_train_new.columns, pfi['importances_mean'], pfi['importances_std'])\n",
        "\n",
        "#Plot the bar plot\n",
        "sns.barplot(data=pfidf, x='importance', y='features', xerr=pfidf.importance_std)"
      ],
      "execution_count": 100,
      "outputs": [
        {
          "output_type": "execute_result",
          "data": {
            "text/plain": [
              "<matplotlib.axes._subplots.AxesSubplot at 0x7fa2fa6beb10>"
            ]
          },
          "metadata": {
            "tags": []
          },
          "execution_count": 100
        },
        {
          "output_type": "display_data",
          "data": {
            "image/png": "[encoded data removed]",
            "text/plain": [
              "<Figure size 432x288 with 1 Axes>"
            ]
          },
          "metadata": {
            "tags": [],
            "needs_background": "light"
          }
        }
      ]
    },
    {
      "cell_type": "markdown",
      "metadata": {
        "id": "iC2wLN_7BXUc"
      },
      "source": [
        "# XG Boost"
      ]
    },
    {
      "cell_type": "code",
      "metadata": {
        "colab": {
          "base_uri": "https://localhost:8080/"
        },
        "id": "x1Jc3pOVGY06",
        "outputId": "91c136cd-7710-48a1-8ea7-1f491dd8b9f3"
      },
      "source": [
        "xgb_model = xgb.XGBClassifier(nthread=-1, objective='multi:softmax',num_class= 2,learning_rate=0.0001,max_depth=15,colsample_bytree=0.7,subsample=0.7)\n",
        "xgb_model.fit(x_train_new, y_train_churn)"
      ],
      "execution_count": 103,
      "outputs": [
        {
          "output_type": "execute_result",
          "data": {
            "text/plain": [
              "XGBClassifier(base_score=0.5, booster='gbtree', colsample_bylevel=1,\n",
              "              colsample_bynode=1, colsample_bytree=0.7, gamma=0,\n",
              "              learning_rate=0.0001, max_delta_step=0, max_depth=15,\n",
              "              min_child_weight=1, missing=None, n_estimators=100, n_jobs=1,\n",
              "              nthread=-1, num_class=2, objective='multi:softmax',\n",
              "              random_state=0, reg_alpha=0, reg_lambda=1, scale_pos_weight=1,\n",
              "              seed=None, silent=None, subsample=0.7, verbosity=1)"
            ]
          },
          "metadata": {
            "tags": []
          },
          "execution_count": 103
        }
      ]
    },
    {
      "cell_type": "code",
      "metadata": {
        "id": "3HMLNrd-BiOY"
      },
      "source": [
        "xgb_pred_train = xgb_model.predict(x_train_new)\n",
        "xgb_pred_val = xgb_model.predict(x_val_new)\n"
      ],
      "execution_count": 104,
      "outputs": []
    },
    {
      "cell_type": "code",
      "metadata": {
        "id": "UWobZFMNCu33"
      },
      "source": [
        "# xgb.Booster()\n",
        "xgb_churn_probs = xgb_model.predict_proba(x_val_new)\n",
        "xgb_churn_probs = xgb_churn_probs[:, 1]\n",
        "\n"
      ],
      "execution_count": 105,
      "outputs": []
    },
    {
      "cell_type": "code",
      "metadata": {
        "colab": {
          "base_uri": "https://localhost:8080/"
        },
        "id": "kkWWp7HTDKwH",
        "outputId": "296fac29-b373-4143-9447-cc2248ee2db9"
      },
      "source": [
        "# printing roc auc of val\n",
        "xgb_auc_churn = roc_auc_score(y_val_churn, xgb_churn_probs)\n",
        "print('XGB boost: ROC AUC=%.3f' % (xgb_auc_churn))"
      ],
      "execution_count": 107,
      "outputs": [
        {
          "output_type": "stream",
          "text": [
            "XGB boost: ROC AUC=0.502\n"
          ],
          "name": "stdout"
        }
      ]
    },
    {
      "cell_type": "code",
      "metadata": {
        "colab": {
          "base_uri": "https://localhost:8080/"
        },
        "id": "uSzVudYoHbAn",
        "outputId": "df68b7b5-8ad6-4336-b5a0-d1070231e526"
      },
      "source": [
        "# printing train and val accuracies\n",
        "train_accuracy = accuracy_score(y_train_churn, xgb_pred_train)\n",
        "validation_accuracy = accuracy_score(y_val_churn, xgb_pred_val)\n",
        "print(\"Train Accuracy\", np.round(train_accuracy,3))\n",
        "print(\"Validation Accuracy\", np.round(validation_accuracy,3))"
      ],
      "execution_count": 109,
      "outputs": [
        {
          "output_type": "stream",
          "text": [
            "Train Accuracy 0.926\n",
            "Validation Accuracy 0.929\n"
          ],
          "name": "stdout"
        }
      ]
    },
    {
      "cell_type": "code",
      "metadata": {
        "colab": {
          "base_uri": "https://localhost:8080/",
          "height": 295
        },
        "id": "MvRrZp3YWKg2",
        "outputId": "571c86c1-ad95-4a8e-b2fc-1899c1c693af"
      },
      "source": [
        "# confusion matrix of train data\n",
        "conf_matrix = confusion_matrix(y_train_churn, xgb_pred_train)\n",
        "plt.figure(figsize=(4, 4))\n",
        "sns.heatmap(conf_matrix,  annot=True,fmt=\"d\")\n",
        "plt.title(\"Confusion matrix\")\n",
        "plt.ylabel('True class')\n",
        "plt.xlabel('Predicted class')\n",
        "plt.show()"
      ],
      "execution_count": 111,
      "outputs": [
        {
          "output_type": "display_data",
          "data": {
            "image/png": "[encoded data removed]",
            "text/plain": [
              "<Figure size 288x288 with 2 Axes>"
            ]
          },
          "metadata": {
            "tags": [],
            "needs_background": "light"
          }
        }
      ]
    },
    {
      "cell_type": "code",
      "metadata": {
        "id": "6qsQBnPVHoHB",
        "colab": {
          "base_uri": "https://localhost:8080/",
          "height": 295
        },
        "outputId": "a4b21f5d-7382-45ca-e38c-915833a9f526"
      },
      "source": [
        "# confusion matrix of val data\n",
        "conf_matrix = confusion_matrix(y_val_churn, xgb_pred_val)\n",
        "plt.figure(figsize=(4, 4))\n",
        "sns.heatmap(conf_matrix,  annot=True,fmt=\"d\")\n",
        "plt.title(\"Confusion matrix\")\n",
        "plt.ylabel('True class')\n",
        "plt.xlabel('Predicted class')\n",
        "plt.show()"
      ],
      "execution_count": 110,
      "outputs": [
        {
          "output_type": "display_data",
          "data": {
            "image/png": "[encoded data removed]",
            "text/plain": [
              "<Figure size 288x288 with 2 Axes>"
            ]
          },
          "metadata": {
            "tags": [],
            "needs_background": "light"
          }
        }
      ]
    },
    {
      "cell_type": "code",
      "metadata": {
        "colab": {
          "base_uri": "https://localhost:8080/"
        },
        "id": "r1XpTXhCHvIg",
        "outputId": "61d7774c-d86d-4d49-959a-7f2fe8b47319"
      },
      "source": [
        "# recall and fnr value\n",
        "tn, fp, fn, tp = confusion_matrix(y_val_churn, xgb_pred_val).ravel()\n",
        "recall_churn = tp/(tp + fn)\n",
        "FNR_value = 1 - recall_churn\n",
        "print(f'Recall_churn: {recall_churn:.3f}, FNR_value: {FNR_value:.3f}')"
      ],
      "execution_count": 112,
      "outputs": [
        {
          "output_type": "stream",
          "text": [
            "Recall_churn: 0.004, FNR_value: 0.996\n"
          ],
          "name": "stdout"
        }
      ]
    },
    {
      "cell_type": "code",
      "metadata": {
        "colab": {
          "base_uri": "https://localhost:8080/"
        },
        "id": "B8OME3tFIBt0",
        "outputId": "0258a715-b0e6-4f95-9519-c2058f7a4a48"
      },
      "source": [
        "# printing roc-auc scores for train and val\n",
        "print(f'ROC AUC for train XGBoost: {roc_auc_score(y_train_churn, xgb_pred_train):.3f}')\n",
        "print(f'ROC AUC for val XGBoost: {roc_auc_score(y_val_churn, xgb_pred_val):.3f}')"
      ],
      "execution_count": 114,
      "outputs": [
        {
          "output_type": "stream",
          "text": [
            "ROC AUC for train XGBoost: 0.503\n",
            "ROC AUC for val XGBoost: 0.502\n"
          ],
          "name": "stdout"
        }
      ]
    },
    {
      "cell_type": "code",
      "metadata": {
        "colab": {
          "base_uri": "https://localhost:8080/"
        },
        "id": "0pzMC-3pafqQ",
        "outputId": "504f8ec7-2c14-4493-9a72-aaa57a3f1622"
      },
      "source": [
        "# classification report of train\n",
        "print(classification_report(y_train_churn, xgb_pred_train))"
      ],
      "execution_count": 120,
      "outputs": [
        {
          "output_type": "stream",
          "text": [
            "              precision    recall  f1-score   support\n",
            "\n",
            "           0       0.93      1.00      0.96     37038\n",
            "           1       1.00      0.01      0.01      2962\n",
            "\n",
            "    accuracy                           0.93     40000\n",
            "   macro avg       0.96      0.50      0.49     40000\n",
            "weighted avg       0.93      0.93      0.89     40000\n",
            "\n"
          ],
          "name": "stdout"
        }
      ]
    },
    {
      "cell_type": "code",
      "metadata": {
        "colab": {
          "base_uri": "https://localhost:8080/"
        },
        "id": "iygTmcapYzOZ",
        "outputId": "1814dbba-8a31-4491-82db-a00979253db5"
      },
      "source": [
        "# classification report of val\n",
        "print(classification_report(y_val_churn, xgb_pred_val))"
      ],
      "execution_count": 119,
      "outputs": [
        {
          "output_type": "stream",
          "text": [
            "              precision    recall  f1-score   support\n",
            "\n",
            "           0       0.93      1.00      0.96      9290\n",
            "           1       1.00      0.00      0.01       710\n",
            "\n",
            "    accuracy                           0.93     10000\n",
            "   macro avg       0.96      0.50      0.49     10000\n",
            "weighted avg       0.93      0.93      0.90     10000\n",
            "\n"
          ],
          "name": "stdout"
        }
      ]
    },
    {
      "cell_type": "code",
      "metadata": {
        "colab": {
          "base_uri": "https://localhost:8080/"
        },
        "id": "meaTaXJZJEYQ",
        "outputId": "0ca46d49-f71a-41dd-b99a-045255a51e00"
      },
      "source": [
        "# f1 scores for train and val\n",
        "f1_churn = f1_score(y_train_churn, xgb_pred_train)\n",
        "print(\"f1 score for train is \", np.round(f1_churn,3))\n",
        "f1_churn = f1_score(y_val_churn, xgb_pred_val)\n",
        "print(\"f1 score for val is \", np.round(f1_churn,3))"
      ],
      "execution_count": 121,
      "outputs": [
        {
          "output_type": "stream",
          "text": [
            "f1 score for train is  0.013\n",
            "f1 score for val is  0.008\n"
          ],
          "name": "stdout"
        }
      ]
    },
    {
      "cell_type": "code",
      "metadata": {
        "colab": {
          "base_uri": "https://localhost:8080/",
          "height": 296
        },
        "id": "RXC1GjOaWy1D",
        "outputId": "447bc34e-3b7b-478e-c7f1-2f5ea17be2a9"
      },
      "source": [
        "#Calculate permutation importance and plot a bar chart \n",
        "pfi = permutation_importance(xgb_model, x_train_new, y_train_churn, n_repeats=30)\n",
        "pfidf = feature_importance(x_train_new.columns, pfi['importances_mean'], pfi['importances_std'])\n",
        "\n",
        "#Plot the bar plot\n",
        "sns.barplot(data=pfidf, x='importance', y='features', xerr=pfidf.importance_std)"
      ],
      "execution_count": 118,
      "outputs": [
        {
          "output_type": "execute_result",
          "data": {
            "text/plain": [
              "<matplotlib.axes._subplots.AxesSubplot at 0x7fa2f9a515d0>"
            ]
          },
          "metadata": {
            "tags": []
          },
          "execution_count": 118
        },
        {
          "output_type": "display_data",
          "data": {
            "image/png": "[encoded data removed]",
            "text/plain": [
              "<Figure size 432x288 with 1 Axes>"
            ]
          },
          "metadata": {
            "tags": [],
            "needs_background": "light"
          }
        }
      ]
    },
    {
      "cell_type": "markdown",
      "metadata": {
        "id": "I41gQYvjMmFU"
      },
      "source": [
        "# MLP"
      ]
    },
    {
      "cell_type": "code",
      "metadata": {
        "id": "JFoEmSo5JP8x"
      },
      "source": [
        "from tensorflow.keras import models\n",
        "from tensorflow.keras.optimizers import Adam\n"
      ],
      "execution_count": 122,
      "outputs": []
    },
    {
      "cell_type": "code",
      "metadata": {
        "colab": {
          "base_uri": "https://localhost:8080/"
        },
        "id": "V217_SnkNOke",
        "outputId": "41c45f57-8f37-46db-9745-ae2ed11e0aa5"
      },
      "source": [
        "# taking a look at the input shape\n",
        "x_train_new.shape[1]"
      ],
      "execution_count": 123,
      "outputs": [
        {
          "output_type": "execute_result",
          "data": {
            "text/plain": [
              "15"
            ]
          },
          "metadata": {
            "tags": []
          },
          "execution_count": 123
        }
      ]
    },
    {
      "cell_type": "code",
      "metadata": {
        "id": "Gn3T0IJfMqZ6"
      },
      "source": [
        "#Build the model\n",
        "MLP = models.Sequential()\n",
        "MLP.add(Dense(1000, activation='relu', input_shape = (15,),kernel_initializer='uniform'))\n",
        "MLP.add(Dense(500, activation='relu', kernel_initializer='uniform'))\n",
        "MLP.add(Dense(1, activation='sigmoid', name='output'))\n",
        "\n",
        "MLP.compile(loss='binary_crossentropy', optimizer=Adam())"
      ],
      "execution_count": 124,
      "outputs": []
    },
    {
      "cell_type": "code",
      "metadata": {
        "colab": {
          "base_uri": "https://localhost:8080/"
        },
        "id": "IjURz_wTM436",
        "outputId": "773af6f1-4e32-4821-cb15-b38d45fd0826"
      },
      "source": [
        "#fit your model \n",
        "MLP.fit(x_train_new, y_train_churn, epochs = 10, batch_size = 256, verbose=1)"
      ],
      "execution_count": 125,
      "outputs": [
        {
          "output_type": "stream",
          "text": [
            "Epoch 1/10\n",
            "157/157 [==============================] - 4s 18ms/step - loss: 3613.9177\n",
            "Epoch 2/10\n",
            "157/157 [==============================] - 3s 18ms/step - loss: 564.4986\n",
            "Epoch 3/10\n",
            "157/157 [==============================] - 3s 18ms/step - loss: 320.1542\n",
            "Epoch 4/10\n",
            "157/157 [==============================] - 3s 18ms/step - loss: 242.9198\n",
            "Epoch 5/10\n",
            "157/157 [==============================] - 3s 18ms/step - loss: 199.4651\n",
            "Epoch 6/10\n",
            "157/157 [==============================] - 3s 18ms/step - loss: 64.4711\n",
            "Epoch 7/10\n",
            "157/157 [==============================] - 3s 18ms/step - loss: 66.5424\n",
            "Epoch 8/10\n",
            "157/157 [==============================] - 3s 18ms/step - loss: 95.9048\n",
            "Epoch 9/10\n",
            "157/157 [==============================] - 3s 18ms/step - loss: 121.3563\n",
            "Epoch 10/10\n",
            "157/157 [==============================] - 3s 18ms/step - loss: 61.6616\n"
          ],
          "name": "stdout"
        },
        {
          "output_type": "execute_result",
          "data": {
            "text/plain": [
              "<tensorflow.python.keras.callbacks.History at 0x7fa2f5923390>"
            ]
          },
          "metadata": {
            "tags": []
          },
          "execution_count": 125
        }
      ]
    },
    {
      "cell_type": "code",
      "metadata": {
        "id": "TdvcPYShOFC0"
      },
      "source": [
        "MLP_pred_train = MLP.predict_classes(x_train_new)\n",
        "MLP_pred_val = MLP.predict_classes(x_val_new)\n"
      ],
      "execution_count": 126,
      "outputs": []
    },
    {
      "cell_type": "code",
      "metadata": {
        "id": "KDr1-iLJPEp6"
      },
      "source": [
        "# predict proba's\n",
        "mlp_churn_probs = MLP.predict_proba(x_val_new)\n",
        "mlp_churn_probs = mlp_churn_probs[:, 0]"
      ],
      "execution_count": 127,
      "outputs": []
    },
    {
      "cell_type": "code",
      "metadata": {
        "colab": {
          "base_uri": "https://localhost:8080/"
        },
        "id": "SGLEpH2dO4L2",
        "outputId": "d65f8e65-9ece-4ce2-b36b-ce9530efd6a8"
      },
      "source": [
        "# roc_auc for val\n",
        "mlp_auc_churn = roc_auc_score(y_val_churn, mlp_churn_probs)\n",
        "print('MLP: ROC AUC=%.3f' % (mlp_auc_churn))\n"
      ],
      "execution_count": 129,
      "outputs": [
        {
          "output_type": "stream",
          "text": [
            "MLP: ROC AUC=0.492\n"
          ],
          "name": "stdout"
        }
      ]
    },
    {
      "cell_type": "code",
      "metadata": {
        "colab": {
          "base_uri": "https://localhost:8080/"
        },
        "id": "i2SmML2URvxi",
        "outputId": "6d6243de-6282-4890-80cd-e1d7b567d354"
      },
      "source": [
        "y_train_churn"
      ],
      "execution_count": null,
      "outputs": [
        {
          "output_type": "execute_result",
          "data": {
            "text/plain": [
              "4183     0\n",
              "18443    0\n",
              "26332    1\n",
              "39816    0\n",
              "21627    0\n",
              "        ..\n",
              "16432    0\n",
              "8964     0\n",
              "5944     0\n",
              "5327     0\n",
              "15305    0\n",
              "Name: churn_labels, Length: 40000, dtype: int64"
            ]
          },
          "metadata": {
            "tags": []
          },
          "execution_count": 197
        }
      ]
    },
    {
      "cell_type": "code",
      "metadata": {
        "colab": {
          "base_uri": "https://localhost:8080/"
        },
        "id": "oGA8dYc7PCsl",
        "outputId": "5b011c33-f22d-44b9-c94a-cc8b68e5ddf8"
      },
      "source": [
        "# train and val accuracies\n",
        "train_accuracy = accuracy_score(y_train_churn, MLP_pred_train)\n",
        "validation_accuracy = accuracy_score(y_val_churn, MLP_pred_val)\n",
        "print(\"Train Accuracy\", np.round(train_accuracy,3))\n",
        "print(\"Validation Accuracy\", np.round(validation_accuracy,3))"
      ],
      "execution_count": 130,
      "outputs": [
        {
          "output_type": "stream",
          "text": [
            "Train Accuracy 0.926\n",
            "Validation Accuracy 0.929\n"
          ],
          "name": "stdout"
        }
      ]
    },
    {
      "cell_type": "code",
      "metadata": {
        "colab": {
          "base_uri": "https://localhost:8080/",
          "height": 295
        },
        "id": "zPOhBJmjSlL7",
        "outputId": "cafd3a36-7877-4950-b728-160536715c96"
      },
      "source": [
        "# conf_matrix for train\n",
        "conf_matrix = confusion_matrix(y_train_churn, MLP_pred_train)\n",
        "plt.figure(figsize=(4, 4))\n",
        "sns.heatmap(conf_matrix,  annot=True,fmt=\"d\")\n",
        "plt.title(\"Confusion matrix\")\n",
        "plt.ylabel('True class')\n",
        "plt.xlabel('Predicted class')\n",
        "plt.show()"
      ],
      "execution_count": 132,
      "outputs": [
        {
          "output_type": "display_data",
          "data": {
            "image/png": "[encoded data removed]",
            "text/plain": [
              "<Figure size 288x288 with 2 Axes>"
            ]
          },
          "metadata": {
            "tags": [],
            "needs_background": "light"
          }
        }
      ]
    },
    {
      "cell_type": "code",
      "metadata": {
        "colab": {
          "base_uri": "https://localhost:8080/",
          "height": 295
        },
        "id": "mwFL1d75PF97",
        "outputId": "189280ea-844d-4765-d16f-2485895ef9de"
      },
      "source": [
        "# conf_matrix for val\n",
        "conf_matrix = confusion_matrix(y_val_churn, MLP_pred_val)\n",
        "plt.figure(figsize=(4, 4))\n",
        "sns.heatmap(conf_matrix,  annot=True,fmt=\"d\")\n",
        "plt.title(\"Confusion matrix\")\n",
        "plt.ylabel('True class')\n",
        "plt.xlabel('Predicted class')\n",
        "plt.show()"
      ],
      "execution_count": 131,
      "outputs": [
        {
          "output_type": "display_data",
          "data": {
            "image/png": "[encoded data removed]",
            "text/plain": [
              "<Figure size 288x288 with 2 Axes>"
            ]
          },
          "metadata": {
            "tags": [],
            "needs_background": "light"
          }
        }
      ]
    },
    {
      "cell_type": "code",
      "metadata": {
        "colab": {
          "base_uri": "https://localhost:8080/"
        },
        "id": "XkzYN-WJPLK9",
        "outputId": "3847ab10-8929-40a3-80a3-77323885fba9"
      },
      "source": [
        "# print recall and fnr values\n",
        "tn, fp, fn, tp = confusion_matrix(y_val_churn, MLP_pred_val).ravel()\n",
        "recall_churn = tp/(tp + fn)\n",
        "FNR_value = 1 - recall_churn\n",
        "print(f'Recall_churn: {recall_churn:.3f}, FNR_value: {FNR_value:.3f}')\n"
      ],
      "execution_count": 133,
      "outputs": [
        {
          "output_type": "stream",
          "text": [
            "Recall_churn: 0.000, FNR_value: 1.000\n"
          ],
          "name": "stdout"
        }
      ]
    },
    {
      "cell_type": "code",
      "metadata": {
        "colab": {
          "base_uri": "https://localhost:8080/"
        },
        "id": "t-J7zNwCPPHU",
        "outputId": "05b7bc38-029b-4e58-f699-c069a241ea47"
      },
      "source": [
        "# printing roc-auc scores for train and val\n",
        "print(f'ROC AUC for train MLP: {roc_auc_score(y_train_churn, MLP_pred_train):.3f}')\n",
        "print(f'ROC AUC for val MLP: {roc_auc_score(y_val_churn, MLP_pred_val):.3f}')"
      ],
      "execution_count": 134,
      "outputs": [
        {
          "output_type": "stream",
          "text": [
            "ROC AUC for train MLP: 0.500\n",
            "ROC AUC for val MLP: 0.500\n"
          ],
          "name": "stdout"
        }
      ]
    },
    {
      "cell_type": "code",
      "metadata": {
        "colab": {
          "base_uri": "https://localhost:8080/"
        },
        "id": "X2OGMRWTdPg4",
        "outputId": "79134aaf-cf34-46d6-9566-efcca3012272"
      },
      "source": [
        "# classification report of val\n",
        "print(classification_report(y_val_churn, MLP_pred_val))"
      ],
      "execution_count": 141,
      "outputs": [
        {
          "output_type": "stream",
          "text": [
            "              precision    recall  f1-score   support\n",
            "\n",
            "           0       0.93      1.00      0.96      9290\n",
            "           1       0.00      0.00      0.00       710\n",
            "\n",
            "    accuracy                           0.93     10000\n",
            "   macro avg       0.46      0.50      0.48     10000\n",
            "weighted avg       0.86      0.93      0.89     10000\n",
            "\n"
          ],
          "name": "stdout"
        }
      ]
    },
    {
      "cell_type": "code",
      "metadata": {
        "colab": {
          "base_uri": "https://localhost:8080/"
        },
        "id": "KB3Uh3_KPR1D",
        "outputId": "18ed77de-4c1b-418d-c9f4-75217d6abd73"
      },
      "source": [
        "# f1 scores for train and val\n",
        "f1_churn = f1_score(y_train_churn, MLP_pred_train)\n",
        "print(\"f1 score for train is \", np.round(f1_churn,3))\n",
        "f1_churn = f1_score(y_val_churn, MLP_pred_val)\n",
        "print(\"f1 score for val is \", np.round(f1_churn,3))"
      ],
      "execution_count": 136,
      "outputs": [
        {
          "output_type": "stream",
          "text": [
            "f1 score for train is  0.0\n",
            "f1 score for val is  0.0\n"
          ],
          "name": "stdout"
        }
      ]
    },
    {
      "cell_type": "code",
      "metadata": {
        "id": "5VnAYUkZc0wc"
      },
      "source": [
        "# #Calculate permutation importance and plot a bar chart \n",
        "# pfi = permutation_importance(MLP, x_train_new, y_train_churn, n_repeats=30)\n",
        "# pfidf = feature_importance(x_train_new.columns, pfi['importances_mean'], pfi['importances_std'])\n",
        "\n",
        "# #Plot the bar plot\n",
        "# sns.barplot(data=pfidf, x='importance', y='features', xerr=pfidf.importance_std)"
      ],
      "execution_count": 142,
      "outputs": []
    },
    {
      "cell_type": "markdown",
      "metadata": {
        "id": "1KZHxQ42X6uo"
      },
      "source": [
        "Finally after looking all the models. We suspect our model is suffering from the data imbalance and we need to implement ideas to solve this one. like upsampling (SMOTE)"
      ]
    },
    {
      "cell_type": "markdown",
      "metadata": {
        "id": "_033mQBtTMgZ"
      },
      "source": [
        "# SMOTE"
      ]
    },
    {
      "cell_type": "code",
      "metadata": {
        "colab": {
          "base_uri": "https://localhost:8080/"
        },
        "id": "ssbbaJS-TiCn",
        "outputId": "342c49dd-20ed-4e4c-ee53-32531f6f7459"
      },
      "source": [
        "import imblearn\n",
        "print(imblearn.__version__)"
      ],
      "execution_count": 153,
      "outputs": [
        {
          "output_type": "stream",
          "text": [
            "0.4.3\n"
          ],
          "name": "stdout"
        }
      ]
    },
    {
      "cell_type": "code",
      "metadata": {
        "id": "a2fcQQl0T9Yu"
      },
      "source": [
        "from imblearn.over_sampling import SMOTE"
      ],
      "execution_count": 154,
      "outputs": []
    },
    {
      "cell_type": "markdown",
      "metadata": {
        "id": "Msf9Wr4UuLmv"
      },
      "source": [
        "## Random Forest"
      ]
    },
    {
      "cell_type": "code",
      "metadata": {
        "id": "BNW4JrbojWfo"
      },
      "source": [
        "weights = [0.25, 0.5, 1.0]\n"
      ],
      "execution_count": 53,
      "outputs": []
    },
    {
      "cell_type": "code",
      "metadata": {
        "colab": {
          "base_uri": "https://localhost:8080/"
        },
        "id": "8Ld-yAONi0X8",
        "outputId": "f7977472-25ad-4349-9b07-5d55caa60cf4"
      },
      "source": [
        "pipe = make_pipeline(SMOTE(),RandomForestClassifier())\n",
        "\n",
        "gsc = GridSearchCV(\n",
        "    estimator=pipe,\n",
        "    param_grid={\n",
        "        'smote__ratio':weights,\n",
        "        'randomforestclassifier__n_estimators': [75, 100],\n",
        "        'randomforestclassifier__max_depth':[7, 9],\n",
        "        'randomforestclassifier__min_samples_split': [3, 4, 5],\n",
        "        'randomforestclassifier__max_features': [7, 9]\n",
        "\n",
        "\n",
        "    },\n",
        "    n_jobs= -1,\n",
        "    verbose=1,\n",
        "    scoring='roc_auc',\n",
        "    cv=5\n",
        ")\n",
        "gsc_result = gsc.fit(x_train_new, y_train_churn)"
      ],
      "execution_count": 56,
      "outputs": [
        {
          "output_type": "stream",
          "text": [
            "Fitting 5 folds for each of 72 candidates, totalling 360 fits\n"
          ],
          "name": "stdout"
        },
        {
          "output_type": "stream",
          "text": [
            "[Parallel(n_jobs=-1)]: Using backend LokyBackend with 2 concurrent workers.\n",
            "[Parallel(n_jobs=-1)]: Done  46 tasks      | elapsed:  2.9min\n",
            "[Parallel(n_jobs=-1)]: Done 196 tasks      | elapsed: 14.3min\n",
            "[Parallel(n_jobs=-1)]: Done 360 out of 360 | elapsed: 28.5min finished\n"
          ],
          "name": "stderr"
        }
      ]
    },
    {
      "cell_type": "code",
      "metadata": {
        "id": "zpC4c4qgFXHT"
      },
      "source": [
        "smote_ratio = 0.25\n",
        "max_depth = 9\n",
        "min_samples_split=5\n",
        "n_estimators=75\n",
        "max_features = 9"
      ],
      "execution_count": 155,
      "outputs": []
    },
    {
      "cell_type": "code",
      "metadata": {
        "colab": {
          "base_uri": "https://localhost:8080/"
        },
        "id": "jsXXQnwdi0Ul",
        "outputId": "86a65208-9221-4596-ab6a-e4113a6bc58f"
      },
      "source": [
        "gsc_result.best_params_"
      ],
      "execution_count": 57,
      "outputs": [
        {
          "output_type": "execute_result",
          "data": {
            "text/plain": [
              "{'randomforestclassifier__max_depth': 9,\n",
              " 'randomforestclassifier__max_features': 9,\n",
              " 'randomforestclassifier__min_samples_split': 5,\n",
              " 'randomforestclassifier__n_estimators': 75,\n",
              " 'smote__ratio': 0.25}"
            ]
          },
          "metadata": {
            "tags": []
          },
          "execution_count": 57
        }
      ]
    },
    {
      "cell_type": "code",
      "metadata": {
        "id": "MqN99mmt619o"
      },
      "source": [
        "smote_ratio = gsc_result.best_params_['smote__ratio']\n",
        "max_depth = gsc_result.best_params_['randomforestclassifier__max_depth']\n",
        "min_samples_split = gsc_result.best_params_['randomforestclassifier__min_samples_split']\n",
        "n_estimators = gsc_result.best_params_['randomforestclassifier__n_estimators']\n",
        "max_features = gsc_result.best_params_['randomforestclassifier__max_features']"
      ],
      "execution_count": 58,
      "outputs": []
    },
    {
      "cell_type": "code",
      "metadata": {
        "id": "7l2r-79Y6y7a"
      },
      "source": [
        "sm = SMOTE(random_state=9, ratio=smote_ratio)\n",
        "x_train_bal, y_train_churn_bal = sm.fit_sample(x_train_new, y_train_churn)"
      ],
      "execution_count": 156,
      "outputs": []
    },
    {
      "cell_type": "code",
      "metadata": {
        "id": "0TR91E5qksdN",
        "colab": {
          "base_uri": "https://localhost:8080/"
        },
        "outputId": "66035f56-81a4-4bd6-e222-bb70d050dd53"
      },
      "source": [
        "RF_model_churn_sm = RandomForestClassifier(n_estimators=n_estimators, max_depth = max_depth, min_samples_split = min_samples_split, max_features=max_features)\n",
        "RF_model_churn_sm.fit(x_train_bal, y_train_churn_bal)"
      ],
      "execution_count": 43,
      "outputs": [
        {
          "output_type": "execute_result",
          "data": {
            "text/plain": [
              "RandomForestClassifier(bootstrap=True, ccp_alpha=0.0, class_weight=None,\n",
              "                       criterion='gini', max_depth=9, max_features=9,\n",
              "                       max_leaf_nodes=None, max_samples=None,\n",
              "                       min_impurity_decrease=0.0, min_impurity_split=None,\n",
              "                       min_samples_leaf=1, min_samples_split=5,\n",
              "                       min_weight_fraction_leaf=0.0, n_estimators=75,\n",
              "                       n_jobs=None, oob_score=False, random_state=None,\n",
              "                       verbose=0, warm_start=False)"
            ]
          },
          "metadata": {
            "tags": []
          },
          "execution_count": 43
        }
      ]
    },
    {
      "cell_type": "code",
      "metadata": {
        "colab": {
          "base_uri": "https://localhost:8080/"
        },
        "id": "znYU78LF7557",
        "outputId": "b0f23d83-000d-4a9b-d483-448b605eedd4"
      },
      "source": [
        "y_train_pred_churn_rf = RF_model_churn_sm.predict(x_train_bal)\n",
        "y_val_pred_churn_rf = RF_model_churn_sm.predict(x_val_new)\n",
        "\n",
        "rf_churn_probs = RF_model_churn_sm.predict_proba(x_val_new)\n",
        "rf_churn_probs = rf_churn_probs[:, 1]\n",
        "\n",
        "rf_auc_churn = roc_auc_score(y_val_churn, rf_churn_probs)\n",
        "\n",
        "print('RandomForest smote: ROC AUC=%.3f' % (rf_auc_churn))\n",
        "\n"
      ],
      "execution_count": 157,
      "outputs": [
        {
          "output_type": "stream",
          "text": [
            "RandomForest smote: ROC AUC=0.701\n"
          ],
          "name": "stdout"
        }
      ]
    },
    {
      "cell_type": "code",
      "metadata": {
        "colab": {
          "base_uri": "https://localhost:8080/"
        },
        "id": "GsTaoym8_TBW",
        "outputId": "05fc5611-0014-4cd8-e6b8-cf652bf529ff"
      },
      "source": [
        "# train and val accuracies\n",
        "train_accuracy = accuracy_score(y_train_churn_bal, y_train_pred_churn_rf)\n",
        "validation_accuracy = accuracy_score(y_val_churn, y_val_pred_churn_rf)\n",
        "print(\"Train Accuracy\", np.round(train_accuracy,3))\n",
        "print(\"Validation Accuracy\", np.round(validation_accuracy,3))"
      ],
      "execution_count": 158,
      "outputs": [
        {
          "output_type": "stream",
          "text": [
            "Train Accuracy 0.903\n",
            "Validation Accuracy 0.898\n"
          ],
          "name": "stdout"
        }
      ]
    },
    {
      "cell_type": "code",
      "metadata": {
        "colab": {
          "base_uri": "https://localhost:8080/",
          "height": 295
        },
        "id": "bSdSu2f3AOGy",
        "outputId": "c275c179-2b75-4593-d266-fc2e43797af9"
      },
      "source": [
        "# confusion matrix for train_balanced\n",
        "conf_matrix = confusion_matrix(y_train_churn_bal, y_train_pred_churn_rf)\n",
        "plt.figure(figsize=(4, 4))\n",
        "sns.heatmap(conf_matrix,  annot=True,fmt=\"d\")\n",
        "plt.title(\"Confusion matrix\")\n",
        "plt.ylabel('True class')\n",
        "plt.xlabel('Predicted class')\n",
        "plt.show()"
      ],
      "execution_count": 46,
      "outputs": [
        {
          "output_type": "display_data",
          "data": {
            "image/png": "[encoded data removed]",
            "text/plain": [
              "<Figure size 288x288 with 2 Axes>"
            ]
          },
          "metadata": {
            "tags": [],
            "needs_background": "light"
          }
        }
      ]
    },
    {
      "cell_type": "code",
      "metadata": {
        "colab": {
          "base_uri": "https://localhost:8080/",
          "height": 295
        },
        "id": "ARTjI7V9_VmA",
        "outputId": "b6ef983c-1bb0-463e-c25d-a80e49aea9f6"
      },
      "source": [
        "# confusion matrix for val\n",
        "conf_matrix = confusion_matrix(y_val_churn, y_val_pred_churn_rf)\n",
        "plt.figure(figsize=(4, 4))\n",
        "sns.heatmap(conf_matrix,  annot=True,fmt=\"d\")\n",
        "plt.title(\"Confusion matrix\")\n",
        "plt.ylabel('True class')\n",
        "plt.xlabel('Predicted class')\n",
        "plt.show()"
      ],
      "execution_count": 159,
      "outputs": [
        {
          "output_type": "display_data",
          "data": {
            "image/png": "[encoded data removed]",
            "text/plain": [
              "<Figure size 288x288 with 2 Axes>"
            ]
          },
          "metadata": {
            "tags": [],
            "needs_background": "light"
          }
        }
      ]
    },
    {
      "cell_type": "code",
      "metadata": {
        "colab": {
          "base_uri": "https://localhost:8080/"
        },
        "id": "9Tho_9wy_X-x",
        "outputId": "91547210-2059-49ea-e593-6cfd3fd5fc16"
      },
      "source": [
        "# recall and fnr values\n",
        "tn, fp, fn, tp = confusion_matrix(y_val_churn, y_val_pred_churn_rf).ravel()\n",
        "recall_churn = tp/(tp + fn)\n",
        "FNR_value = 1 - recall_churn\n",
        "print(f'Recall_churn: {recall_churn:.3f}, FNR_value: {FNR_value:.3f}')"
      ],
      "execution_count": 165,
      "outputs": [
        {
          "output_type": "stream",
          "text": [
            "Recall_churn: 0.145, FNR_value: 0.855\n"
          ],
          "name": "stdout"
        }
      ]
    },
    {
      "cell_type": "code",
      "metadata": {
        "colab": {
          "base_uri": "https://localhost:8080/"
        },
        "id": "Y3xHV8VgjQ0z",
        "outputId": "10155382-ea1b-423c-e148-57e7c8a83fee"
      },
      "source": [
        "print(f'ROC_AUC for SMOTE RF train: {roc_auc_score(y_train_churn_bal, y_train_pred_churn_rf):.3f}')\n",
        "print(f'ROC_AUC for SMOTE RF val: {roc_auc_score(y_val_churn, y_val_pred_churn_rf):.3f}')"
      ],
      "execution_count": 166,
      "outputs": [
        {
          "output_type": "stream",
          "text": [
            "ROC_AUC for SMOTE RF train: 0.821\n",
            "ROC_AUC for SMOTE RF val: 0.551\n"
          ],
          "name": "stdout"
        }
      ]
    },
    {
      "cell_type": "code",
      "metadata": {
        "colab": {
          "base_uri": "https://localhost:8080/"
        },
        "id": "KofGIB3zj9Xu",
        "outputId": "bc2538d5-4b5a-454e-95a5-a8475cd316d7"
      },
      "source": [
        "# classification report of train\n",
        "print(classification_report(y_train_churn_bal, y_train_pred_churn_rf))"
      ],
      "execution_count": 167,
      "outputs": [
        {
          "output_type": "stream",
          "text": [
            "              precision    recall  f1-score   support\n",
            "\n",
            "           0       0.92      0.96      0.94     37038\n",
            "           1       0.80      0.68      0.74      9259\n",
            "\n",
            "    accuracy                           0.90     46297\n",
            "   macro avg       0.86      0.82      0.84     46297\n",
            "weighted avg       0.90      0.90      0.90     46297\n",
            "\n"
          ],
          "name": "stdout"
        }
      ]
    },
    {
      "cell_type": "code",
      "metadata": {
        "colab": {
          "base_uri": "https://localhost:8080/"
        },
        "id": "8QW0GYNxj9Ig",
        "outputId": "7e994c38-e97a-476c-fafa-915c94bf6b30"
      },
      "source": [
        "# classification report of val\n",
        "print(classification_report(y_val_churn, y_val_pred_churn_rf))"
      ],
      "execution_count": 168,
      "outputs": [
        {
          "output_type": "stream",
          "text": [
            "              precision    recall  f1-score   support\n",
            "\n",
            "           0       0.94      0.96      0.95      9290\n",
            "           1       0.20      0.15      0.17       710\n",
            "\n",
            "    accuracy                           0.90     10000\n",
            "   macro avg       0.57      0.55      0.56     10000\n",
            "weighted avg       0.88      0.90      0.89     10000\n",
            "\n"
          ],
          "name": "stdout"
        }
      ]
    },
    {
      "cell_type": "code",
      "metadata": {
        "colab": {
          "base_uri": "https://localhost:8080/"
        },
        "id": "3YRn6Ggo_h1u",
        "outputId": "05684d09-f3cc-4b33-9d12-84c4e4fb21d2"
      },
      "source": [
        "f1_churn = f1_score(y_train_churn_bal, y_train_pred_churn_rf)\n",
        "print(\"f1 score for train is \", np.round(f1_churn,3))\n",
        "\n",
        "f1_churn = f1_score(y_val_churn, y_val_pred_churn_rf)\n",
        "print(\"f1 score for val is \", np.round(f1_churn,3))"
      ],
      "execution_count": 169,
      "outputs": [
        {
          "output_type": "stream",
          "text": [
            "f1 score for train is  0.739\n",
            "f1 score for val is  0.169\n"
          ],
          "name": "stdout"
        }
      ]
    },
    {
      "cell_type": "markdown",
      "metadata": {
        "id": "YUaVoa7bkXAz"
      },
      "source": [
        "The smote technique improved our class1 f1 score by a little of 0.06 compared to decision tree's 0.11"
      ]
    },
    {
      "cell_type": "code",
      "metadata": {
        "id": "nwKUDRW5BxEA"
      },
      "source": [
        ""
      ],
      "execution_count": null,
      "outputs": []
    }
  ]
}