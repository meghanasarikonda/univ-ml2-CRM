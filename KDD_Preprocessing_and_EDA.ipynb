{
  "nbformat": 4,
  "nbformat_minor": 0,
  "metadata": {
    "colab": {
      "name": "KDD Preprocessing and EDA.ipynb",
      "provenance": [],
      "collapsed_sections": [],
      "toc_visible": true
    },
    "kernelspec": {
      "name": "python3",
      "display_name": "Python 3"
    },
    "language_info": {
      "name": "python"
    }
  },
  "cells": [
    {
      "cell_type": "markdown",
      "metadata": {
        "id": "SuwJcnhqjHNP"
      },
      "source": [
        "# Import Necesssary Packages"
      ]
    },
    {
      "cell_type": "code",
      "metadata": {
        "id": "FJAQId710Sc8"
      },
      "source": [
        "import pandas as pd\n",
        "import seaborn as sns\n",
        "import numpy as np\n",
        "import plotly.express as px\n",
        "import matplotlib.pyplot as plt\n",
        "from sklearn.model_selection import train_test_split\n",
        "from sklearn.linear_model import LogisticRegression\n",
        "from sklearn.metrics import accuracy_score, confusion_matrix, f1_score\n",
        "from sklearn.utils import shuffle\n",
        "from sklearn.metrics import roc_curve\n",
        "from sklearn.metrics import roc_auc_score"
      ],
      "execution_count": 1,
      "outputs": []
    },
    {
      "cell_type": "code",
      "metadata": {
        "id": "D2LondnKyOtj"
      },
      "source": [
        "from sklearn.preprocessing import LabelEncoder,OneHotEncoder\n",
        "import bisect\n",
        "from scipy.sparse import hstack"
      ],
      "execution_count": 2,
      "outputs": []
    },
    {
      "cell_type": "markdown",
      "metadata": {
        "id": "U7kJHNGsjMZw"
      },
      "source": [
        "# Read the data"
      ]
    },
    {
      "cell_type": "code",
      "metadata": {
        "id": "-5pEsXux1fxL"
      },
      "source": [
        "kdd_data = pd.read_csv('/content/orange_small_train.txt', delimiter=\"\\t\")"
      ],
      "execution_count": 3,
      "outputs": []
    },
    {
      "cell_type": "code",
      "metadata": {
        "id": "Hz5Ch4d6jT1e"
      },
      "source": [
        "kdd_data['appetency_labels'] = pd.read_table(\"/content/orange_small_train_appetency.labels\", header = None, names = ['appetency'])\n",
        "kdd_data['churn_labels'] = pd.read_table(\"/content/orange_small_train_churn.labels\", header = None, names = ['churn'])\n",
        "kdd_data['upselling_labels'] = pd.read_table(\"/content/orange_small_train_upselling (1).labels\", header= None, names = ['upselling'])"
      ],
      "execution_count": 4,
      "outputs": []
    },
    {
      "cell_type": "code",
      "metadata": {
        "id": "3fUqd4_SnNPn"
      },
      "source": [
        "kdd_data['appetency_labels'] = kdd_data['appetency_labels'].replace(-1, 0)\n",
        "kdd_data['churn_labels'] = kdd_data['churn_labels'].replace(-1, 0)\n",
        "kdd_data['upselling_labels'] = kdd_data['upselling_labels'].replace(-1, 0)"
      ],
      "execution_count": 5,
      "outputs": []
    },
    {
      "cell_type": "code",
      "metadata": {
        "colab": {
          "base_uri": "https://localhost:8080/"
        },
        "id": "JRKvlifWnJJp",
        "outputId": "0d38ac63-dbe8-435d-e3a7-c3035904ac03"
      },
      "source": [
        "print(\"There are\", kdd_data.shape[0], \"observations and\", kdd_data.shape[1], \"variables\")"
      ],
      "execution_count": 6,
      "outputs": [
        {
          "output_type": "stream",
          "text": [
            "There are 5997 observations and 233 variables\n"
          ],
          "name": "stdout"
        }
      ]
    },
    {
      "cell_type": "markdown",
      "metadata": {
        "id": "OJADE89EkRx1"
      },
      "source": [
        "# Handling missing values"
      ]
    },
    {
      "cell_type": "code",
      "metadata": {
        "colab": {
          "base_uri": "https://localhost:8080/"
        },
        "id": "k3cxBo7D1mSA",
        "outputId": "3afd7483-45a1-4473-8138-5ddbba47f839"
      },
      "source": [
        "kdd_data.isna().sum()"
      ],
      "execution_count": 7,
      "outputs": [
        {
          "output_type": "execute_result",
          "data": {
            "text/plain": [
              "Var1                5915\n",
              "Var2                5849\n",
              "Var3                5850\n",
              "Var4                5819\n",
              "Var5                5821\n",
              "                    ... \n",
              "Var229              3395\n",
              "Var230              5997\n",
              "appetency_labels       0\n",
              "churn_labels           0\n",
              "upselling_labels       0\n",
              "Length: 233, dtype: int64"
            ]
          },
          "metadata": {
            "tags": []
          },
          "execution_count": 7
        }
      ]
    },
    {
      "cell_type": "markdown",
      "metadata": {
        "id": "2n2DO-PxkZZk"
      },
      "source": [
        "## Drop column if over 40% of the columns are null values"
      ]
    },
    {
      "cell_type": "code",
      "metadata": {
        "id": "-Kv2Zve84V45"
      },
      "source": [
        "columns= [cols for cols in kdd_data.columns if kdd_data[cols].isnull().sum()/kdd_data.shape[0] > 0.40] #Selecting columns that have over 40% of null values"
      ],
      "execution_count": 8,
      "outputs": []
    },
    {
      "cell_type": "code",
      "metadata": {
        "id": "SqyMUVSMll_V"
      },
      "source": [
        "kdd_data.drop(columns, axis = 1, inplace = True) #Dropping columns"
      ],
      "execution_count": 9,
      "outputs": []
    },
    {
      "cell_type": "code",
      "metadata": {
        "colab": {
          "base_uri": "https://localhost:8080/"
        },
        "id": "U7dz7zfulwVt",
        "outputId": "f9f20e8d-399f-471f-ad78-af669879a60d"
      },
      "source": [
        "len(kdd_data.columns)"
      ],
      "execution_count": 10,
      "outputs": [
        {
          "output_type": "execute_result",
          "data": {
            "text/plain": [
              "70"
            ]
          },
          "metadata": {
            "tags": []
          },
          "execution_count": 10
        }
      ]
    },
    {
      "cell_type": "code",
      "metadata": {
        "colab": {
          "base_uri": "https://localhost:8080/"
        },
        "id": "EBhq4DW8lz54",
        "outputId": "3b50bdb2-5107-40f0-fa80-148417cf799d"
      },
      "source": [
        "kdd_data.dtypes #Types of the columns"
      ],
      "execution_count": 11,
      "outputs": [
        {
          "output_type": "execute_result",
          "data": {
            "text/plain": [
              "Var6                float64\n",
              "Var7                float64\n",
              "Var13               float64\n",
              "Var21               float64\n",
              "Var22               float64\n",
              "                     ...   \n",
              "Var227               object\n",
              "Var228               object\n",
              "appetency_labels      int64\n",
              "churn_labels          int64\n",
              "upselling_labels      int64\n",
              "Length: 70, dtype: object"
            ]
          },
          "metadata": {
            "tags": []
          },
          "execution_count": 11
        }
      ]
    },
    {
      "cell_type": "code",
      "metadata": {
        "colab": {
          "base_uri": "https://localhost:8080/"
        },
        "id": "TrwmueeynOek",
        "outputId": "f825c12d-c123-457f-e4d7-4bfaabe2053d"
      },
      "source": [
        "kdd_data.isna().sum() # Number of null values in each column"
      ],
      "execution_count": 12,
      "outputs": [
        {
          "output_type": "execute_result",
          "data": {
            "text/plain": [
              "Var6                635\n",
              "Var7                640\n",
              "Var13               640\n",
              "Var21               635\n",
              "Var22               584\n",
              "                   ... \n",
              "Var227                1\n",
              "Var228                1\n",
              "appetency_labels      0\n",
              "churn_labels          0\n",
              "upselling_labels      0\n",
              "Length: 70, dtype: int64"
            ]
          },
          "metadata": {
            "tags": []
          },
          "execution_count": 12
        }
      ]
    },
    {
      "cell_type": "code",
      "metadata": {
        "id": "w1DbCGXL0qK0"
      },
      "source": [
        "missing_data = pd.DataFrame({'Column': kdd_data.columns, 'NA_count': kdd_data.isna().sum()})"
      ],
      "execution_count": 13,
      "outputs": []
    },
    {
      "cell_type": "code",
      "metadata": {
        "colab": {
          "base_uri": "https://localhost:8080/",
          "height": 542
        },
        "id": "n8qc_lkS39pB",
        "outputId": "58282a21-1148-45a1-aa83-375f868d4463"
      },
      "source": [
        "fig = px.bar(x= missing_data.Column, y=missing_data.NA_count, labels={'x':'Column', 'y':'Missing Value Count'}, title='Missing Value counts')\n",
        "fig.show()"
      ],
      "execution_count": 14,
      "outputs": [
        {
          "output_type": "display_data",
          "data": {
            "text/html": [
              "<html>\n",
              "<head><meta charset=\"utf-8\" /></head>\n",
              "<body>\n",
              "    <div>\n",
              "            <script src=\"https://cdnjs.cloudflare.com/ajax/libs/mathjax/2.7.5/MathJax.js?config=TeX-AMS-MML_SVG\"></script><script type=\"text/javascript\">if (window.MathJax) {MathJax.Hub.Config({SVG: {font: \"STIX-Web\"}});}</script>\n",
              "                <script type=\"text/javascript\">window.PlotlyConfig = {MathJaxConfig: 'local'};</script>\n",
              "        <script src=\"https://cdn.plot.ly/plotly-latest.min.js\"></script>    \n",
              "            <div id=\"48928d27-7d1a-496c-b0aa-ceec9bb6bb16\" class=\"plotly-graph-div\" style=\"height:525px; width:100%;\"></div>\n",
              "            <script type=\"text/javascript\">\n",
              "                \n",
              "                    window.PLOTLYENV=window.PLOTLYENV || {};\n",
              "                    \n",
              "                if (document.getElementById(\"48928d27-7d1a-496c-b0aa-ceec9bb6bb16\")) {\n",
              "                    Plotly.newPlot(\n",
              "                        '48928d27-7d1a-496c-b0aa-ceec9bb6bb16',\n",
              "                        [{\"alignmentgroup\": \"True\", \"hoverlabel\": {\"namelength\": 0}, \"hovertemplate\": \"Column=%{x}<br>Missing Value Count=%{y}\", \"legendgroup\": \"\", \"marker\": {\"color\": \"#636efa\"}, \"name\": \"\", \"offsetgroup\": \"\", \"orientation\": \"v\", \"showlegend\": false, \"textposition\": \"auto\", \"type\": \"bar\", \"x\": [\"Var6\", \"Var7\", \"Var13\", \"Var21\", \"Var22\", \"Var24\", \"Var25\", \"Var28\", \"Var35\", \"Var38\", \"Var44\", \"Var57\", \"Var65\", \"Var73\", \"Var74\", \"Var76\", \"Var78\", \"Var81\", \"Var83\", \"Var85\", \"Var109\", \"Var112\", \"Var113\", \"Var119\", \"Var123\", \"Var125\", \"Var126\", \"Var132\", \"Var133\", \"Var134\", \"Var140\", \"Var143\", \"Var144\", \"Var149\", \"Var153\", \"Var160\", \"Var163\", \"Var173\", \"Var181\", \"Var192\", \"Var193\", \"Var195\", \"Var196\", \"Var197\", \"Var198\", \"Var199\", \"Var202\", \"Var203\", \"Var204\", \"Var205\", \"Var206\", \"Var207\", \"Var208\", \"Var210\", \"Var211\", \"Var212\", \"Var216\", \"Var217\", \"Var218\", \"Var219\", \"Var220\", \"Var221\", \"Var222\", \"Var223\", \"Var226\", \"Var227\", \"Var228\", \"appetency_labels\", \"churn_labels\", \"upselling_labels\"], \"xaxis\": \"x\", \"y\": [635, 640, 640, 635, 584, 856, 584, 585, 584, 584, 584, 0, 640, 0, 640, 584, 584, 635, 584, 584, 856, 584, 0, 635, 584, 640, 1683, 584, 584, 584, 640, 584, 635, 857, 585, 585, 585, 585, 585, 41, 1, 1, 1, 16, 1, 3, 2, 16, 1, 253, 636, 1, 16, 1, 1, 1, 1, 79, 79, 641, 1, 1, 1, 641, 1, 1, 1, 0, 0, 0], \"yaxis\": \"y\"}],\n",
              "                        {\"barmode\": \"relative\", \"legend\": {\"tracegroupgap\": 0}, \"template\": {\"data\": {\"bar\": [{\"error_x\": {\"color\": \"#2a3f5f\"}, \"error_y\": {\"color\": \"#2a3f5f\"}, \"marker\": {\"line\": {\"color\": \"#E5ECF6\", \"width\": 0.5}}, \"type\": \"bar\"}], \"barpolar\": [{\"marker\": {\"line\": {\"color\": \"#E5ECF6\", \"width\": 0.5}}, \"type\": \"barpolar\"}], \"carpet\": [{\"aaxis\": {\"endlinecolor\": \"#2a3f5f\", \"gridcolor\": \"white\", \"linecolor\": \"white\", \"minorgridcolor\": \"white\", \"startlinecolor\": \"#2a3f5f\"}, \"baxis\": {\"endlinecolor\": \"#2a3f5f\", \"gridcolor\": \"white\", \"linecolor\": \"white\", \"minorgridcolor\": \"white\", \"startlinecolor\": \"#2a3f5f\"}, \"type\": \"carpet\"}], \"choropleth\": [{\"colorbar\": {\"outlinewidth\": 0, \"ticks\": \"\"}, \"type\": \"choropleth\"}], \"contour\": [{\"colorbar\": {\"outlinewidth\": 0, \"ticks\": \"\"}, \"colorscale\": [[0.0, \"#0d0887\"], [0.1111111111111111, \"#46039f\"], [0.2222222222222222, \"#7201a8\"], [0.3333333333333333, \"#9c179e\"], [0.4444444444444444, \"#bd3786\"], [0.5555555555555556, \"#d8576b\"], [0.6666666666666666, \"#ed7953\"], [0.7777777777777778, \"#fb9f3a\"], [0.8888888888888888, \"#fdca26\"], [1.0, \"#f0f921\"]], \"type\": \"contour\"}], \"contourcarpet\": [{\"colorbar\": {\"outlinewidth\": 0, \"ticks\": \"\"}, \"type\": \"contourcarpet\"}], \"heatmap\": [{\"colorbar\": {\"outlinewidth\": 0, \"ticks\": \"\"}, \"colorscale\": [[0.0, \"#0d0887\"], [0.1111111111111111, \"#46039f\"], [0.2222222222222222, \"#7201a8\"], [0.3333333333333333, \"#9c179e\"], [0.4444444444444444, \"#bd3786\"], [0.5555555555555556, \"#d8576b\"], [0.6666666666666666, \"#ed7953\"], [0.7777777777777778, \"#fb9f3a\"], [0.8888888888888888, \"#fdca26\"], [1.0, \"#f0f921\"]], \"type\": \"heatmap\"}], \"heatmapgl\": [{\"colorbar\": {\"outlinewidth\": 0, \"ticks\": \"\"}, \"colorscale\": [[0.0, \"#0d0887\"], [0.1111111111111111, \"#46039f\"], [0.2222222222222222, \"#7201a8\"], [0.3333333333333333, \"#9c179e\"], [0.4444444444444444, \"#bd3786\"], [0.5555555555555556, \"#d8576b\"], [0.6666666666666666, \"#ed7953\"], [0.7777777777777778, \"#fb9f3a\"], [0.8888888888888888, \"#fdca26\"], [1.0, \"#f0f921\"]], \"type\": \"heatmapgl\"}], \"histogram\": [{\"marker\": {\"colorbar\": {\"outlinewidth\": 0, \"ticks\": \"\"}}, \"type\": \"histogram\"}], \"histogram2d\": [{\"colorbar\": {\"outlinewidth\": 0, \"ticks\": \"\"}, \"colorscale\": [[0.0, \"#0d0887\"], [0.1111111111111111, \"#46039f\"], [0.2222222222222222, \"#7201a8\"], [0.3333333333333333, \"#9c179e\"], [0.4444444444444444, \"#bd3786\"], [0.5555555555555556, \"#d8576b\"], [0.6666666666666666, \"#ed7953\"], [0.7777777777777778, \"#fb9f3a\"], [0.8888888888888888, \"#fdca26\"], [1.0, \"#f0f921\"]], \"type\": \"histogram2d\"}], \"histogram2dcontour\": [{\"colorbar\": {\"outlinewidth\": 0, \"ticks\": \"\"}, \"colorscale\": [[0.0, \"#0d0887\"], [0.1111111111111111, \"#46039f\"], [0.2222222222222222, \"#7201a8\"], [0.3333333333333333, \"#9c179e\"], [0.4444444444444444, \"#bd3786\"], [0.5555555555555556, \"#d8576b\"], [0.6666666666666666, \"#ed7953\"], [0.7777777777777778, \"#fb9f3a\"], [0.8888888888888888, \"#fdca26\"], [1.0, \"#f0f921\"]], \"type\": \"histogram2dcontour\"}], \"mesh3d\": [{\"colorbar\": {\"outlinewidth\": 0, \"ticks\": \"\"}, \"type\": \"mesh3d\"}], \"parcoords\": [{\"line\": {\"colorbar\": {\"outlinewidth\": 0, \"ticks\": \"\"}}, \"type\": \"parcoords\"}], \"pie\": [{\"automargin\": true, \"type\": \"pie\"}], \"scatter\": [{\"marker\": {\"colorbar\": {\"outlinewidth\": 0, \"ticks\": \"\"}}, \"type\": \"scatter\"}], \"scatter3d\": [{\"line\": {\"colorbar\": {\"outlinewidth\": 0, \"ticks\": \"\"}}, \"marker\": {\"colorbar\": {\"outlinewidth\": 0, \"ticks\": \"\"}}, \"type\": \"scatter3d\"}], \"scattercarpet\": [{\"marker\": {\"colorbar\": {\"outlinewidth\": 0, \"ticks\": \"\"}}, \"type\": \"scattercarpet\"}], \"scattergeo\": [{\"marker\": {\"colorbar\": {\"outlinewidth\": 0, \"ticks\": \"\"}}, \"type\": \"scattergeo\"}], \"scattergl\": [{\"marker\": {\"colorbar\": {\"outlinewidth\": 0, \"ticks\": \"\"}}, \"type\": \"scattergl\"}], \"scattermapbox\": [{\"marker\": {\"colorbar\": {\"outlinewidth\": 0, \"ticks\": \"\"}}, \"type\": \"scattermapbox\"}], \"scatterpolar\": [{\"marker\": {\"colorbar\": {\"outlinewidth\": 0, \"ticks\": \"\"}}, \"type\": \"scatterpolar\"}], \"scatterpolargl\": [{\"marker\": {\"colorbar\": {\"outlinewidth\": 0, \"ticks\": \"\"}}, \"type\": \"scatterpolargl\"}], \"scatterternary\": [{\"marker\": {\"colorbar\": {\"outlinewidth\": 0, \"ticks\": \"\"}}, \"type\": \"scatterternary\"}], \"surface\": [{\"colorbar\": {\"outlinewidth\": 0, \"ticks\": \"\"}, \"colorscale\": [[0.0, \"#0d0887\"], [0.1111111111111111, \"#46039f\"], [0.2222222222222222, \"#7201a8\"], [0.3333333333333333, \"#9c179e\"], [0.4444444444444444, \"#bd3786\"], [0.5555555555555556, \"#d8576b\"], [0.6666666666666666, \"#ed7953\"], [0.7777777777777778, \"#fb9f3a\"], [0.8888888888888888, \"#fdca26\"], [1.0, \"#f0f921\"]], \"type\": \"surface\"}], \"table\": [{\"cells\": {\"fill\": {\"color\": \"#EBF0F8\"}, \"line\": {\"color\": \"white\"}}, \"header\": {\"fill\": {\"color\": \"#C8D4E3\"}, \"line\": {\"color\": \"white\"}}, \"type\": \"table\"}]}, \"layout\": {\"annotationdefaults\": {\"arrowcolor\": \"#2a3f5f\", \"arrowhead\": 0, \"arrowwidth\": 1}, \"coloraxis\": {\"colorbar\": {\"outlinewidth\": 0, \"ticks\": \"\"}}, \"colorscale\": {\"diverging\": [[0, \"#8e0152\"], [0.1, \"#c51b7d\"], [0.2, \"#de77ae\"], [0.3, \"#f1b6da\"], [0.4, \"#fde0ef\"], [0.5, \"#f7f7f7\"], [0.6, \"#e6f5d0\"], [0.7, \"#b8e186\"], [0.8, \"#7fbc41\"], [0.9, \"#4d9221\"], [1, \"#276419\"]], \"sequential\": [[0.0, \"#0d0887\"], [0.1111111111111111, \"#46039f\"], [0.2222222222222222, \"#7201a8\"], [0.3333333333333333, \"#9c179e\"], [0.4444444444444444, \"#bd3786\"], [0.5555555555555556, \"#d8576b\"], [0.6666666666666666, \"#ed7953\"], [0.7777777777777778, \"#fb9f3a\"], [0.8888888888888888, \"#fdca26\"], [1.0, \"#f0f921\"]], \"sequentialminus\": [[0.0, \"#0d0887\"], [0.1111111111111111, \"#46039f\"], [0.2222222222222222, \"#7201a8\"], [0.3333333333333333, \"#9c179e\"], [0.4444444444444444, \"#bd3786\"], [0.5555555555555556, \"#d8576b\"], [0.6666666666666666, \"#ed7953\"], [0.7777777777777778, \"#fb9f3a\"], [0.8888888888888888, \"#fdca26\"], [1.0, \"#f0f921\"]]}, \"colorway\": [\"#636efa\", \"#EF553B\", \"#00cc96\", \"#ab63fa\", \"#FFA15A\", \"#19d3f3\", \"#FF6692\", \"#B6E880\", \"#FF97FF\", \"#FECB52\"], \"font\": {\"color\": \"#2a3f5f\"}, \"geo\": {\"bgcolor\": \"white\", \"lakecolor\": \"white\", \"landcolor\": \"#E5ECF6\", \"showlakes\": true, \"showland\": true, \"subunitcolor\": \"white\"}, \"hoverlabel\": {\"align\": \"left\"}, \"hovermode\": \"closest\", \"mapbox\": {\"style\": \"light\"}, \"paper_bgcolor\": \"white\", \"plot_bgcolor\": \"#E5ECF6\", \"polar\": {\"angularaxis\": {\"gridcolor\": \"white\", \"linecolor\": \"white\", \"ticks\": \"\"}, \"bgcolor\": \"#E5ECF6\", \"radialaxis\": {\"gridcolor\": \"white\", \"linecolor\": \"white\", \"ticks\": \"\"}}, \"scene\": {\"xaxis\": {\"backgroundcolor\": \"#E5ECF6\", \"gridcolor\": \"white\", \"gridwidth\": 2, \"linecolor\": \"white\", \"showbackground\": true, \"ticks\": \"\", \"zerolinecolor\": \"white\"}, \"yaxis\": {\"backgroundcolor\": \"#E5ECF6\", \"gridcolor\": \"white\", \"gridwidth\": 2, \"linecolor\": \"white\", \"showbackground\": true, \"ticks\": \"\", \"zerolinecolor\": \"white\"}, \"zaxis\": {\"backgroundcolor\": \"#E5ECF6\", \"gridcolor\": \"white\", \"gridwidth\": 2, \"linecolor\": \"white\", \"showbackground\": true, \"ticks\": \"\", \"zerolinecolor\": \"white\"}}, \"shapedefaults\": {\"line\": {\"color\": \"#2a3f5f\"}}, \"ternary\": {\"aaxis\": {\"gridcolor\": \"white\", \"linecolor\": \"white\", \"ticks\": \"\"}, \"baxis\": {\"gridcolor\": \"white\", \"linecolor\": \"white\", \"ticks\": \"\"}, \"bgcolor\": \"#E5ECF6\", \"caxis\": {\"gridcolor\": \"white\", \"linecolor\": \"white\", \"ticks\": \"\"}}, \"title\": {\"x\": 0.05}, \"xaxis\": {\"automargin\": true, \"gridcolor\": \"white\", \"linecolor\": \"white\", \"ticks\": \"\", \"title\": {\"standoff\": 15}, \"zerolinecolor\": \"white\", \"zerolinewidth\": 2}, \"yaxis\": {\"automargin\": true, \"gridcolor\": \"white\", \"linecolor\": \"white\", \"ticks\": \"\", \"title\": {\"standoff\": 15}, \"zerolinecolor\": \"white\", \"zerolinewidth\": 2}}}, \"title\": {\"text\": \"Missing Value counts\"}, \"xaxis\": {\"anchor\": \"y\", \"domain\": [0.0, 1.0], \"title\": {\"text\": \"Column\"}}, \"yaxis\": {\"anchor\": \"x\", \"domain\": [0.0, 1.0], \"title\": {\"text\": \"Missing Value Count\"}}},\n",
              "                        {\"responsive\": true}\n",
              "                    ).then(function(){\n",
              "                            \n",
              "var gd = document.getElementById('48928d27-7d1a-496c-b0aa-ceec9bb6bb16');\n",
              "var x = new MutationObserver(function (mutations, observer) {{\n",
              "        var display = window.getComputedStyle(gd).display;\n",
              "        if (!display || display === 'none') {{\n",
              "            console.log([gd, 'removed!']);\n",
              "            Plotly.purge(gd);\n",
              "            observer.disconnect();\n",
              "        }}\n",
              "}});\n",
              "\n",
              "// Listen for the removal of the full notebook cells\n",
              "var notebookContainer = gd.closest('#notebook-container');\n",
              "if (notebookContainer) {{\n",
              "    x.observe(notebookContainer, {childList: true});\n",
              "}}\n",
              "\n",
              "// Listen for the clearing of the current output cell\n",
              "var outputEl = gd.closest('.output');\n",
              "if (outputEl) {{\n",
              "    x.observe(outputEl, {childList: true});\n",
              "}}\n",
              "\n",
              "                        })\n",
              "                };\n",
              "                \n",
              "            </script>\n",
              "        </div>\n",
              "</body>\n",
              "</html>"
            ]
          },
          "metadata": {
            "tags": []
          }
        }
      ]
    },
    {
      "cell_type": "code",
      "metadata": {
        "colab": {
          "base_uri": "https://localhost:8080/",
          "height": 519
        },
        "id": "Dy--UGlELTY5",
        "outputId": "665635ec-db4d-4a95-bebb-523cd395be96"
      },
      "source": [
        "plt.figure(figsize = (10,8))\n",
        "kdd_data.isna().sum().hist()\n",
        "plt.title(\"Histogram of NA Observations and Variables\", fontsize = 16)\n",
        "plt.xlabel(\"Number of NA Observations\", fontsize = 14)\n",
        "plt.ylabel(\"Number of Variables\", fontsize = 14)\n",
        "plt.show()"
      ],
      "execution_count": 23,
      "outputs": [
        {
          "output_type": "display_data",
          "data": {
            "image/png": "[encoded data removed]",
            "text/plain": [
              "<Figure size 720x576 with 1 Axes>"
            ]
          },
          "metadata": {
            "tags": [],
            "needs_background": "light"
          }
        }
      ]
    },
    {
      "cell_type": "code",
      "metadata": {
        "colab": {
          "base_uri": "https://localhost:8080/",
          "height": 1000
        },
        "id": "77G5Xdy26fRG",
        "outputId": "8c5886cb-bf5a-483b-ba2f-14d7701ce297"
      },
      "source": [
        "plt.figure(figsize=(20,25))\n",
        "plt.title(\"Correlation Between Variables\", fontsize = 18)\n",
        "sns.heatmap(kdd_data.corr())\n"
      ],
      "execution_count": 25,
      "outputs": [
        {
          "output_type": "execute_result",
          "data": {
            "text/plain": [
              "<matplotlib.axes._subplots.AxesSubplot at 0x7f351bcd6c90>"
            ]
          },
          "metadata": {
            "tags": []
          },
          "execution_count": 25
        },
        {
          "output_type": "display_data",
          "data": {
            "image/png": "[encoded data removed]",
            "text/plain": [
              "<Figure size 1440x1800 with 2 Axes>"
            ]
          },
          "metadata": {
            "tags": [],
            "needs_background": "light"
          }
        }
      ]
    },
    {
      "cell_type": "markdown",
      "metadata": {
        "id": "kBQeWFdmCovQ"
      },
      "source": [
        "## Removing Highly correlated columns"
      ]
    },
    {
      "cell_type": "code",
      "metadata": {
        "id": "uWmFQfAQAm_c"
      },
      "source": [
        "corr_matrix = kdd_data.corr().abs()"
      ],
      "execution_count": 16,
      "outputs": []
    },
    {
      "cell_type": "code",
      "metadata": {
        "id": "ZBF4u7_7Am3Y"
      },
      "source": [
        "upper = corr_matrix.where(np.triu(np.ones(corr_matrix.shape), k=1).astype(np.bool))"
      ],
      "execution_count": 17,
      "outputs": []
    },
    {
      "cell_type": "code",
      "metadata": {
        "id": "xkNuUyemBmVs"
      },
      "source": [
        "to_drop = [column for column in upper.columns if any(upper[column] > 0.85)]"
      ],
      "execution_count": 18,
      "outputs": []
    },
    {
      "cell_type": "code",
      "metadata": {
        "colab": {
          "base_uri": "https://localhost:8080/"
        },
        "id": "3yiSE4G9CEOE",
        "outputId": "5951236e-1d8a-45c8-f244-1d0693a22093"
      },
      "source": [
        "to_drop"
      ],
      "execution_count": 19,
      "outputs": [
        {
          "output_type": "execute_result",
          "data": {
            "text/plain": [
              "['Var22', 'Var25', 'Var109', 'Var123', 'Var160']"
            ]
          },
          "metadata": {
            "tags": []
          },
          "execution_count": 19
        }
      ]
    },
    {
      "cell_type": "code",
      "metadata": {
        "id": "fOcX5qSdCszU"
      },
      "source": [
        "kdd_data.drop(to_drop, axis=1, inplace=True)"
      ],
      "execution_count": 20,
      "outputs": []
    },
    {
      "cell_type": "markdown",
      "metadata": {
        "id": "K6wCfkq0FaYd"
      },
      "source": [
        "## Handling Categorical Null Variables"
      ]
    },
    {
      "cell_type": "code",
      "metadata": {
        "id": "iDEfENwqC3yP"
      },
      "source": [
        "cols=[col for col in kdd_data.columns if kdd_data[col].dtype=='O']"
      ],
      "execution_count": 21,
      "outputs": []
    },
    {
      "cell_type": "code",
      "metadata": {
        "colab": {
          "base_uri": "https://localhost:8080/"
        },
        "id": "8uzzBVvKFjdq",
        "outputId": "a75a518f-6d69-467e-fdc5-097fecd370bd"
      },
      "source": [
        "kdd_data[cols].isna().sum()"
      ],
      "execution_count": 22,
      "outputs": [
        {
          "output_type": "execute_result",
          "data": {
            "text/plain": [
              "Var192     41\n",
              "Var193      1\n",
              "Var195      1\n",
              "Var196      1\n",
              "Var197     16\n",
              "Var198      1\n",
              "Var199      3\n",
              "Var202      2\n",
              "Var203     16\n",
              "Var204      1\n",
              "Var205    253\n",
              "Var206    636\n",
              "Var207      1\n",
              "Var208     16\n",
              "Var210      1\n",
              "Var211      1\n",
              "Var212      1\n",
              "Var216      1\n",
              "Var217     79\n",
              "Var218     79\n",
              "Var219    641\n",
              "Var220      1\n",
              "Var221      1\n",
              "Var222      1\n",
              "Var223    641\n",
              "Var226      1\n",
              "Var227      1\n",
              "Var228      1\n",
              "dtype: int64"
            ]
          },
          "metadata": {
            "tags": []
          },
          "execution_count": 22
        }
      ]
    },
    {
      "cell_type": "markdown",
      "metadata": {
        "id": "f2ZWBqrgK8tT"
      },
      "source": [
        "### Number of Categories in each variable"
      ]
    },
    {
      "cell_type": "code",
      "metadata": {
        "id": "yARNE854Fynl"
      },
      "source": [
        "cols_value_counts = [(i, kdd_data[i].nunique()) for i in cols] #Checking the number of unique values in each categorical variable"
      ],
      "execution_count": 26,
      "outputs": []
    },
    {
      "cell_type": "code",
      "metadata": {
        "colab": {
          "base_uri": "https://localhost:8080/"
        },
        "id": "BjePaSy-GXQZ",
        "outputId": "76f423a8-6a04-4552-8e9b-ed975b1a1d86"
      },
      "source": [
        "cols_value_counts"
      ],
      "execution_count": 27,
      "outputs": [
        {
          "output_type": "execute_result",
          "data": {
            "text/plain": [
              "[('Var192', 273),\n",
              " ('Var193', 38),\n",
              " ('Var195', 19),\n",
              " ('Var196', 2),\n",
              " ('Var197', 176),\n",
              " ('Var198', 1656),\n",
              " ('Var199', 1288),\n",
              " ('Var202', 2920),\n",
              " ('Var203', 4),\n",
              " ('Var204', 100),\n",
              " ('Var205', 3),\n",
              " ('Var206', 20),\n",
              " ('Var207', 13),\n",
              " ('Var208', 2),\n",
              " ('Var210', 6),\n",
              " ('Var211', 2),\n",
              " ('Var212', 62),\n",
              " ('Var216', 704),\n",
              " ('Var217', 3688),\n",
              " ('Var218', 2),\n",
              " ('Var219', 11),\n",
              " ('Var220', 1656),\n",
              " ('Var221', 7),\n",
              " ('Var222', 1656),\n",
              " ('Var223', 4),\n",
              " ('Var226', 23),\n",
              " ('Var227', 7),\n",
              " ('Var228', 25)]"
            ]
          },
          "metadata": {
            "tags": []
          },
          "execution_count": 27
        }
      ]
    },
    {
      "cell_type": "code",
      "metadata": {
        "colab": {
          "base_uri": "https://localhost:8080/",
          "height": 653
        },
        "id": "ZoRdmBL6L5_u",
        "outputId": "a6fd0b78-914c-4eca-8823-4f60e85c1f90"
      },
      "source": [
        "categories_num = {}\n",
        "for i in cols:\n",
        "    a = len(kdd_data[i].value_counts())\n",
        "    categories_num[i] = a\n",
        "    \n",
        "plt.figure(figsize = (20,10))\n",
        "plt.title(\"Number of Categories in Categorical Variables\", fontsize = 16)\n",
        "plt.bar(*zip(*categories_num.items()))\n",
        "plt.xlabel(\"Column Name\", fontsize = 14)\n",
        "plt.xticks(rotation=90)\n",
        "plt.ylabel(\"Categories Count\", fontsize = 14)\n",
        "plt.show()"
      ],
      "execution_count": 28,
      "outputs": [
        {
          "output_type": "display_data",
          "data": {
            "image/png": "[encoded data removed]",
            "text/plain": [
              "<Figure size 1440x720 with 1 Axes>"
            ]
          },
          "metadata": {
            "tags": [],
            "needs_background": "light"
          }
        }
      ]
    },
    {
      "cell_type": "markdown",
      "metadata": {
        "id": "WvgS4FRWL9b5"
      },
      "source": [
        "#### To Keep things fairly simple and within the scope of the project, we only select categorical variables with less than 100 unique categories "
      ]
    },
    {
      "cell_type": "code",
      "metadata": {
        "id": "FKXmdkU0Gyxa"
      },
      "source": [
        "cols_new = [i for i in cols if kdd_data[i].nunique() < 100] #Selecting only those categorical variables with less than "
      ],
      "execution_count": 29,
      "outputs": []
    },
    {
      "cell_type": "code",
      "metadata": {
        "colab": {
          "base_uri": "https://localhost:8080/"
        },
        "id": "r58ixiMuG3iX",
        "outputId": "90971534-6112-4f29-d414-500213b71897"
      },
      "source": [
        "kdd_data[cols_new].isna().sum() #Null values in these columns"
      ],
      "execution_count": 30,
      "outputs": [
        {
          "output_type": "execute_result",
          "data": {
            "text/plain": [
              "Var193      1\n",
              "Var195      1\n",
              "Var196      1\n",
              "Var203     16\n",
              "Var205    253\n",
              "Var206    636\n",
              "Var207      1\n",
              "Var208     16\n",
              "Var210      1\n",
              "Var211      1\n",
              "Var212      1\n",
              "Var218     79\n",
              "Var219    641\n",
              "Var221      1\n",
              "Var223    641\n",
              "Var226      1\n",
              "Var227      1\n",
              "Var228      1\n",
              "dtype: int64"
            ]
          },
          "metadata": {
            "tags": []
          },
          "execution_count": 30
        }
      ]
    },
    {
      "cell_type": "code",
      "metadata": {
        "colab": {
          "base_uri": "https://localhost:8080/",
          "height": 516
        },
        "id": "I_xZMtmmIEIN",
        "outputId": "53826ea9-c7c3-462d-fddc-3118655e7b7f"
      },
      "source": [
        "plt.figure(figsize = (15,8))\n",
        "plt.title('Var203 Category Distribution')\n",
        "kdd_data['Var203'].value_counts().sort_values().plot(kind = 'barh') #Distribution of each column"
      ],
      "execution_count": 37,
      "outputs": [
        {
          "output_type": "execute_result",
          "data": {
            "text/plain": [
              "<matplotlib.axes._subplots.AxesSubplot at 0x7f351b9b4ed0>"
            ]
          },
          "metadata": {
            "tags": []
          },
          "execution_count": 37
        },
        {
          "output_type": "display_data",
          "data": {
            "image/png": "[encoded data removed]",
            "text/plain": [
              "<Figure size 1080x576 with 1 Axes>"
            ]
          },
          "metadata": {
            "tags": [],
            "needs_background": "light"
          }
        }
      ]
    },
    {
      "cell_type": "code",
      "metadata": {
        "colab": {
          "base_uri": "https://localhost:8080/",
          "height": 516
        },
        "id": "SZzg6iqyJLY-",
        "outputId": "28531edd-bfa2-405d-cdfe-2a96341000ed"
      },
      "source": [
        "plt.figure(figsize = (15,8))\n",
        "plt.title('Var208 Category Distribution')\n",
        "kdd_data['Var208'].value_counts().sort_values().plot(kind = 'barh') #Distribution of each column"
      ],
      "execution_count": 38,
      "outputs": [
        {
          "output_type": "execute_result",
          "data": {
            "text/plain": [
              "<matplotlib.axes._subplots.AxesSubplot at 0x7f351b87bcd0>"
            ]
          },
          "metadata": {
            "tags": []
          },
          "execution_count": 38
        },
        {
          "output_type": "display_data",
          "data": {
            "image/png": "[encoded data removed]",
            "text/plain": [
              "<Figure size 1080x576 with 1 Axes>"
            ]
          },
          "metadata": {
            "tags": [],
            "needs_background": "light"
          }
        }
      ]
    },
    {
      "cell_type": "code",
      "metadata": {
        "colab": {
          "base_uri": "https://localhost:8080/",
          "height": 516
        },
        "id": "dwH-YdJyJUSN",
        "outputId": "092ebee3-3427-4322-f519-6aa05e1d6f78"
      },
      "source": [
        "plt.figure(figsize = (15,8))\n",
        "plt.title('Var219 Category Distribution')\n",
        "kdd_data['Var219'].value_counts().sort_values().plot(kind = 'barh') #Distribution of each column"
      ],
      "execution_count": 39,
      "outputs": [
        {
          "output_type": "execute_result",
          "data": {
            "text/plain": [
              "<matplotlib.axes._subplots.AxesSubplot at 0x7f351b86d910>"
            ]
          },
          "metadata": {
            "tags": []
          },
          "execution_count": 39
        },
        {
          "output_type": "display_data",
          "data": {
            "image/png": "[encoded data removed]",
            "text/plain": [
              "<Figure size 1080x576 with 1 Axes>"
            ]
          },
          "metadata": {
            "tags": [],
            "needs_background": "light"
          }
        }
      ]
    },
    {
      "cell_type": "code",
      "metadata": {
        "colab": {
          "base_uri": "https://localhost:8080/",
          "height": 516
        },
        "id": "L12ly2dZJhVZ",
        "outputId": "ccd83e7d-1fca-4607-ed54-461056cb87b4"
      },
      "source": [
        "plt.figure(figsize = (15,8))\n",
        "plt.title('Var223 Category Distribution')\n",
        "kdd_data['Var223'].value_counts().sort_values().plot(kind = 'barh') #Distribution of each column"
      ],
      "execution_count": 40,
      "outputs": [
        {
          "output_type": "execute_result",
          "data": {
            "text/plain": [
              "<matplotlib.axes._subplots.AxesSubplot at 0x7f351b781ad0>"
            ]
          },
          "metadata": {
            "tags": []
          },
          "execution_count": 40
        },
        {
          "output_type": "display_data",
          "data": {
            "image/png": "[encoded data removed]",
            "text/plain": [
              "<Figure size 1080x576 with 1 Axes>"
            ]
          },
          "metadata": {
            "tags": [],
            "needs_background": "light"
          }
        }
      ]
    },
    {
      "cell_type": "markdown",
      "metadata": {
        "id": "QMY1Rd1DNNgl"
      },
      "source": [
        "#### Using Mode of the class to fill missing values for categories that have a prominent major class. We use forward fill to handle other categorical column"
      ]
    },
    {
      "cell_type": "code",
      "metadata": {
        "id": "2S0NAzApK_p_"
      },
      "source": [
        "#Using max frequency handling for the following columns \n",
        "kdd_data[['Var208', 'Var219', 'Var203', 'Var223']] = kdd_data[['Var208', 'Var219', 'Var203', 'Var223']].apply(lambda x:x.fillna(x.value_counts().index[0]))  "
      ],
      "execution_count": 41,
      "outputs": []
    },
    {
      "cell_type": "code",
      "metadata": {
        "id": "b0FL6qqILsnP"
      },
      "source": [
        "#Using forward fill for these columns\n",
        "kdd_data[['Var205', 'Var206', 'Var218']]=kdd_data[['Var205', 'Var206', 'Var218']].ffill(axis=0)"
      ],
      "execution_count": 42,
      "outputs": []
    },
    {
      "cell_type": "code",
      "metadata": {
        "colab": {
          "base_uri": "https://localhost:8080/"
        },
        "id": "P3nnDMM3LRPK",
        "outputId": "a33ea45b-5313-4119-b458-a0365647fd90"
      },
      "source": [
        "kdd_data[cols_new].isna().sum()"
      ],
      "execution_count": 43,
      "outputs": [
        {
          "output_type": "execute_result",
          "data": {
            "text/plain": [
              "Var193    1\n",
              "Var195    1\n",
              "Var196    1\n",
              "Var203    0\n",
              "Var205    0\n",
              "Var206    0\n",
              "Var207    1\n",
              "Var208    0\n",
              "Var210    1\n",
              "Var211    1\n",
              "Var212    1\n",
              "Var218    0\n",
              "Var219    0\n",
              "Var221    1\n",
              "Var223    0\n",
              "Var226    1\n",
              "Var227    1\n",
              "Var228    1\n",
              "dtype: int64"
            ]
          },
          "metadata": {
            "tags": []
          },
          "execution_count": 43
        }
      ]
    },
    {
      "cell_type": "markdown",
      "metadata": {
        "id": "TtdjO6E2MQO6"
      },
      "source": [
        "# Handling Numerical NA values"
      ]
    },
    {
      "cell_type": "code",
      "metadata": {
        "id": "4aGLk40HMTIQ"
      },
      "source": [
        "num_cols=[col for col in kdd_data.columns if kdd_data[col].dtype=='float64'] #numerical column"
      ],
      "execution_count": 44,
      "outputs": []
    },
    {
      "cell_type": "code",
      "metadata": {
        "id": "-3Sg31yHhKxV"
      },
      "source": [
        "targets = ['appetency_labels', 'churn_labels', 'upselling_labels']"
      ],
      "execution_count": 45,
      "outputs": []
    },
    {
      "cell_type": "code",
      "metadata": {
        "id": "iHSYtqh1g1yf"
      },
      "source": [
        "kdd_data = kdd_data[num_cols + cols_new + targets]"
      ],
      "execution_count": 46,
      "outputs": []
    },
    {
      "cell_type": "code",
      "metadata": {
        "id": "8zHSsvUOOJGi"
      },
      "source": [
        "kdd_data[num_cols] = kdd_data[num_cols].apply(lambda x:x.fillna(x.mean())) #FIlling values with NA values"
      ],
      "execution_count": 47,
      "outputs": []
    },
    {
      "cell_type": "markdown",
      "metadata": {
        "id": "KNi18raRN-U0"
      },
      "source": [
        "# EDA"
      ]
    },
    {
      "cell_type": "code",
      "metadata": {
        "colab": {
          "base_uri": "https://localhost:8080/",
          "height": 298
        },
        "id": "m2q8kBo0N_xF",
        "outputId": "6b87d872-1da3-4844-9241-2a673918f493"
      },
      "source": [
        "kdd_data['appetency_labels'].value_counts().plot( kind='bar')\n",
        "plt.title(\"Appetency Value Counts\", fontsize = 16)\n",
        "plt.xlabel(\"Target Value\", fontsize = 14)\n",
        "plt.ylabel(\"Count\",fontsize = 14 )\n",
        "plt.show()"
      ],
      "execution_count": 56,
      "outputs": [
        {
          "output_type": "display_data",
          "data": {
            "image/png": "[encoded data removed]",
            "text/plain": [
              "<Figure size 432x288 with 1 Axes>"
            ]
          },
          "metadata": {
            "tags": [],
            "needs_background": "light"
          }
        }
      ]
    },
    {
      "cell_type": "code",
      "metadata": {
        "colab": {
          "base_uri": "https://localhost:8080/",
          "height": 298
        },
        "id": "1eil70sDOE6S",
        "outputId": "1fecc8b4-3429-4afa-96be-5b9bce8a656f"
      },
      "source": [
        "kdd_data['churn_labels'].value_counts().plot( kind='bar')\n",
        "plt.title(\"Churn Value Counts\", fontsize = 16)\n",
        "plt.xlabel(\"Target Value\", fontsize = 14)\n",
        "plt.ylabel(\"Count\", fontsize = 14)\n",
        "plt.show()"
      ],
      "execution_count": 57,
      "outputs": [
        {
          "output_type": "display_data",
          "data": {
            "image/png": "[encoded data removed]",
            "text/plain": [
              "<Figure size 432x288 with 1 Axes>"
            ]
          },
          "metadata": {
            "tags": [],
            "needs_background": "light"
          }
        }
      ]
    },
    {
      "cell_type": "code",
      "metadata": {
        "colab": {
          "base_uri": "https://localhost:8080/",
          "height": 298
        },
        "id": "H6VJZ3BUOIc9",
        "outputId": "4aedfe75-5489-47d9-abd6-286431ddbcd3"
      },
      "source": [
        "kdd_data['upselling_labels'].value_counts().plot( kind='bar')\n",
        "plt.title(\"Upselling Value Counts\", fontsize = 16)\n",
        "plt.xlabel(\"Target Value\", fontsize = 14)\n",
        "plt.ylabel(\"Count\", fontsize = 14)\n",
        "plt.show()"
      ],
      "execution_count": 58,
      "outputs": [
        {
          "output_type": "display_data",
          "data": {
            "image/png": "[encoded data removed]",
            "text/plain": [
              "<Figure size 432x288 with 1 Axes>"
            ]
          },
          "metadata": {
            "tags": [],
            "needs_background": "light"
          }
        }
      ]
    },
    {
      "cell_type": "markdown",
      "metadata": {
        "id": "ieBJml3AxkC_"
      },
      "source": [
        "# Handling categorical variables for processing"
      ]
    },
    {
      "cell_type": "code",
      "metadata": {
        "id": "1CUdNSEzxvv6"
      },
      "source": [
        "x = kdd_data.drop(['appetency_labels', 'churn_labels', 'upselling_labels'], axis =1)\n",
        "y = kdd_data[['appetency_labels', 'churn_labels', 'upselling_labels']]\n",
        "x_train, x_val, y_train, y_val = train_test_split(x, y, test_size=0.2, random_state=21)"
      ],
      "execution_count": 125,
      "outputs": []
    },
    {
      "cell_type": "code",
      "metadata": {
        "id": "5j3jW1rt0W25"
      },
      "source": [
        "def process_data(x_train, x_val):\n",
        "  le=LabelEncoder()\n",
        "  x_train['Var193']=le.fit_transform(x_train['Var193'])\n",
        "  x_val['Var193'] = x_val['Var193'].map(lambda s: 'other' if s not in le.classes_ else s)\n",
        "  le_classes = le.classes_.tolist()\n",
        "  bisect.insort_left(le_classes, 'other')\n",
        "  le.classes_ = le_classes\n",
        "      \n",
        "  x_val['Var193']=le.transform(x_val['Var193'])\n",
        "      \n",
        "  ohe=OneHotEncoder(handle_unknown='ignore')\n",
        "  X_tr = ohe.fit_transform(x_train['Var193'].values.reshape(-1,1))\n",
        "  X_te = ohe.transform(x_val['Var193'].values.reshape(-1,1))\n",
        "  flag=0    \n",
        "  for i in cols_new:\n",
        "    \n",
        "    if (flag!=0):\n",
        "\n",
        "          le = LabelEncoder()\n",
        "          x_train[i]=le.fit_transform(x_train[i])\n",
        "          x_val[i] = x_val[i].map(lambda s: 'other' if s not in le.classes_ else s)\n",
        "          le_classes = le.classes_.tolist()\n",
        "          bisect.insort_left(le_classes, 'other')\n",
        "          le.classes_ = le_classes\n",
        "          x_val[i]=le.transform(x_val[i])\n",
        "          ohe=OneHotEncoder(handle_unknown='ignore')\n",
        "          print(i)\n",
        "          x_train[i] = ohe.fit_transform(x_train[i])\n",
        "          X_tei = ohe.transform(x_val[i].values.reshape(-1,1))\n",
        "          X_tr=hstack((X_tr,X_tri))\n",
        "          X_te=hstack((X_te,X_tei))\n",
        "\n",
        "    flag=1"
      ],
      "execution_count": 127,
      "outputs": []
    },
    {
      "cell_type": "code",
      "metadata": {
        "id": "kdccv4mqr73G"
      },
      "source": [
        "dummy_data = kdd_data[cols_new]"
      ],
      "execution_count": 50,
      "outputs": []
    },
    {
      "cell_type": "code",
      "metadata": {
        "id": "rPZZiEgjrNsl"
      },
      "source": [
        "dummy_data = pd.get_dummies(dummy_data)\n"
      ],
      "execution_count": 51,
      "outputs": []
    },
    {
      "cell_type": "code",
      "metadata": {
        "id": "zeW27Fm4sv6O"
      },
      "source": [
        "kdd_preprocessed = pd.concat([kdd_data[num_cols], dummy_data, kdd_data[targets]], axis = 1)"
      ],
      "execution_count": 52,
      "outputs": []
    },
    {
      "cell_type": "code",
      "metadata": {
        "colab": {
          "base_uri": "https://localhost:8080/",
          "height": 243
        },
        "id": "WsXrW93HsmNr",
        "outputId": "d67aacb8-eb3f-487e-c0b1-9b8cd9f1f0b8"
      },
      "source": [
        "kdd_preprocessed.head()"
      ],
      "execution_count": 53,
      "outputs": [
        {
          "output_type": "execute_result",
          "data": {
            "text/html": [
              "<div>\n",
              "<style scoped>\n",
              "    .dataframe tbody tr th:only-of-type {\n",
              "        vertical-align: middle;\n",
              "    }\n",
              "\n",
              "    .dataframe tbody tr th {\n",
              "        vertical-align: top;\n",
              "    }\n",
              "\n",
              "    .dataframe thead th {\n",
              "        text-align: right;\n",
              "    }\n",
              "</style>\n",
              "<table border=\"1\" class=\"dataframe\">\n",
              "  <thead>\n",
              "    <tr style=\"text-align: right;\">\n",
              "      <th></th>\n",
              "      <th>Var6</th>\n",
              "      <th>Var7</th>\n",
              "      <th>Var13</th>\n",
              "      <th>Var21</th>\n",
              "      <th>Var24</th>\n",
              "      <th>Var28</th>\n",
              "      <th>Var35</th>\n",
              "      <th>Var38</th>\n",
              "      <th>Var44</th>\n",
              "      <th>Var57</th>\n",
              "      <th>Var65</th>\n",
              "      <th>Var74</th>\n",
              "      <th>Var76</th>\n",
              "      <th>Var78</th>\n",
              "      <th>Var81</th>\n",
              "      <th>Var83</th>\n",
              "      <th>Var85</th>\n",
              "      <th>Var112</th>\n",
              "      <th>Var113</th>\n",
              "      <th>Var119</th>\n",
              "      <th>Var125</th>\n",
              "      <th>Var126</th>\n",
              "      <th>Var132</th>\n",
              "      <th>Var133</th>\n",
              "      <th>Var134</th>\n",
              "      <th>Var140</th>\n",
              "      <th>Var143</th>\n",
              "      <th>Var144</th>\n",
              "      <th>Var149</th>\n",
              "      <th>Var153</th>\n",
              "      <th>Var163</th>\n",
              "      <th>Var173</th>\n",
              "      <th>Var181</th>\n",
              "      <th>Var193_2Knk1KF</th>\n",
              "      <th>Var193_2wnefc9ISdLjfQoAYBI</th>\n",
              "      <th>Var193_5QKIjwyXr4MCZTEp7uAkS8PtBLcn</th>\n",
              "      <th>Var193_9U2tunPAje3TwfLLUQxzM3dC1ghn</th>\n",
              "      <th>Var193_AERks4l</th>\n",
              "      <th>Var193_BrRu5UxtiQY9TTJ8ABKpfS</th>\n",
              "      <th>Var193_ByQdnLRlFnny2k4AJzG</th>\n",
              "      <th>...</th>\n",
              "      <th>Var226_szEZ</th>\n",
              "      <th>Var226_uWr3</th>\n",
              "      <th>Var226_wX53</th>\n",
              "      <th>Var226_w_Ub</th>\n",
              "      <th>Var226_xb3V</th>\n",
              "      <th>Var227_02N6s8f</th>\n",
              "      <th>Var227_6fzt</th>\n",
              "      <th>Var227_RAYp</th>\n",
              "      <th>Var227_ZI9m</th>\n",
              "      <th>Var227_nIGXDli</th>\n",
              "      <th>Var227_nIGjgSB</th>\n",
              "      <th>Var227_vJ_w8kB</th>\n",
              "      <th>Var228_0pzBWGkV3fbsGZN52DH</th>\n",
              "      <th>Var228_4rd_</th>\n",
              "      <th>Var228_55YFVY9</th>\n",
              "      <th>Var228_6nxx00q6gnIF8ePJ3P3AEfZ1N</th>\n",
              "      <th>Var228_DU8B</th>\n",
              "      <th>Var228_F2FcTt7IdMT_v</th>\n",
              "      <th>Var228_F2FyR07IdsN7I</th>\n",
              "      <th>Var228_JnGLH58smNxIYcGK39k</th>\n",
              "      <th>Var228_NoEd</th>\n",
              "      <th>Var228_R4y5gQQWY8OodqDV</th>\n",
              "      <th>Var228_RjBDiL8f9CQYc21fICscNNpj6</th>\n",
              "      <th>Var228_SbOd7O8ky1wGNxp0Arj0Xs</th>\n",
              "      <th>Var228_TCU50_Yjmm6GIBZ0lL_</th>\n",
              "      <th>Var228_VjDE</th>\n",
              "      <th>Var228_WfJ2BB2SFSqauljlfOB</th>\n",
              "      <th>Var228_WfJYmPMksSqa1pajvfG</th>\n",
              "      <th>Var228_ZeaF</th>\n",
              "      <th>Var228_Zy3gnGM</th>\n",
              "      <th>Var228_am14IcfM7tWLrUmRT52KtA</th>\n",
              "      <th>Var228_b9qbUNk0dML_Mvi2</th>\n",
              "      <th>Var228_d0LtHjWeaXyArdN4sxU_saXqH</th>\n",
              "      <th>Var228_ib5G6X1eUxUn6</th>\n",
              "      <th>Var228_iyHGyLCEkQ</th>\n",
              "      <th>Var228_r_7E</th>\n",
              "      <th>Var228_xwM2aC7IdeMC0</th>\n",
              "      <th>appetency_labels</th>\n",
              "      <th>churn_labels</th>\n",
              "      <th>upselling_labels</th>\n",
              "    </tr>\n",
              "  </thead>\n",
              "  <tbody>\n",
              "    <tr>\n",
              "      <th>0</th>\n",
              "      <td>1526.000000</td>\n",
              "      <td>7.0</td>\n",
              "      <td>184.0</td>\n",
              "      <td>464.000000</td>\n",
              "      <td>14.000000</td>\n",
              "      <td>166.56</td>\n",
              "      <td>0.0</td>\n",
              "      <td>3570.0</td>\n",
              "      <td>0.0</td>\n",
              "      <td>4.076907</td>\n",
              "      <td>9.0</td>\n",
              "      <td>35.0</td>\n",
              "      <td>1350864.0</td>\n",
              "      <td>0.0</td>\n",
              "      <td>7333.110000</td>\n",
              "      <td>5.0</td>\n",
              "      <td>12.0</td>\n",
              "      <td>168.0</td>\n",
              "      <td>117625.60</td>\n",
              "      <td>1175.000000</td>\n",
              "      <td>720.0</td>\n",
              "      <td>8.000000</td>\n",
              "      <td>0.0</td>\n",
              "      <td>1212385.0</td>\n",
              "      <td>69134.0</td>\n",
              "      <td>185.0</td>\n",
              "      <td>0.0</td>\n",
              "      <td>9.000000</td>\n",
              "      <td>397579.000000</td>\n",
              "      <td>1812252.0</td>\n",
              "      <td>38418.0</td>\n",
              "      <td>0.0</td>\n",
              "      <td>0.0</td>\n",
              "      <td>0</td>\n",
              "      <td>0</td>\n",
              "      <td>0</td>\n",
              "      <td>0</td>\n",
              "      <td>0</td>\n",
              "      <td>0</td>\n",
              "      <td>0</td>\n",
              "      <td>...</td>\n",
              "      <td>0</td>\n",
              "      <td>0</td>\n",
              "      <td>0</td>\n",
              "      <td>0</td>\n",
              "      <td>1</td>\n",
              "      <td>0</td>\n",
              "      <td>0</td>\n",
              "      <td>1</td>\n",
              "      <td>0</td>\n",
              "      <td>0</td>\n",
              "      <td>0</td>\n",
              "      <td>0</td>\n",
              "      <td>0</td>\n",
              "      <td>0</td>\n",
              "      <td>0</td>\n",
              "      <td>0</td>\n",
              "      <td>0</td>\n",
              "      <td>0</td>\n",
              "      <td>1</td>\n",
              "      <td>0</td>\n",
              "      <td>0</td>\n",
              "      <td>0</td>\n",
              "      <td>0</td>\n",
              "      <td>0</td>\n",
              "      <td>0</td>\n",
              "      <td>0</td>\n",
              "      <td>0</td>\n",
              "      <td>0</td>\n",
              "      <td>0</td>\n",
              "      <td>0</td>\n",
              "      <td>0</td>\n",
              "      <td>0</td>\n",
              "      <td>0</td>\n",
              "      <td>0</td>\n",
              "      <td>0</td>\n",
              "      <td>0</td>\n",
              "      <td>0</td>\n",
              "      <td>0</td>\n",
              "      <td>0</td>\n",
              "      <td>0</td>\n",
              "    </tr>\n",
              "    <tr>\n",
              "      <th>1</th>\n",
              "      <td>525.000000</td>\n",
              "      <td>0.0</td>\n",
              "      <td>0.0</td>\n",
              "      <td>168.000000</td>\n",
              "      <td>2.000000</td>\n",
              "      <td>353.52</td>\n",
              "      <td>0.0</td>\n",
              "      <td>4764966.0</td>\n",
              "      <td>0.0</td>\n",
              "      <td>5.408032</td>\n",
              "      <td>9.0</td>\n",
              "      <td>0.0</td>\n",
              "      <td>2872928.0</td>\n",
              "      <td>3.0</td>\n",
              "      <td>151098.900000</td>\n",
              "      <td>25.0</td>\n",
              "      <td>2.0</td>\n",
              "      <td>40.0</td>\n",
              "      <td>-356411.60</td>\n",
              "      <td>590.000000</td>\n",
              "      <td>0.0</td>\n",
              "      <td>-0.241539</td>\n",
              "      <td>8.0</td>\n",
              "      <td>4136430.0</td>\n",
              "      <td>357038.0</td>\n",
              "      <td>0.0</td>\n",
              "      <td>0.0</td>\n",
              "      <td>9.000000</td>\n",
              "      <td>278334.000000</td>\n",
              "      <td>10439160.0</td>\n",
              "      <td>238572.0</td>\n",
              "      <td>0.0</td>\n",
              "      <td>0.0</td>\n",
              "      <td>0</td>\n",
              "      <td>0</td>\n",
              "      <td>0</td>\n",
              "      <td>0</td>\n",
              "      <td>0</td>\n",
              "      <td>0</td>\n",
              "      <td>0</td>\n",
              "      <td>...</td>\n",
              "      <td>0</td>\n",
              "      <td>0</td>\n",
              "      <td>0</td>\n",
              "      <td>0</td>\n",
              "      <td>0</td>\n",
              "      <td>0</td>\n",
              "      <td>0</td>\n",
              "      <td>1</td>\n",
              "      <td>0</td>\n",
              "      <td>0</td>\n",
              "      <td>0</td>\n",
              "      <td>0</td>\n",
              "      <td>0</td>\n",
              "      <td>0</td>\n",
              "      <td>0</td>\n",
              "      <td>0</td>\n",
              "      <td>0</td>\n",
              "      <td>0</td>\n",
              "      <td>1</td>\n",
              "      <td>0</td>\n",
              "      <td>0</td>\n",
              "      <td>0</td>\n",
              "      <td>0</td>\n",
              "      <td>0</td>\n",
              "      <td>0</td>\n",
              "      <td>0</td>\n",
              "      <td>0</td>\n",
              "      <td>0</td>\n",
              "      <td>0</td>\n",
              "      <td>0</td>\n",
              "      <td>0</td>\n",
              "      <td>0</td>\n",
              "      <td>0</td>\n",
              "      <td>0</td>\n",
              "      <td>0</td>\n",
              "      <td>0</td>\n",
              "      <td>0</td>\n",
              "      <td>0</td>\n",
              "      <td>1</td>\n",
              "      <td>0</td>\n",
              "    </tr>\n",
              "    <tr>\n",
              "      <th>2</th>\n",
              "      <td>5236.000000</td>\n",
              "      <td>7.0</td>\n",
              "      <td>904.0</td>\n",
              "      <td>1212.000000</td>\n",
              "      <td>26.000000</td>\n",
              "      <td>220.08</td>\n",
              "      <td>0.0</td>\n",
              "      <td>5883894.0</td>\n",
              "      <td>0.0</td>\n",
              "      <td>6.599658</td>\n",
              "      <td>9.0</td>\n",
              "      <td>518.0</td>\n",
              "      <td>1675776.0</td>\n",
              "      <td>0.0</td>\n",
              "      <td>16211.580000</td>\n",
              "      <td>40.0</td>\n",
              "      <td>58.0</td>\n",
              "      <td>336.0</td>\n",
              "      <td>405104.00</td>\n",
              "      <td>3230.000000</td>\n",
              "      <td>5967.0</td>\n",
              "      <td>-28.000000</td>\n",
              "      <td>0.0</td>\n",
              "      <td>3478905.0</td>\n",
              "      <td>248932.0</td>\n",
              "      <td>800.0</td>\n",
              "      <td>0.0</td>\n",
              "      <td>36.000000</td>\n",
              "      <td>320565.000000</td>\n",
              "      <td>9826360.0</td>\n",
              "      <td>434946.0</td>\n",
              "      <td>0.0</td>\n",
              "      <td>0.0</td>\n",
              "      <td>0</td>\n",
              "      <td>0</td>\n",
              "      <td>0</td>\n",
              "      <td>0</td>\n",
              "      <td>1</td>\n",
              "      <td>0</td>\n",
              "      <td>0</td>\n",
              "      <td>...</td>\n",
              "      <td>0</td>\n",
              "      <td>0</td>\n",
              "      <td>0</td>\n",
              "      <td>0</td>\n",
              "      <td>0</td>\n",
              "      <td>1</td>\n",
              "      <td>0</td>\n",
              "      <td>0</td>\n",
              "      <td>0</td>\n",
              "      <td>0</td>\n",
              "      <td>0</td>\n",
              "      <td>0</td>\n",
              "      <td>0</td>\n",
              "      <td>0</td>\n",
              "      <td>0</td>\n",
              "      <td>0</td>\n",
              "      <td>0</td>\n",
              "      <td>0</td>\n",
              "      <td>0</td>\n",
              "      <td>0</td>\n",
              "      <td>0</td>\n",
              "      <td>0</td>\n",
              "      <td>0</td>\n",
              "      <td>0</td>\n",
              "      <td>0</td>\n",
              "      <td>0</td>\n",
              "      <td>0</td>\n",
              "      <td>0</td>\n",
              "      <td>0</td>\n",
              "      <td>0</td>\n",
              "      <td>0</td>\n",
              "      <td>0</td>\n",
              "      <td>0</td>\n",
              "      <td>1</td>\n",
              "      <td>0</td>\n",
              "      <td>0</td>\n",
              "      <td>0</td>\n",
              "      <td>0</td>\n",
              "      <td>0</td>\n",
              "      <td>0</td>\n",
              "    </tr>\n",
              "    <tr>\n",
              "      <th>3</th>\n",
              "      <td>1390.772846</td>\n",
              "      <td>0.0</td>\n",
              "      <td>0.0</td>\n",
              "      <td>237.688922</td>\n",
              "      <td>4.586656</td>\n",
              "      <td>22.08</td>\n",
              "      <td>0.0</td>\n",
              "      <td>0.0</td>\n",
              "      <td>0.0</td>\n",
              "      <td>1.988250</td>\n",
              "      <td>9.0</td>\n",
              "      <td>0.0</td>\n",
              "      <td>0.0</td>\n",
              "      <td>0.0</td>\n",
              "      <td>102342.502899</td>\n",
              "      <td>0.0</td>\n",
              "      <td>0.0</td>\n",
              "      <td>0.0</td>\n",
              "      <td>-275703.60</td>\n",
              "      <td>955.752518</td>\n",
              "      <td>0.0</td>\n",
              "      <td>-14.000000</td>\n",
              "      <td>0.0</td>\n",
              "      <td>0.0</td>\n",
              "      <td>0.0</td>\n",
              "      <td>0.0</td>\n",
              "      <td>0.0</td>\n",
              "      <td>11.552965</td>\n",
              "      <td>286174.983268</td>\n",
              "      <td>0.0</td>\n",
              "      <td>0.0</td>\n",
              "      <td>0.0</td>\n",
              "      <td>0.0</td>\n",
              "      <td>0</td>\n",
              "      <td>0</td>\n",
              "      <td>0</td>\n",
              "      <td>0</td>\n",
              "      <td>0</td>\n",
              "      <td>0</td>\n",
              "      <td>0</td>\n",
              "      <td>...</td>\n",
              "      <td>0</td>\n",
              "      <td>0</td>\n",
              "      <td>0</td>\n",
              "      <td>0</td>\n",
              "      <td>0</td>\n",
              "      <td>0</td>\n",
              "      <td>0</td>\n",
              "      <td>1</td>\n",
              "      <td>0</td>\n",
              "      <td>0</td>\n",
              "      <td>0</td>\n",
              "      <td>0</td>\n",
              "      <td>0</td>\n",
              "      <td>0</td>\n",
              "      <td>0</td>\n",
              "      <td>0</td>\n",
              "      <td>0</td>\n",
              "      <td>0</td>\n",
              "      <td>1</td>\n",
              "      <td>0</td>\n",
              "      <td>0</td>\n",
              "      <td>0</td>\n",
              "      <td>0</td>\n",
              "      <td>0</td>\n",
              "      <td>0</td>\n",
              "      <td>0</td>\n",
              "      <td>0</td>\n",
              "      <td>0</td>\n",
              "      <td>0</td>\n",
              "      <td>0</td>\n",
              "      <td>0</td>\n",
              "      <td>0</td>\n",
              "      <td>0</td>\n",
              "      <td>0</td>\n",
              "      <td>0</td>\n",
              "      <td>0</td>\n",
              "      <td>0</td>\n",
              "      <td>0</td>\n",
              "      <td>0</td>\n",
              "      <td>0</td>\n",
              "    </tr>\n",
              "    <tr>\n",
              "      <th>4</th>\n",
              "      <td>1029.000000</td>\n",
              "      <td>7.0</td>\n",
              "      <td>3216.0</td>\n",
              "      <td>64.000000</td>\n",
              "      <td>4.000000</td>\n",
              "      <td>200.00</td>\n",
              "      <td>0.0</td>\n",
              "      <td>0.0</td>\n",
              "      <td>0.0</td>\n",
              "      <td>4.552446</td>\n",
              "      <td>18.0</td>\n",
              "      <td>224.0</td>\n",
              "      <td>784448.0</td>\n",
              "      <td>0.0</td>\n",
              "      <td>37423.500000</td>\n",
              "      <td>0.0</td>\n",
              "      <td>0.0</td>\n",
              "      <td>56.0</td>\n",
              "      <td>10714.84</td>\n",
              "      <td>215.000000</td>\n",
              "      <td>15111.0</td>\n",
              "      <td>58.000000</td>\n",
              "      <td>0.0</td>\n",
              "      <td>150650.0</td>\n",
              "      <td>66046.0</td>\n",
              "      <td>3255.0</td>\n",
              "      <td>0.0</td>\n",
              "      <td>9.000000</td>\n",
              "      <td>267162.000000</td>\n",
              "      <td>644836.0</td>\n",
              "      <td>0.0</td>\n",
              "      <td>0.0</td>\n",
              "      <td>0.0</td>\n",
              "      <td>0</td>\n",
              "      <td>0</td>\n",
              "      <td>0</td>\n",
              "      <td>0</td>\n",
              "      <td>0</td>\n",
              "      <td>0</td>\n",
              "      <td>0</td>\n",
              "      <td>...</td>\n",
              "      <td>0</td>\n",
              "      <td>0</td>\n",
              "      <td>0</td>\n",
              "      <td>0</td>\n",
              "      <td>0</td>\n",
              "      <td>0</td>\n",
              "      <td>0</td>\n",
              "      <td>1</td>\n",
              "      <td>0</td>\n",
              "      <td>0</td>\n",
              "      <td>0</td>\n",
              "      <td>0</td>\n",
              "      <td>0</td>\n",
              "      <td>0</td>\n",
              "      <td>0</td>\n",
              "      <td>0</td>\n",
              "      <td>0</td>\n",
              "      <td>0</td>\n",
              "      <td>1</td>\n",
              "      <td>0</td>\n",
              "      <td>0</td>\n",
              "      <td>0</td>\n",
              "      <td>0</td>\n",
              "      <td>0</td>\n",
              "      <td>0</td>\n",
              "      <td>0</td>\n",
              "      <td>0</td>\n",
              "      <td>0</td>\n",
              "      <td>0</td>\n",
              "      <td>0</td>\n",
              "      <td>0</td>\n",
              "      <td>0</td>\n",
              "      <td>0</td>\n",
              "      <td>0</td>\n",
              "      <td>0</td>\n",
              "      <td>0</td>\n",
              "      <td>0</td>\n",
              "      <td>0</td>\n",
              "      <td>0</td>\n",
              "      <td>0</td>\n",
              "    </tr>\n",
              "  </tbody>\n",
              "</table>\n",
              "<p>5 rows × 286 columns</p>\n",
              "</div>"
            ],
            "text/plain": [
              "          Var6  Var7   Var13  ...  appetency_labels  churn_labels  upselling_labels\n",
              "0  1526.000000   7.0   184.0  ...                 0             0                 0\n",
              "1   525.000000   0.0     0.0  ...                 0             1                 0\n",
              "2  5236.000000   7.0   904.0  ...                 0             0                 0\n",
              "3  1390.772846   0.0     0.0  ...                 0             0                 0\n",
              "4  1029.000000   7.0  3216.0  ...                 0             0                 0\n",
              "\n",
              "[5 rows x 286 columns]"
            ]
          },
          "metadata": {
            "tags": []
          },
          "execution_count": 53
        }
      ]
    },
    {
      "cell_type": "markdown",
      "metadata": {
        "id": "3I9VsQ7SlGuK"
      },
      "source": [
        "# Base Models for churn using Logistic regression"
      ]
    },
    {
      "cell_type": "code",
      "metadata": {
        "id": "cNQORtYQpIX3"
      },
      "source": [
        "# your code here \n",
        "s1 = x_train[y_train_churn==0]\n",
        "s2 = x_train[y_train_churn==1]\n",
        "m1 = s1.mean()\n",
        "m2 = s2.mean()\n",
        "std1 = s1.std()\n",
        "std2 = s2.std()\n",
        "n1 = len(s1)\n",
        "n2 = len(s2)"
      ],
      "execution_count": 99,
      "outputs": []
    },
    {
      "cell_type": "code",
      "metadata": {
        "id": "cqdIdkYypY3o"
      },
      "source": [
        "t_stats = np.abs(m1-m2)/np.sqrt((std1**2/n1) + (std2**2/n2))"
      ],
      "execution_count": 100,
      "outputs": []
    },
    {
      "cell_type": "code",
      "metadata": {
        "id": "olZ518rupd_O"
      },
      "source": [
        "t_stats =  abs(t_stats).sort_values(ascending = False)"
      ],
      "execution_count": 101,
      "outputs": []
    },
    {
      "cell_type": "code",
      "metadata": {
        "id": "N9tbfk9ApnBs"
      },
      "source": [
        "top15 = t_stats.index[:15]"
      ],
      "execution_count": 102,
      "outputs": []
    },
    {
      "cell_type": "code",
      "metadata": {
        "colab": {
          "base_uri": "https://localhost:8080/"
        },
        "id": "rZtF4mk1pnbv",
        "outputId": "1cd1044a-4a56-47a5-b974-fe960b97a601"
      },
      "source": [
        "print(\"The top 15 best predictors are\", list(top15), sep = \"\\t\")"
      ],
      "execution_count": 103,
      "outputs": [
        {
          "output_type": "stream",
          "text": [
            "The top 15 best predictors are\t['Var65', 'Var7', 'Var74', 'Var140', 'Var13', 'Var44', 'Var113', 'Var144', 'Var76', 'Var126', 'Var81', 'Var119', 'Var24', 'Var21', 'Var78']\n"
          ],
          "name": "stdout"
        }
      ]
    },
    {
      "cell_type": "code",
      "metadata": {
        "id": "F-Lcm0Qopv9M"
      },
      "source": [
        "x_train_new = x_train[list(top15)]\n",
        "x_val_new = x_val[list(top15)]"
      ],
      "execution_count": 104,
      "outputs": []
    },
    {
      "cell_type": "code",
      "metadata": {
        "id": "02VD11izOefE"
      },
      "source": [
        "y_train_churn = y_train['churn_labels']"
      ],
      "execution_count": 105,
      "outputs": []
    },
    {
      "cell_type": "code",
      "metadata": {
        "id": "9tHQjZDMO48Q"
      },
      "source": [
        "y_val_churn = y_val['churn_labels']"
      ],
      "execution_count": 106,
      "outputs": []
    },
    {
      "cell_type": "code",
      "metadata": {
        "colab": {
          "base_uri": "https://localhost:8080/"
        },
        "id": "fjMYeZA_qKEG",
        "outputId": "18a490aa-48b2-43ac-d8b8-4a4f53ed18e1"
      },
      "source": [
        "lreg_churn = LogisticRegression(random_state = 21)\n",
        "lreg_churn.fit(x_train_new,y_train_churn)"
      ],
      "execution_count": 107,
      "outputs": [
        {
          "output_type": "execute_result",
          "data": {
            "text/plain": [
              "LogisticRegression(C=1.0, class_weight=None, dual=False, fit_intercept=True,\n",
              "                   intercept_scaling=1, l1_ratio=None, max_iter=100,\n",
              "                   multi_class='auto', n_jobs=None, penalty='l2',\n",
              "                   random_state=21, solver='lbfgs', tol=0.0001, verbose=0,\n",
              "                   warm_start=False)"
            ]
          },
          "metadata": {
            "tags": []
          },
          "execution_count": 107
        }
      ]
    },
    {
      "cell_type": "code",
      "metadata": {
        "id": "olV1UgPMqTL1"
      },
      "source": [
        "y_train_pred_churn = lreg_churn.predict(x_train_new)\n",
        "y_val_pred_churn = lreg_churn.predict(x_val_new)"
      ],
      "execution_count": 108,
      "outputs": []
    },
    {
      "cell_type": "code",
      "metadata": {
        "id": "JAOOKrEdFnOI"
      },
      "source": [
        "lreg_churn_probs = lreg_churn.predict_proba(x_val_new)\n",
        "lreg_churn_probs = lreg_churn_probs[:, 1]"
      ],
      "execution_count": 109,
      "outputs": []
    },
    {
      "cell_type": "code",
      "metadata": {
        "id": "Ng88XKBlFwCd"
      },
      "source": [
        "lr_auc_churn = roc_auc_score(y_val_churn, lreg_churn_probs)"
      ],
      "execution_count": 110,
      "outputs": []
    },
    {
      "cell_type": "code",
      "metadata": {
        "colab": {
          "base_uri": "https://localhost:8080/"
        },
        "id": "7xesZ2wtF0TU",
        "outputId": "2ca96c70-bc69-4ea8-a193-24f6a0942ca9"
      },
      "source": [
        "print('Logistic: ROC AUC=%.3f' % (lr_auc_churn))"
      ],
      "execution_count": 111,
      "outputs": [
        {
          "output_type": "stream",
          "text": [
            "Logistic: ROC AUC=0.537\n"
          ],
          "name": "stdout"
        }
      ]
    },
    {
      "cell_type": "code",
      "metadata": {
        "colab": {
          "base_uri": "https://localhost:8080/"
        },
        "id": "ARfcr4zDqWQl",
        "outputId": "525221d0-9a91-43bf-954a-a0911bf5a524"
      },
      "source": [
        "train_accuracy = accuracy_score(y_train_churn, y_train_pred_churn)\n",
        "validation_accuracy = accuracy_score(y_val_churn, y_val_pred_churn)\n",
        "print(\"Train Accuracy\", np.round(train_accuracy,3))\n",
        "print(\"Validation Accuracy\", np.round(validation_accuracy,3))"
      ],
      "execution_count": 112,
      "outputs": [
        {
          "output_type": "stream",
          "text": [
            "Train Accuracy 0.926\n",
            "Validation Accuracy 0.922\n"
          ],
          "name": "stdout"
        }
      ]
    },
    {
      "cell_type": "code",
      "metadata": {
        "id": "HI_OXN3lqhTt"
      },
      "source": [
        "conf_matrix = confusion_matrix(y_val_churn, y_val_pred_churn)"
      ],
      "execution_count": 113,
      "outputs": []
    },
    {
      "cell_type": "code",
      "metadata": {
        "colab": {
          "base_uri": "https://localhost:8080/",
          "height": 295
        },
        "id": "M4NGHK9Br5z5",
        "outputId": "2194de18-0bd1-412a-f097-405722a84a18"
      },
      "source": [
        "plt.figure(figsize=(4, 4))\n",
        "sns.heatmap(conf_matrix,  annot=True,fmt=\"d\")\n",
        "plt.title(\"Confusion matrix\")\n",
        "plt.ylabel('True class')\n",
        "plt.xlabel('Predicted class')\n",
        "plt.show()"
      ],
      "execution_count": 114,
      "outputs": [
        {
          "output_type": "display_data",
          "data": {
            "image/png": "[encoded data removed]",
            "text/plain": [
              "<Figure size 288x288 with 2 Axes>"
            ]
          },
          "metadata": {
            "tags": [],
            "needs_background": "light"
          }
        }
      ]
    },
    {
      "cell_type": "code",
      "metadata": {
        "id": "sWN8YvBvr9yB"
      },
      "source": [
        "tn, fp, fn, tp = confusion_matrix(y_val_churn, y_val_pred_churn).ravel()"
      ],
      "execution_count": 115,
      "outputs": []
    },
    {
      "cell_type": "code",
      "metadata": {
        "id": "vsPQxhxYsL5B"
      },
      "source": [
        "recall_churn = tp/(tp + fn)"
      ],
      "execution_count": 116,
      "outputs": []
    },
    {
      "cell_type": "code",
      "metadata": {
        "id": "TdE7KevIsQfj"
      },
      "source": [
        "FNR_value = 1 - recall_churn"
      ],
      "execution_count": 117,
      "outputs": []
    },
    {
      "cell_type": "code",
      "metadata": {
        "colab": {
          "base_uri": "https://localhost:8080/"
        },
        "id": "AqUE3OR9sVk8",
        "outputId": "c16f26d8-e5c7-424f-d480-5debf55cccf5"
      },
      "source": [
        "FNR_value"
      ],
      "execution_count": 118,
      "outputs": [
        {
          "output_type": "execute_result",
          "data": {
            "text/plain": [
              "0.989010989010989"
            ]
          },
          "metadata": {
            "tags": []
          },
          "execution_count": 118
        }
      ]
    },
    {
      "cell_type": "code",
      "metadata": {
        "colab": {
          "base_uri": "https://localhost:8080/"
        },
        "id": "nZ7hcZUCsaDH",
        "outputId": "f003209e-b51d-47b0-b9fd-cfb1e8849be5"
      },
      "source": [
        "recall_churn"
      ],
      "execution_count": 119,
      "outputs": [
        {
          "output_type": "execute_result",
          "data": {
            "text/plain": [
              "0.01098901098901099"
            ]
          },
          "metadata": {
            "tags": []
          },
          "execution_count": 119
        }
      ]
    },
    {
      "cell_type": "code",
      "metadata": {
        "colab": {
          "base_uri": "https://localhost:8080/"
        },
        "id": "0zcX3rTaDetT",
        "outputId": "94687118-df5e-402a-ac18-d310ef9659a6"
      },
      "source": [
        "roc_auc_score(y_train_churn, y_train_pred_churn)"
      ],
      "execution_count": 120,
      "outputs": [
        {
          "output_type": "execute_result",
          "data": {
            "text/plain": [
              "0.5000075682989623"
            ]
          },
          "metadata": {
            "tags": []
          },
          "execution_count": 120
        }
      ]
    },
    {
      "cell_type": "code",
      "metadata": {
        "colab": {
          "base_uri": "https://localhost:8080/"
        },
        "id": "Js9u9klqI_o_",
        "outputId": "924a5b0a-6526-4011-d7f6-7840cb9dd072"
      },
      "source": [
        "f1_churn = f1_score(y_train_churn, y_train_pred_churn)\n",
        "print(\"f1 score is \", np.round(f1_churn,3))"
      ],
      "execution_count": 121,
      "outputs": [
        {
          "output_type": "stream",
          "text": [
            "f1 score is  0.006\n"
          ],
          "name": "stdout"
        }
      ]
    },
    {
      "cell_type": "markdown",
      "metadata": {
        "id": "dw3MbzTLJUQ-"
      },
      "source": [
        "# Base Model for Upselling"
      ]
    },
    {
      "cell_type": "code",
      "metadata": {
        "id": "fzepjEtaJWyK"
      },
      "source": [
        "x = kdd_data.drop(['appetency_labels', 'churn_labels', 'upselling_labels'], axis =1)\n",
        "y_ups = kdd_data['upselling_labels']\n",
        "x_train, x_val, y_train_ups, y_val_ups = train_test_split(x, y_ups, test_size=0.2, random_state=21)"
      ],
      "execution_count": 126,
      "outputs": []
    },
    {
      "cell_type": "code",
      "metadata": {
        "id": "LUfN-LnYJ80L"
      },
      "source": [
        "# your code here \n",
        "s1 = x_train[y_train_ups==0]\n",
        "s2 = x_train[y_train_ups==1]\n",
        "m1 = s1.mean()\n",
        "m2 = s2.mean()\n",
        "std1 = s1.std()\n",
        "std2 = s2.std()\n",
        "n1 = len(s1)\n",
        "n2 = len(s2)"
      ],
      "execution_count": 129,
      "outputs": []
    },
    {
      "cell_type": "code",
      "metadata": {
        "id": "CPtBgmSNKAh_"
      },
      "source": [
        "t_stats = np.abs(m1-m2)/np.sqrt((std1**2/n1) + (std2**2/n2))\n",
        "t_stats =  abs(t_stats).sort_values(ascending = False)"
      ],
      "execution_count": 130,
      "outputs": []
    },
    {
      "cell_type": "code",
      "metadata": {
        "id": "JrE1GOw9KDCn"
      },
      "source": [
        "best_pred = t_stats.index[0]\n",
        "top15 = t_stats.index[:15]"
      ],
      "execution_count": 131,
      "outputs": []
    },
    {
      "cell_type": "code",
      "metadata": {
        "colab": {
          "base_uri": "https://localhost:8080/"
        },
        "id": "zySYxrt1KGdN",
        "outputId": "f5cc17af-d6cc-437a-95c8-3d39b6a421ac"
      },
      "source": [
        "print(\"The top 15 best predictors are\", list(top15), sep = \"\\t\")"
      ],
      "execution_count": 132,
      "outputs": [
        {
          "output_type": "stream",
          "text": [
            "The top 15 best predictors are\t['Var28', 'Var126', 'Var113', 'Var81', 'Var153', 'Var38', 'Var133', 'Var85', 'Var144', 'Var134', 'Var35', 'Var24', 'Var112', 'Var76', 'Var7']\n"
          ],
          "name": "stdout"
        }
      ]
    },
    {
      "cell_type": "code",
      "metadata": {
        "id": "983mGidAKK7M"
      },
      "source": [
        "x_train_new = x_train[list(top15)]\n",
        "x_val_new = x_val[list(top15)]"
      ],
      "execution_count": 133,
      "outputs": []
    },
    {
      "cell_type": "code",
      "metadata": {
        "colab": {
          "base_uri": "https://localhost:8080/"
        },
        "id": "F6hMInvDLHpQ",
        "outputId": "f7ed701a-3295-42e3-c376-9b4eb8702c88"
      },
      "source": [
        "lreg_ups = LogisticRegression(random_state = 21)\n",
        "lreg_ups.fit(x_train_new,y_train_ups)"
      ],
      "execution_count": 134,
      "outputs": [
        {
          "output_type": "execute_result",
          "data": {
            "text/plain": [
              "LogisticRegression(C=1.0, class_weight=None, dual=False, fit_intercept=True,\n",
              "                   intercept_scaling=1, l1_ratio=None, max_iter=100,\n",
              "                   multi_class='auto', n_jobs=None, penalty='l2',\n",
              "                   random_state=21, solver='lbfgs', tol=0.0001, verbose=0,\n",
              "                   warm_start=False)"
            ]
          },
          "metadata": {
            "tags": []
          },
          "execution_count": 134
        }
      ]
    },
    {
      "cell_type": "code",
      "metadata": {
        "id": "gs47iYJeLLXB"
      },
      "source": [
        "y_train_pred_ups = lreg_ups.predict(x_train_new)\n",
        "y_val_pred_ups = lreg_ups.predict(x_val_new)"
      ],
      "execution_count": 135,
      "outputs": []
    },
    {
      "cell_type": "code",
      "metadata": {
        "colab": {
          "base_uri": "https://localhost:8080/"
        },
        "id": "wWlEX-cLLNRN",
        "outputId": "56e013e0-b336-4d99-b775-6bbfd6c47eac"
      },
      "source": [
        "train_accuracy = accuracy_score(y_train_ups, y_train_pred_ups)\n",
        "validation_accuracy = accuracy_score(y_val_ups, y_val_pred_ups)\n",
        "print(\"Train Accuracy\", np.round(train_accuracy,3))\n",
        "print(\"Validation Accuracy\", np.round(validation_accuracy,3))"
      ],
      "execution_count": 136,
      "outputs": [
        {
          "output_type": "stream",
          "text": [
            "Train Accuracy 0.921\n",
            "Validation Accuracy 0.914\n"
          ],
          "name": "stdout"
        }
      ]
    },
    {
      "cell_type": "code",
      "metadata": {
        "colab": {
          "base_uri": "https://localhost:8080/",
          "height": 295
        },
        "id": "2vj9xpidLPN5",
        "outputId": "cef4a5f5-d833-4039-bb46-6019361493e4"
      },
      "source": [
        "conf_matrix = confusion_matrix(y_val_ups, y_val_pred_ups)\n",
        "plt.figure(figsize=(4, 4))\n",
        "sns.heatmap(conf_matrix,  annot=True,fmt=\"d\")\n",
        "plt.title(\"Confusion matrix\")\n",
        "plt.ylabel('True class')\n",
        "plt.xlabel('Predicted class')\n",
        "plt.show()"
      ],
      "execution_count": 137,
      "outputs": [
        {
          "output_type": "display_data",
          "data": {
            "image/png": "[encoded data removed]",
            "text/plain": [
              "<Figure size 288x288 with 2 Axes>"
            ]
          },
          "metadata": {
            "tags": [],
            "needs_background": "light"
          }
        }
      ]
    },
    {
      "cell_type": "code",
      "metadata": {
        "id": "63u_hzmqLRrZ"
      },
      "source": [
        "# generate a no skill prediction (majority class)\n",
        "ns_ups_probs = [0] * len(x_val_new)\n",
        "\n",
        "# predict probabilities\n",
        "lreg_ups_probs = lreg_ups.predict_proba(x_val_new)\n",
        "# keep probabilities for the positive outcome only\n",
        "lreg_ups_probs = lreg_ups_probs[:, 1]\n",
        "# calculate scores\n",
        "ns_auc_ups = roc_auc_score(y_val_ups, ns_ups_probs)\n",
        "lr_auc_ups = roc_auc_score(y_val_ups, lreg_ups_probs)"
      ],
      "execution_count": 138,
      "outputs": []
    },
    {
      "cell_type": "code",
      "metadata": {
        "colab": {
          "base_uri": "https://localhost:8080/"
        },
        "id": "ncYZC5-pLVc4",
        "outputId": "f477e69f-c97b-46b7-841f-8cd0390c1d1c"
      },
      "source": [
        "print('No Skill: ROC AUC=%.3f' % (ns_auc_ups))\n",
        "print('Logistic: ROC AUC=%.3f' % (lr_auc_ups))"
      ],
      "execution_count": 139,
      "outputs": [
        {
          "output_type": "stream",
          "text": [
            "No Skill: ROC AUC=0.500\n",
            "Logistic: ROC AUC=0.595\n"
          ],
          "name": "stdout"
        }
      ]
    },
    {
      "cell_type": "code",
      "metadata": {
        "colab": {
          "base_uri": "https://localhost:8080/"
        },
        "id": "YFEuyXa6Lb1n",
        "outputId": "34b3ec56-f38b-421c-bec4-57544babb2b6"
      },
      "source": [
        "f1_ups = f1_score(y_train_ups, y_train_pred_ups)\n",
        "print(\"f1 score is \", np.round(f1_ups,3))"
      ],
      "execution_count": 140,
      "outputs": [
        {
          "output_type": "stream",
          "text": [
            "f1 score is  0.0\n"
          ],
          "name": "stdout"
        }
      ]
    },
    {
      "cell_type": "markdown",
      "metadata": {
        "id": "w6Lal7IvME3e"
      },
      "source": [
        "# Base Model appentency"
      ]
    },
    {
      "cell_type": "code",
      "metadata": {
        "id": "nDkCMBiKMGZ6"
      },
      "source": [
        "x = kdd_data.drop(['appetency_labels', 'churn_labels', 'upselling_labels'], axis =1)\n",
        "y_app = kdd_data['upselling_labels']\n",
        "x_train, x_val, y_train_app, y_val_app = train_test_split(x, y_app, test_size=0.2, random_state=21)"
      ],
      "execution_count": 141,
      "outputs": []
    },
    {
      "cell_type": "code",
      "metadata": {
        "id": "cQKYZInvMN5h"
      },
      "source": [
        "# your code here \n",
        "s1 = x_train[y_train_app==0]\n",
        "s2 = x_train[y_train_app==1]\n",
        "m1 = s1.mean()\n",
        "m2 = s2.mean()\n",
        "std1 = s1.std()\n",
        "std2 = s2.std()\n",
        "n1 = len(s1)\n",
        "n2 = len(s2)"
      ],
      "execution_count": 142,
      "outputs": []
    },
    {
      "cell_type": "code",
      "metadata": {
        "id": "2X1tD6zYMQES"
      },
      "source": [
        "t_stats = np.abs(m1-m2)/np.sqrt((std1**2/n1) + (std2**2/n2))\n",
        "t_stats =  abs(t_stats).sort_values(ascending = False)"
      ],
      "execution_count": 143,
      "outputs": []
    },
    {
      "cell_type": "code",
      "metadata": {
        "id": "XjD-eFmvMSQ6"
      },
      "source": [
        "best_pred = t_stats.index[0]\n",
        "top15 = t_stats.index[:15]"
      ],
      "execution_count": 144,
      "outputs": []
    },
    {
      "cell_type": "code",
      "metadata": {
        "colab": {
          "base_uri": "https://localhost:8080/"
        },
        "id": "ro4bmICvMV4l",
        "outputId": "86c76868-6558-47a8-883a-29206056ecaa"
      },
      "source": [
        "print(\"The top 15 best predictors are\", list(top15), sep = \"\\t\")"
      ],
      "execution_count": 145,
      "outputs": [
        {
          "output_type": "stream",
          "text": [
            "The top 15 best predictors are\t['Var28', 'Var126', 'Var113', 'Var81', 'Var153', 'Var38', 'Var133', 'Var85', 'Var144', 'Var134', 'Var35', 'Var24', 'Var112', 'Var76', 'Var7']\n"
          ],
          "name": "stdout"
        }
      ]
    },
    {
      "cell_type": "code",
      "metadata": {
        "id": "m7zVz2HCMX5V"
      },
      "source": [
        "x_train_new = x_train[list(top15)]\n",
        "x_val_new = x_val[list(top15)]"
      ],
      "execution_count": 146,
      "outputs": []
    },
    {
      "cell_type": "code",
      "metadata": {
        "colab": {
          "base_uri": "https://localhost:8080/"
        },
        "id": "7HMHDGVcMcJK",
        "outputId": "a0ab9c23-cd8f-4e46-f359-7fdfb2b2073b"
      },
      "source": [
        "lreg_app = LogisticRegression(random_state = 21)\n",
        "lreg_app.fit(x_train_new,y_train_app)"
      ],
      "execution_count": 147,
      "outputs": [
        {
          "output_type": "execute_result",
          "data": {
            "text/plain": [
              "LogisticRegression(C=1.0, class_weight=None, dual=False, fit_intercept=True,\n",
              "                   intercept_scaling=1, l1_ratio=None, max_iter=100,\n",
              "                   multi_class='auto', n_jobs=None, penalty='l2',\n",
              "                   random_state=21, solver='lbfgs', tol=0.0001, verbose=0,\n",
              "                   warm_start=False)"
            ]
          },
          "metadata": {
            "tags": []
          },
          "execution_count": 147
        }
      ]
    },
    {
      "cell_type": "code",
      "metadata": {
        "id": "H9vLo_mWMeHZ"
      },
      "source": [
        "y_train_pred_app = lreg_app.predict(x_train_new)\n",
        "y_val_pred_app = lreg_app.predict(x_val_new)"
      ],
      "execution_count": 148,
      "outputs": []
    },
    {
      "cell_type": "code",
      "metadata": {
        "colab": {
          "base_uri": "https://localhost:8080/"
        },
        "id": "_1INKDWXMgOn",
        "outputId": "ba4e9a56-5d06-4bc4-944e-28165520a8a8"
      },
      "source": [
        "train_accuracy = accuracy_score(y_train_app, y_train_pred_app)\n",
        "validation_accuracy = accuracy_score(y_val_app, y_val_pred_app)\n",
        "print(\"Train Accuracy\", np.round(train_accuracy,3))\n",
        "print(\"Validation Accuracy\", np.round(validation_accuracy,3))"
      ],
      "execution_count": 149,
      "outputs": [
        {
          "output_type": "stream",
          "text": [
            "Train Accuracy 0.921\n",
            "Validation Accuracy 0.914\n"
          ],
          "name": "stdout"
        }
      ]
    },
    {
      "cell_type": "code",
      "metadata": {
        "colab": {
          "base_uri": "https://localhost:8080/",
          "height": 295
        },
        "id": "Gq8xK4AmMiXB",
        "outputId": "23900e10-70bd-4d55-fbb5-62ce5d286e57"
      },
      "source": [
        "conf_matrix = confusion_matrix(y_val_app, y_val_pred_app)\n",
        "plt.figure(figsize=(4, 4))\n",
        "sns.heatmap(conf_matrix,  annot=True,fmt=\"d\")\n",
        "plt.title(\"Confusion matrix\")\n",
        "plt.ylabel('True class')\n",
        "plt.xlabel('Predicted class')\n",
        "plt.show()"
      ],
      "execution_count": 150,
      "outputs": [
        {
          "output_type": "display_data",
          "data": {
            "image/png": "[encoded data removed]",
            "text/plain": [
              "<Figure size 288x288 with 2 Axes>"
            ]
          },
          "metadata": {
            "tags": [],
            "needs_background": "light"
          }
        }
      ]
    },
    {
      "cell_type": "code",
      "metadata": {
        "id": "DIjesvG1MlUp"
      },
      "source": [
        "# generate a no skill prediction (majority class)\n",
        "ns_app_probs = [0] * len(x_val_new)\n",
        "\n",
        "# predict probabilities\n",
        "lreg_app_probs = lreg_app.predict_proba(x_val_new)\n",
        "# keep probabilities for the positive outcome only\n",
        "lreg_app_probs = lreg_app_probs[:, 1]\n",
        "\n",
        "# calculate scores\n",
        "ns_auc_app = roc_auc_score(y_val_app, ns_app_probs)\n",
        "lr_auc_app = roc_auc_score(y_val_app, lreg_app_probs)"
      ],
      "execution_count": 151,
      "outputs": []
    },
    {
      "cell_type": "code",
      "metadata": {
        "colab": {
          "base_uri": "https://localhost:8080/"
        },
        "id": "wJKMsRFBMndH",
        "outputId": "33806331-bd52-46e7-f7ac-209e84bc5e56"
      },
      "source": [
        "print('No Skill: ROC AUC=%.3f' % (ns_auc_app))\n",
        "print('Logistic: ROC AUC=%.3f' % (lr_auc_app))"
      ],
      "execution_count": 152,
      "outputs": [
        {
          "output_type": "stream",
          "text": [
            "No Skill: ROC AUC=0.500\n",
            "Logistic: ROC AUC=0.595\n"
          ],
          "name": "stdout"
        }
      ]
    },
    {
      "cell_type": "code",
      "metadata": {
        "colab": {
          "base_uri": "https://localhost:8080/"
        },
        "id": "petBtSnyMqZx",
        "outputId": "25c63352-d2f5-42f0-e887-c06c03471128"
      },
      "source": [
        "f1_app = f1_score(y_val_app, y_val_pred_app)\n",
        "print(\"f1 score is \", np.round(f1_app,3))"
      ],
      "execution_count": 153,
      "outputs": [
        {
          "output_type": "stream",
          "text": [
            "f1 score is  0.0\n"
          ],
          "name": "stdout"
        }
      ]
    },
    {
      "cell_type": "markdown",
      "metadata": {
        "id": "0GtfCK_aMtta"
      },
      "source": [
        "# Data to csv"
      ]
    },
    {
      "cell_type": "code",
      "metadata": {
        "id": "fEUhXn5WtQ1Z"
      },
      "source": [
        "kdd_preprocessed.to_csv('kdd_preprocessed.csv')"
      ],
      "execution_count": 156,
      "outputs": []
    },
    {
      "cell_type": "code",
      "metadata": {
        "colab": {
          "base_uri": "https://localhost:8080/",
          "height": 243
        },
        "id": "OwcAqVQVQQ09",
        "outputId": "333bf9af-d126-427d-ca51-5f6103562287"
      },
      "source": [
        "kdd_preprocessed.head()"
      ],
      "execution_count": 157,
      "outputs": [
        {
          "output_type": "execute_result",
          "data": {
            "text/html": [
              "<div>\n",
              "<style scoped>\n",
              "    .dataframe tbody tr th:only-of-type {\n",
              "        vertical-align: middle;\n",
              "    }\n",
              "\n",
              "    .dataframe tbody tr th {\n",
              "        vertical-align: top;\n",
              "    }\n",
              "\n",
              "    .dataframe thead th {\n",
              "        text-align: right;\n",
              "    }\n",
              "</style>\n",
              "<table border=\"1\" class=\"dataframe\">\n",
              "  <thead>\n",
              "    <tr style=\"text-align: right;\">\n",
              "      <th></th>\n",
              "      <th>Var6</th>\n",
              "      <th>Var7</th>\n",
              "      <th>Var13</th>\n",
              "      <th>Var21</th>\n",
              "      <th>Var24</th>\n",
              "      <th>Var28</th>\n",
              "      <th>Var35</th>\n",
              "      <th>Var38</th>\n",
              "      <th>Var44</th>\n",
              "      <th>Var57</th>\n",
              "      <th>Var65</th>\n",
              "      <th>Var74</th>\n",
              "      <th>Var76</th>\n",
              "      <th>Var78</th>\n",
              "      <th>Var81</th>\n",
              "      <th>Var83</th>\n",
              "      <th>Var85</th>\n",
              "      <th>Var112</th>\n",
              "      <th>Var113</th>\n",
              "      <th>Var119</th>\n",
              "      <th>Var125</th>\n",
              "      <th>Var126</th>\n",
              "      <th>Var132</th>\n",
              "      <th>Var133</th>\n",
              "      <th>Var134</th>\n",
              "      <th>Var140</th>\n",
              "      <th>Var143</th>\n",
              "      <th>Var144</th>\n",
              "      <th>Var149</th>\n",
              "      <th>Var153</th>\n",
              "      <th>Var163</th>\n",
              "      <th>Var173</th>\n",
              "      <th>Var181</th>\n",
              "      <th>Var193_2Knk1KF</th>\n",
              "      <th>Var193_2wnefc9ISdLjfQoAYBI</th>\n",
              "      <th>Var193_5QKIjwyXr4MCZTEp7uAkS8PtBLcn</th>\n",
              "      <th>Var193_9U2tunPAje3TwfLLUQxzM3dC1ghn</th>\n",
              "      <th>Var193_AERks4l</th>\n",
              "      <th>Var193_BrRu5UxtiQY9TTJ8ABKpfS</th>\n",
              "      <th>Var193_ByQdnLRlFnny2k4AJzG</th>\n",
              "      <th>...</th>\n",
              "      <th>Var226_szEZ</th>\n",
              "      <th>Var226_uWr3</th>\n",
              "      <th>Var226_wX53</th>\n",
              "      <th>Var226_w_Ub</th>\n",
              "      <th>Var226_xb3V</th>\n",
              "      <th>Var227_02N6s8f</th>\n",
              "      <th>Var227_6fzt</th>\n",
              "      <th>Var227_RAYp</th>\n",
              "      <th>Var227_ZI9m</th>\n",
              "      <th>Var227_nIGXDli</th>\n",
              "      <th>Var227_nIGjgSB</th>\n",
              "      <th>Var227_vJ_w8kB</th>\n",
              "      <th>Var228_0pzBWGkV3fbsGZN52DH</th>\n",
              "      <th>Var228_4rd_</th>\n",
              "      <th>Var228_55YFVY9</th>\n",
              "      <th>Var228_6nxx00q6gnIF8ePJ3P3AEfZ1N</th>\n",
              "      <th>Var228_DU8B</th>\n",
              "      <th>Var228_F2FcTt7IdMT_v</th>\n",
              "      <th>Var228_F2FyR07IdsN7I</th>\n",
              "      <th>Var228_JnGLH58smNxIYcGK39k</th>\n",
              "      <th>Var228_NoEd</th>\n",
              "      <th>Var228_R4y5gQQWY8OodqDV</th>\n",
              "      <th>Var228_RjBDiL8f9CQYc21fICscNNpj6</th>\n",
              "      <th>Var228_SbOd7O8ky1wGNxp0Arj0Xs</th>\n",
              "      <th>Var228_TCU50_Yjmm6GIBZ0lL_</th>\n",
              "      <th>Var228_VjDE</th>\n",
              "      <th>Var228_WfJ2BB2SFSqauljlfOB</th>\n",
              "      <th>Var228_WfJYmPMksSqa1pajvfG</th>\n",
              "      <th>Var228_ZeaF</th>\n",
              "      <th>Var228_Zy3gnGM</th>\n",
              "      <th>Var228_am14IcfM7tWLrUmRT52KtA</th>\n",
              "      <th>Var228_b9qbUNk0dML_Mvi2</th>\n",
              "      <th>Var228_d0LtHjWeaXyArdN4sxU_saXqH</th>\n",
              "      <th>Var228_ib5G6X1eUxUn6</th>\n",
              "      <th>Var228_iyHGyLCEkQ</th>\n",
              "      <th>Var228_r_7E</th>\n",
              "      <th>Var228_xwM2aC7IdeMC0</th>\n",
              "      <th>appetency_labels</th>\n",
              "      <th>churn_labels</th>\n",
              "      <th>upselling_labels</th>\n",
              "    </tr>\n",
              "  </thead>\n",
              "  <tbody>\n",
              "    <tr>\n",
              "      <th>0</th>\n",
              "      <td>1526.000000</td>\n",
              "      <td>7.0</td>\n",
              "      <td>184.0</td>\n",
              "      <td>464.000000</td>\n",
              "      <td>14.000000</td>\n",
              "      <td>166.56</td>\n",
              "      <td>0.0</td>\n",
              "      <td>3570.0</td>\n",
              "      <td>0.0</td>\n",
              "      <td>4.076907</td>\n",
              "      <td>9.0</td>\n",
              "      <td>35.0</td>\n",
              "      <td>1350864.0</td>\n",
              "      <td>0.0</td>\n",
              "      <td>7333.110000</td>\n",
              "      <td>5.0</td>\n",
              "      <td>12.0</td>\n",
              "      <td>168.0</td>\n",
              "      <td>117625.60</td>\n",
              "      <td>1175.000000</td>\n",
              "      <td>720.0</td>\n",
              "      <td>8.000000</td>\n",
              "      <td>0.0</td>\n",
              "      <td>1212385.0</td>\n",
              "      <td>69134.0</td>\n",
              "      <td>185.0</td>\n",
              "      <td>0.0</td>\n",
              "      <td>9.000000</td>\n",
              "      <td>397579.000000</td>\n",
              "      <td>1812252.0</td>\n",
              "      <td>38418.0</td>\n",
              "      <td>0.0</td>\n",
              "      <td>0.0</td>\n",
              "      <td>0</td>\n",
              "      <td>0</td>\n",
              "      <td>0</td>\n",
              "      <td>0</td>\n",
              "      <td>0</td>\n",
              "      <td>0</td>\n",
              "      <td>0</td>\n",
              "      <td>...</td>\n",
              "      <td>0</td>\n",
              "      <td>0</td>\n",
              "      <td>0</td>\n",
              "      <td>0</td>\n",
              "      <td>1</td>\n",
              "      <td>0</td>\n",
              "      <td>0</td>\n",
              "      <td>1</td>\n",
              "      <td>0</td>\n",
              "      <td>0</td>\n",
              "      <td>0</td>\n",
              "      <td>0</td>\n",
              "      <td>0</td>\n",
              "      <td>0</td>\n",
              "      <td>0</td>\n",
              "      <td>0</td>\n",
              "      <td>0</td>\n",
              "      <td>0</td>\n",
              "      <td>1</td>\n",
              "      <td>0</td>\n",
              "      <td>0</td>\n",
              "      <td>0</td>\n",
              "      <td>0</td>\n",
              "      <td>0</td>\n",
              "      <td>0</td>\n",
              "      <td>0</td>\n",
              "      <td>0</td>\n",
              "      <td>0</td>\n",
              "      <td>0</td>\n",
              "      <td>0</td>\n",
              "      <td>0</td>\n",
              "      <td>0</td>\n",
              "      <td>0</td>\n",
              "      <td>0</td>\n",
              "      <td>0</td>\n",
              "      <td>0</td>\n",
              "      <td>0</td>\n",
              "      <td>0</td>\n",
              "      <td>0</td>\n",
              "      <td>0</td>\n",
              "    </tr>\n",
              "    <tr>\n",
              "      <th>1</th>\n",
              "      <td>525.000000</td>\n",
              "      <td>0.0</td>\n",
              "      <td>0.0</td>\n",
              "      <td>168.000000</td>\n",
              "      <td>2.000000</td>\n",
              "      <td>353.52</td>\n",
              "      <td>0.0</td>\n",
              "      <td>4764966.0</td>\n",
              "      <td>0.0</td>\n",
              "      <td>5.408032</td>\n",
              "      <td>9.0</td>\n",
              "      <td>0.0</td>\n",
              "      <td>2872928.0</td>\n",
              "      <td>3.0</td>\n",
              "      <td>151098.900000</td>\n",
              "      <td>25.0</td>\n",
              "      <td>2.0</td>\n",
              "      <td>40.0</td>\n",
              "      <td>-356411.60</td>\n",
              "      <td>590.000000</td>\n",
              "      <td>0.0</td>\n",
              "      <td>-0.241539</td>\n",
              "      <td>8.0</td>\n",
              "      <td>4136430.0</td>\n",
              "      <td>357038.0</td>\n",
              "      <td>0.0</td>\n",
              "      <td>0.0</td>\n",
              "      <td>9.000000</td>\n",
              "      <td>278334.000000</td>\n",
              "      <td>10439160.0</td>\n",
              "      <td>238572.0</td>\n",
              "      <td>0.0</td>\n",
              "      <td>0.0</td>\n",
              "      <td>0</td>\n",
              "      <td>0</td>\n",
              "      <td>0</td>\n",
              "      <td>0</td>\n",
              "      <td>0</td>\n",
              "      <td>0</td>\n",
              "      <td>0</td>\n",
              "      <td>...</td>\n",
              "      <td>0</td>\n",
              "      <td>0</td>\n",
              "      <td>0</td>\n",
              "      <td>0</td>\n",
              "      <td>0</td>\n",
              "      <td>0</td>\n",
              "      <td>0</td>\n",
              "      <td>1</td>\n",
              "      <td>0</td>\n",
              "      <td>0</td>\n",
              "      <td>0</td>\n",
              "      <td>0</td>\n",
              "      <td>0</td>\n",
              "      <td>0</td>\n",
              "      <td>0</td>\n",
              "      <td>0</td>\n",
              "      <td>0</td>\n",
              "      <td>0</td>\n",
              "      <td>1</td>\n",
              "      <td>0</td>\n",
              "      <td>0</td>\n",
              "      <td>0</td>\n",
              "      <td>0</td>\n",
              "      <td>0</td>\n",
              "      <td>0</td>\n",
              "      <td>0</td>\n",
              "      <td>0</td>\n",
              "      <td>0</td>\n",
              "      <td>0</td>\n",
              "      <td>0</td>\n",
              "      <td>0</td>\n",
              "      <td>0</td>\n",
              "      <td>0</td>\n",
              "      <td>0</td>\n",
              "      <td>0</td>\n",
              "      <td>0</td>\n",
              "      <td>0</td>\n",
              "      <td>0</td>\n",
              "      <td>1</td>\n",
              "      <td>0</td>\n",
              "    </tr>\n",
              "    <tr>\n",
              "      <th>2</th>\n",
              "      <td>5236.000000</td>\n",
              "      <td>7.0</td>\n",
              "      <td>904.0</td>\n",
              "      <td>1212.000000</td>\n",
              "      <td>26.000000</td>\n",
              "      <td>220.08</td>\n",
              "      <td>0.0</td>\n",
              "      <td>5883894.0</td>\n",
              "      <td>0.0</td>\n",
              "      <td>6.599658</td>\n",
              "      <td>9.0</td>\n",
              "      <td>518.0</td>\n",
              "      <td>1675776.0</td>\n",
              "      <td>0.0</td>\n",
              "      <td>16211.580000</td>\n",
              "      <td>40.0</td>\n",
              "      <td>58.0</td>\n",
              "      <td>336.0</td>\n",
              "      <td>405104.00</td>\n",
              "      <td>3230.000000</td>\n",
              "      <td>5967.0</td>\n",
              "      <td>-28.000000</td>\n",
              "      <td>0.0</td>\n",
              "      <td>3478905.0</td>\n",
              "      <td>248932.0</td>\n",
              "      <td>800.0</td>\n",
              "      <td>0.0</td>\n",
              "      <td>36.000000</td>\n",
              "      <td>320565.000000</td>\n",
              "      <td>9826360.0</td>\n",
              "      <td>434946.0</td>\n",
              "      <td>0.0</td>\n",
              "      <td>0.0</td>\n",
              "      <td>0</td>\n",
              "      <td>0</td>\n",
              "      <td>0</td>\n",
              "      <td>0</td>\n",
              "      <td>1</td>\n",
              "      <td>0</td>\n",
              "      <td>0</td>\n",
              "      <td>...</td>\n",
              "      <td>0</td>\n",
              "      <td>0</td>\n",
              "      <td>0</td>\n",
              "      <td>0</td>\n",
              "      <td>0</td>\n",
              "      <td>1</td>\n",
              "      <td>0</td>\n",
              "      <td>0</td>\n",
              "      <td>0</td>\n",
              "      <td>0</td>\n",
              "      <td>0</td>\n",
              "      <td>0</td>\n",
              "      <td>0</td>\n",
              "      <td>0</td>\n",
              "      <td>0</td>\n",
              "      <td>0</td>\n",
              "      <td>0</td>\n",
              "      <td>0</td>\n",
              "      <td>0</td>\n",
              "      <td>0</td>\n",
              "      <td>0</td>\n",
              "      <td>0</td>\n",
              "      <td>0</td>\n",
              "      <td>0</td>\n",
              "      <td>0</td>\n",
              "      <td>0</td>\n",
              "      <td>0</td>\n",
              "      <td>0</td>\n",
              "      <td>0</td>\n",
              "      <td>0</td>\n",
              "      <td>0</td>\n",
              "      <td>0</td>\n",
              "      <td>0</td>\n",
              "      <td>1</td>\n",
              "      <td>0</td>\n",
              "      <td>0</td>\n",
              "      <td>0</td>\n",
              "      <td>0</td>\n",
              "      <td>0</td>\n",
              "      <td>0</td>\n",
              "    </tr>\n",
              "    <tr>\n",
              "      <th>3</th>\n",
              "      <td>1390.772846</td>\n",
              "      <td>0.0</td>\n",
              "      <td>0.0</td>\n",
              "      <td>237.688922</td>\n",
              "      <td>4.586656</td>\n",
              "      <td>22.08</td>\n",
              "      <td>0.0</td>\n",
              "      <td>0.0</td>\n",
              "      <td>0.0</td>\n",
              "      <td>1.988250</td>\n",
              "      <td>9.0</td>\n",
              "      <td>0.0</td>\n",
              "      <td>0.0</td>\n",
              "      <td>0.0</td>\n",
              "      <td>102342.502899</td>\n",
              "      <td>0.0</td>\n",
              "      <td>0.0</td>\n",
              "      <td>0.0</td>\n",
              "      <td>-275703.60</td>\n",
              "      <td>955.752518</td>\n",
              "      <td>0.0</td>\n",
              "      <td>-14.000000</td>\n",
              "      <td>0.0</td>\n",
              "      <td>0.0</td>\n",
              "      <td>0.0</td>\n",
              "      <td>0.0</td>\n",
              "      <td>0.0</td>\n",
              "      <td>11.552965</td>\n",
              "      <td>286174.983268</td>\n",
              "      <td>0.0</td>\n",
              "      <td>0.0</td>\n",
              "      <td>0.0</td>\n",
              "      <td>0.0</td>\n",
              "      <td>0</td>\n",
              "      <td>0</td>\n",
              "      <td>0</td>\n",
              "      <td>0</td>\n",
              "      <td>0</td>\n",
              "      <td>0</td>\n",
              "      <td>0</td>\n",
              "      <td>...</td>\n",
              "      <td>0</td>\n",
              "      <td>0</td>\n",
              "      <td>0</td>\n",
              "      <td>0</td>\n",
              "      <td>0</td>\n",
              "      <td>0</td>\n",
              "      <td>0</td>\n",
              "      <td>1</td>\n",
              "      <td>0</td>\n",
              "      <td>0</td>\n",
              "      <td>0</td>\n",
              "      <td>0</td>\n",
              "      <td>0</td>\n",
              "      <td>0</td>\n",
              "      <td>0</td>\n",
              "      <td>0</td>\n",
              "      <td>0</td>\n",
              "      <td>0</td>\n",
              "      <td>1</td>\n",
              "      <td>0</td>\n",
              "      <td>0</td>\n",
              "      <td>0</td>\n",
              "      <td>0</td>\n",
              "      <td>0</td>\n",
              "      <td>0</td>\n",
              "      <td>0</td>\n",
              "      <td>0</td>\n",
              "      <td>0</td>\n",
              "      <td>0</td>\n",
              "      <td>0</td>\n",
              "      <td>0</td>\n",
              "      <td>0</td>\n",
              "      <td>0</td>\n",
              "      <td>0</td>\n",
              "      <td>0</td>\n",
              "      <td>0</td>\n",
              "      <td>0</td>\n",
              "      <td>0</td>\n",
              "      <td>0</td>\n",
              "      <td>0</td>\n",
              "    </tr>\n",
              "    <tr>\n",
              "      <th>4</th>\n",
              "      <td>1029.000000</td>\n",
              "      <td>7.0</td>\n",
              "      <td>3216.0</td>\n",
              "      <td>64.000000</td>\n",
              "      <td>4.000000</td>\n",
              "      <td>200.00</td>\n",
              "      <td>0.0</td>\n",
              "      <td>0.0</td>\n",
              "      <td>0.0</td>\n",
              "      <td>4.552446</td>\n",
              "      <td>18.0</td>\n",
              "      <td>224.0</td>\n",
              "      <td>784448.0</td>\n",
              "      <td>0.0</td>\n",
              "      <td>37423.500000</td>\n",
              "      <td>0.0</td>\n",
              "      <td>0.0</td>\n",
              "      <td>56.0</td>\n",
              "      <td>10714.84</td>\n",
              "      <td>215.000000</td>\n",
              "      <td>15111.0</td>\n",
              "      <td>58.000000</td>\n",
              "      <td>0.0</td>\n",
              "      <td>150650.0</td>\n",
              "      <td>66046.0</td>\n",
              "      <td>3255.0</td>\n",
              "      <td>0.0</td>\n",
              "      <td>9.000000</td>\n",
              "      <td>267162.000000</td>\n",
              "      <td>644836.0</td>\n",
              "      <td>0.0</td>\n",
              "      <td>0.0</td>\n",
              "      <td>0.0</td>\n",
              "      <td>0</td>\n",
              "      <td>0</td>\n",
              "      <td>0</td>\n",
              "      <td>0</td>\n",
              "      <td>0</td>\n",
              "      <td>0</td>\n",
              "      <td>0</td>\n",
              "      <td>...</td>\n",
              "      <td>0</td>\n",
              "      <td>0</td>\n",
              "      <td>0</td>\n",
              "      <td>0</td>\n",
              "      <td>0</td>\n",
              "      <td>0</td>\n",
              "      <td>0</td>\n",
              "      <td>1</td>\n",
              "      <td>0</td>\n",
              "      <td>0</td>\n",
              "      <td>0</td>\n",
              "      <td>0</td>\n",
              "      <td>0</td>\n",
              "      <td>0</td>\n",
              "      <td>0</td>\n",
              "      <td>0</td>\n",
              "      <td>0</td>\n",
              "      <td>0</td>\n",
              "      <td>1</td>\n",
              "      <td>0</td>\n",
              "      <td>0</td>\n",
              "      <td>0</td>\n",
              "      <td>0</td>\n",
              "      <td>0</td>\n",
              "      <td>0</td>\n",
              "      <td>0</td>\n",
              "      <td>0</td>\n",
              "      <td>0</td>\n",
              "      <td>0</td>\n",
              "      <td>0</td>\n",
              "      <td>0</td>\n",
              "      <td>0</td>\n",
              "      <td>0</td>\n",
              "      <td>0</td>\n",
              "      <td>0</td>\n",
              "      <td>0</td>\n",
              "      <td>0</td>\n",
              "      <td>0</td>\n",
              "      <td>0</td>\n",
              "      <td>0</td>\n",
              "    </tr>\n",
              "  </tbody>\n",
              "</table>\n",
              "<p>5 rows × 286 columns</p>\n",
              "</div>"
            ],
            "text/plain": [
              "          Var6  Var7   Var13  ...  appetency_labels  churn_labels  upselling_labels\n",
              "0  1526.000000   7.0   184.0  ...                 0             0                 0\n",
              "1   525.000000   0.0     0.0  ...                 0             1                 0\n",
              "2  5236.000000   7.0   904.0  ...                 0             0                 0\n",
              "3  1390.772846   0.0     0.0  ...                 0             0                 0\n",
              "4  1029.000000   7.0  3216.0  ...                 0             0                 0\n",
              "\n",
              "[5 rows x 286 columns]"
            ]
          },
          "metadata": {
            "tags": []
          },
          "execution_count": 157
        }
      ]
    }
  ]
}